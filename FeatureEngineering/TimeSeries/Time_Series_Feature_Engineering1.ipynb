{
 "cells": [
  {
   "cell_type": "code",
   "execution_count": 5,
   "metadata": {},
   "outputs": [],
   "source": [
    "from pyhive import hive\n",
    "import pandas as pd\n",
    "import matplotlib.pyplot as plt\n",
    "import numpy as np\n",
    "import datetime\n",
    "import seaborn as sns"
   ]
  },
  {
   "cell_type": "code",
   "execution_count": null,
   "metadata": {},
   "outputs": [],
   "source": [
    "# Connect to hive and run query\n",
    "conn = hive.Connection(host = 'hadoop.rcc.uchicago.edu', \n",
    "                       port = 10000, \n",
    "                       username = 'mtoolsidas', \n",
    "                       database = 'dmp_yelp_rs')\n",
    "cursor = conn.cursor()\n",
    "query = 'select r.business_id,r.`date`,r.stars,b.simplified_category from review r join business_basicdata b on r.business_id = b.business_id'\n",
    "cursor.execute(query)\n",
    "res = cursor.fetchall()\n"
   ]
  },
  {
   "cell_type": "code",
   "execution_count": null,
   "metadata": {},
   "outputs": [],
   "source": [
    "# Create df from Hive result\n",
    "df = pd.DataFrame(res, columns = [i[0][2:] for i in cursor.description])"
   ]
  },
  {
   "cell_type": "code",
   "execution_count": null,
   "metadata": {},
   "outputs": [],
   "source": [
    "# Converting `date` column to datetime and extracting date components\n",
    "\n",
    "df['date'] = pd.to_datetime(df['date'], format = '%Y-%m-%d %H:%M:%S')\n",
    "df['just_date'] = df['date'].dt.date\n",
    "df['year'] = df['date'].dt.year\n",
    "df['month'] = df['date'].dt.month\n",
    "df['day'] = df['date'].dt.day\n",
    "df['hour'] = df['date'].dt.hour\n",
    "df['day_name'] = df['date'].dt.day_name()\n",
    "df['month_year'] = df['date'].dt.to_period('M').astype(str)\n",
    "df['week'] = df['date'].dt.to_period('W').astype(str)"
   ]
  },
  {
   "cell_type": "code",
   "execution_count": null,
   "metadata": {},
   "outputs": [],
   "source": [
    "# Grouping data by category and month/year, getting the count of reviews and average stars for each group  \n",
    "\n",
    "group_by_cat = df.groupby(['simplified_category','month_year']).agg({'business_id':'count', 'stars':'mean'})\n",
    "group_by_cat = group_by_cat.rename(columns = {'business_id':'num_reviews'})\n",
    "group_by_cat.index = group_by_cat.index.set_levels([group_by_cat.index.levels[0], pd.to_datetime(group_by_cat.index.levels[1])])"
   ]
  },
  {
   "cell_type": "code",
   "execution_count": null,
   "metadata": {},
   "outputs": [],
   "source": [
    "from statsmodels.tsa.seasonal import seasonal_decompose\n",
    "\n",
    "dfs = []\n",
    "\n",
    "# Looping through each category (index level 0) and performing decomposition analysis\n",
    "for i in set(group_by_cat.index.get_level_values(0)):\n",
    "    \n",
    "    print('starting category {}...'.format(i))\n",
    "    \n",
    "    # refactoring df to have 1 index instead of multi-index (removing category index)\n",
    "    tmp = group_by_cat.xs(i, level = 0, drop_level = True)\n",
    "    # changing index (month_year) to monthly period\n",
    "    tmp.index = tmp.index.to_period('M')\n",
    "    # filling in any missing months in the data and interpolating the values for review count and average stars\n",
    "    tmp = tmp.reindex(pd.period_range(tmp.index[0],tmp.index[-1],freq='M')).interpolate('time')\n",
    "    # turning index back to datetime\n",
    "    tmp.index = tmp.index.to_timestamp()\n",
    "    tmp['simplified_category'] = i\n",
    "    dfs.append(tmp)\n",
    "\n",
    "    print('finished with category {}.'.format(i))\n",
    "    print('--- --- --- ---')"
   ]
  },
  {
   "cell_type": "code",
   "execution_count": null,
   "metadata": {},
   "outputs": [],
   "source": [
    "# Concatenating dfs together \n",
    "final_df = pd.concat(dfs)"
   ]
  },
  {
   "cell_type": "code",
   "execution_count": null,
   "metadata": {},
   "outputs": [],
   "source": [
    "# Function to determine whether pre-covid (1) or not (0)\n",
    "\n",
    "def time_test(x):\n",
    "    if x < pd.to_datetime('2020-02'):\n",
    "        result = 1\n",
    "    else:\n",
    "        result = 0\n",
    "    return result"
   ]
  },
  {
   "cell_type": "code",
   "execution_count": null,
   "metadata": {},
   "outputs": [],
   "source": [
    "# Apply function to date index\n",
    "final_df['is_pre_covid'] = final_df.index.map(time_test)"
   ]
  },
  {
   "cell_type": "code",
   "execution_count": null,
   "metadata": {},
   "outputs": [],
   "source": [
    "# Convert date format to yyyy-mm\n",
    "final_df.index = final_df.index.strftime('%Y-%m')"
   ]
  },
  {
   "cell_type": "code",
   "execution_count": null,
   "metadata": {},
   "outputs": [],
   "source": [
    "# Rename columns\n",
    "final_df = final_df.rename(columns = {'num_reviews':'review_counts', 'stars':'avg_stars'})"
   ]
  },
  {
   "cell_type": "code",
   "execution_count": null,
   "metadata": {},
   "outputs": [],
   "source": [
    "# Rename index\n",
    "final_df.index = final_df.index.rename('month_year')"
   ]
  },
  {
   "cell_type": "code",
   "execution_count": null,
   "metadata": {},
   "outputs": [],
   "source": [
    "# Save result\n",
    "final_df.to_csv('time_series_cat_final2.csv', index = True, index_label = 'month_year')"
   ]
  }
 ],
 "metadata": {
  "kernelspec": {
   "display_name": "Python 3",
   "language": "python",
   "name": "python3"
  },
  "language_info": {
   "codemirror_mode": {
    "name": "ipython",
    "version": 3
   },
   "file_extension": ".py",
   "mimetype": "text/x-python",
   "name": "python",
   "nbconvert_exporter": "python",
   "pygments_lexer": "ipython3",
   "version": "3.8.5"
  }
 },
 "nbformat": 4,
 "nbformat_minor": 5
}
