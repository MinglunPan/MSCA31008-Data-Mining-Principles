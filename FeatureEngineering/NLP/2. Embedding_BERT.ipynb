{
 "cells": [
  {
   "cell_type": "code",
   "execution_count": 1,
   "metadata": {},
   "outputs": [],
   "source": [
    "import sys\n",
    "sys.path.append(\"../Competition/kaggle-toxic-comments-2021\")"
   ]
  },
  {
   "cell_type": "code",
   "execution_count": 2,
   "metadata": {},
   "outputs": [
    {
     "data": {
      "text/plain": [
       "<module 'Embedding' from '../Competition/kaggle-toxic-comments-2021/Embedding.py'>"
      ]
     },
     "execution_count": 2,
     "metadata": {},
     "output_type": "execute_result"
    }
   ],
   "source": [
    "import pandas as pd\n",
    "import json\n",
    "from Config import *\n",
    "from collections import Counter\n",
    "import gensim\n",
    "import TextDataFrame as tdf\n",
    "import utils\n",
    "import Embedding as eb\n",
    "import numpy as np\n",
    "from tqdm.notebook import tqdm\n",
    "import imp\n",
    "imp.reload(tdf)\n",
    "imp.reload(utils)\n",
    "imp.reload(eb)"
   ]
  },
  {
   "cell_type": "code",
   "execution_count": 3,
   "metadata": {},
   "outputs": [],
   "source": [
    "# Loading in cleaned text csv, using just text column\n",
    "data = pd.read_csv(\"cleaned_text_1.csv\", usecols = ['text'])\n",
    "data = data['text']"
   ]
  },
  {
   "cell_type": "code",
   "execution_count": 5,
   "metadata": {},
   "outputs": [
    {
     "data": {
      "text/plain": [
       "0"
      ]
     },
     "execution_count": 5,
     "metadata": {},
     "output_type": "execute_result"
    }
   ],
   "source": [
    "# Initialize batch size, get npy files based on given batch size\n",
    "\n",
    "import os\n",
    "\n",
    "batch_size = 499\n",
    "i_list = [i for i in range(len(data)//batch_size+1) if not os.path.exists('bert/1/value_%d.npy'%i)]\n",
    "len(i_list)"
   ]
  },
  {
   "cell_type": "code",
   "execution_count": 6,
   "metadata": {},
   "outputs": [
    {
     "data": {
      "application/vnd.jupyter.widget-view+json": {
       "model_id": "ce68c20ef0a146418350140d0609f5e6",
       "version_major": 2,
       "version_minor": 0
      },
      "text/plain": [
       "0it [00:00, ?it/s]"
      ]
     },
     "metadata": {},
     "output_type": "display_data"
    }
   ],
   "source": [
    "# Initialize BERT embedding and fit data (text)\n",
    "embedding = eb.Embedding()\n",
    "embedding.fit(data)\n",
    "\n",
    "# For given batch size, get corresponding data batch, use fitted BERT embedding to transform text for that batch\n",
    "# Save result as npy file\n",
    "batch_size = 499\n",
    "for i in tqdm(i_list):\n",
    "    try:\n",
    "        data_batch = data.iloc[i*batch_size:(i+1)*batch_size].fillna(\"\")\n",
    "        bert_result = embedding.transform(method = 'BERT', text_series = data_batch, batch_size = 100)\n",
    "        np.save('bert/1/value_%d.npy'%i,bert_result)\n",
    "    except Exception as e:\n",
    "        print(i,\":\",e)"
   ]
  },
  {
   "cell_type": "code",
   "execution_count": null,
   "metadata": {},
   "outputs": [],
   "source": []
  }
 ],
 "metadata": {
  "kernelspec": {
   "display_name": "Python 3",
   "language": "python",
   "name": "python3"
  },
  "language_info": {
   "codemirror_mode": {
    "name": "ipython",
    "version": 3
   },
   "file_extension": ".py",
   "mimetype": "text/x-python",
   "name": "python",
   "nbconvert_exporter": "python",
   "pygments_lexer": "ipython3",
   "version": "3.8.5"
  }
 },
 "nbformat": 4,
 "nbformat_minor": 5
}
