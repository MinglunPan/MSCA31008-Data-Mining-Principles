{
 "cells": [
  {
   "cell_type": "code",
   "execution_count": 2,
   "id": "80c811e9",
   "metadata": {},
   "outputs": [
    {
     "data": {
      "text/plain": [
       "<module 'Embedding' from '../Competition/kaggle-toxic-comments-2021/Embedding.py'>"
      ]
     },
     "execution_count": 2,
     "metadata": {},
     "output_type": "execute_result"
    }
   ],
   "source": [
    "import pandas as pd\n",
    "import json\n",
    "from Config import *\n",
    "import TextDataFrame as tdf\n",
    "import utils\n",
    "import Embedding as eb\n",
    "import numpy as np\n",
    "from tqdm.notebook import tqdm\n",
    "import imp\n",
    "imp.reload(tdf)\n",
    "imp.reload(utils)\n",
    "imp.reload(eb)"
   ]
  },
  {
   "cell_type": "code",
   "execution_count": 3,
   "id": "5a33cfc1",
   "metadata": {},
   "outputs": [],
   "source": [
    "data_reader = pd.read_json('../data/yelp-dataset/yelp_academic_dataset_review.json', chunksize = 1000, lines = True)"
   ]
  },
  {
   "cell_type": "code",
   "execution_count": 4,
   "id": "8a6e1519",
   "metadata": {},
   "outputs": [
    {
     "name": "stdout",
     "output_type": "stream",
     "text": [
      "1\n",
      "2\n",
      "3\n",
      "4\n",
      "5\n",
      "6\n",
      "7\n",
      "8\n",
      "9\n"
     ]
    }
   ],
   "source": [
    "data_list = []\n",
    "count = 0\n",
    "for chunk in data_reader:\n",
    "    count +=1\n",
    "    print(count)\n",
    "    data_list.append(chunk[['review_id','text']])\n",
    "    del chunk"
   ]
  },
  {
   "cell_type": "code",
   "execution_count": 5,
   "id": "ff004761",
   "metadata": {},
   "outputs": [],
   "source": [
    "data = pd.concat(data_list)\n",
    "del data_list"
   ]
  },
  {
   "cell_type": "code",
   "execution_count": null,
   "id": "78f04b7e",
   "metadata": {},
   "outputs": [],
   "source": [
    "df_processor = tdf.DatasetProcessor(DEFAULT_CLEAN_PROCEDURE)\n",
    "text_series = df_processor.clean_text(data['text'])\n",
    "\n",
    "np.save('all_reviews_cleaned.npy', text_series)\n",
    "text_series = np.load('all_reviews_embedding.npy', allow_pickle = True)"
   ]
  },
  {
   "cell_type": "code",
   "execution_count": 7,
   "id": "28393edd",
   "metadata": {},
   "outputs": [
    {
     "name": "stdout",
     "output_type": "stream",
     "text": [
      "无放回抽不到： 70.22 %\n",
      "有放回抽不到： 70.65 %\n"
     ]
    }
   ],
   "source": [
    "text_col = 'text'\n",
    "sample_size = 300000\n",
    "model_size = 10\n",
    "utils.set_seed(1997)\n",
    "\n",
    "print(\"无放回抽不到：\", round((1 - sample_size / len(data)) ** model_size * 100,2), \"%\")\n",
    "print(\"有放回抽不到：\", round((1 - 1 / len(data)) ** (sample_size * model_size) * 100,2), \"%\")"
   ]
  },
  {
   "cell_type": "code",
   "execution_count": 15,
   "id": "b025a59e",
   "metadata": {},
   "outputs": [],
   "source": [
    "index = data['review_id']"
   ]
  },
  {
   "cell_type": "code",
   "execution_count": 16,
   "id": "ce3a6d71",
   "metadata": {},
   "outputs": [],
   "source": [
    "del data"
   ]
  },
  {
   "cell_type": "code",
   "execution_count": 22,
   "id": "36ba2dd0",
   "metadata": {},
   "outputs": [],
   "source": [
    "data = text_series.to_frame('text')\n",
    "data.index = index"
   ]
  },
  {
   "cell_type": "code",
   "execution_count": 28,
   "id": "4efbcfc3",
   "metadata": {},
   "outputs": [],
   "source": [
    "data.to_parquet('cleaned_text.parquet')"
   ]
  },
  {
   "cell_type": "code",
   "execution_count": 5,
   "id": "9977ad10",
   "metadata": {},
   "outputs": [
    {
     "data": {
      "text/html": [
       "<div>\n",
       "<style scoped>\n",
       "    .dataframe tbody tr th:only-of-type {\n",
       "        vertical-align: middle;\n",
       "    }\n",
       "\n",
       "    .dataframe tbody tr th {\n",
       "        vertical-align: top;\n",
       "    }\n",
       "\n",
       "    .dataframe thead th {\n",
       "        text-align: right;\n",
       "    }\n",
       "</style>\n",
       "<table border=\"1\" class=\"dataframe\">\n",
       "  <thead>\n",
       "    <tr style=\"text-align: right;\">\n",
       "      <th></th>\n",
       "      <th>review_id</th>\n",
       "      <th>user_id</th>\n",
       "      <th>business_id</th>\n",
       "      <th>stars</th>\n",
       "      <th>useful</th>\n",
       "      <th>funny</th>\n",
       "      <th>cool</th>\n",
       "      <th>text</th>\n",
       "      <th>date</th>\n",
       "    </tr>\n",
       "  </thead>\n",
       "  <tbody>\n",
       "    <tr>\n",
       "      <th>0</th>\n",
       "      <td>lWC-xP3rd6obsecCYsGZRg</td>\n",
       "      <td>ak0TdVmGKo4pwqdJSTLwWw</td>\n",
       "      <td>buF9druCkbuXLX526sGELQ</td>\n",
       "      <td>4</td>\n",
       "      <td>3</td>\n",
       "      <td>1</td>\n",
       "      <td>1</td>\n",
       "      <td>Apparently Prides Osteria had a rough summer a...</td>\n",
       "      <td>2014-10-11 03:34:02</td>\n",
       "    </tr>\n",
       "    <tr>\n",
       "      <th>1</th>\n",
       "      <td>8bFej1QE5LXp4O05qjGqXA</td>\n",
       "      <td>YoVfDbnISlW0f7abNQACIg</td>\n",
       "      <td>RA4V8pr014UyUbDvI-LW2A</td>\n",
       "      <td>4</td>\n",
       "      <td>1</td>\n",
       "      <td>0</td>\n",
       "      <td>0</td>\n",
       "      <td>This store is pretty good. Not as great as Wal...</td>\n",
       "      <td>2015-07-03 20:38:25</td>\n",
       "    </tr>\n",
       "    <tr>\n",
       "      <th>2</th>\n",
       "      <td>NDhkzczKjLshODbqDoNLSg</td>\n",
       "      <td>eC5evKn1TWDyHCyQAwguUw</td>\n",
       "      <td>_sS2LBIGNT5NQb6PD1Vtjw</td>\n",
       "      <td>5</td>\n",
       "      <td>0</td>\n",
       "      <td>0</td>\n",
       "      <td>0</td>\n",
       "      <td>I called WVM on the recommendation of a couple...</td>\n",
       "      <td>2013-05-28 20:38:06</td>\n",
       "    </tr>\n",
       "    <tr>\n",
       "      <th>3</th>\n",
       "      <td>T5fAqjjFooT4V0OeZyuk1w</td>\n",
       "      <td>SFQ1jcnGguO0LYWnbbftAA</td>\n",
       "      <td>0AzLzHfOJgL7ROwhdww2ew</td>\n",
       "      <td>2</td>\n",
       "      <td>1</td>\n",
       "      <td>1</td>\n",
       "      <td>1</td>\n",
       "      <td>I've stayed at many Marriott and Renaissance M...</td>\n",
       "      <td>2010-01-08 02:29:15</td>\n",
       "    </tr>\n",
       "    <tr>\n",
       "      <th>4</th>\n",
       "      <td>sjm_uUcQVxab_EeLCqsYLg</td>\n",
       "      <td>0kA0PAJ8QFMeveQWHFqz2A</td>\n",
       "      <td>8zehGz9jnxPqXtOc7KaJxA</td>\n",
       "      <td>4</td>\n",
       "      <td>0</td>\n",
       "      <td>0</td>\n",
       "      <td>0</td>\n",
       "      <td>The food is always great here. The service fro...</td>\n",
       "      <td>2011-07-28 18:05:01</td>\n",
       "    </tr>\n",
       "    <tr>\n",
       "      <th>...</th>\n",
       "      <td>...</td>\n",
       "      <td>...</td>\n",
       "      <td>...</td>\n",
       "      <td>...</td>\n",
       "      <td>...</td>\n",
       "      <td>...</td>\n",
       "      <td>...</td>\n",
       "      <td>...</td>\n",
       "      <td>...</td>\n",
       "    </tr>\n",
       "    <tr>\n",
       "      <th>995</th>\n",
       "      <td>hg4vo-f_0BDSGPzMj-LrdA</td>\n",
       "      <td>HN-2o_s91nULyyIBa7x2Vg</td>\n",
       "      <td>b4PgITSqSWoPhyJ-Mjko7Q</td>\n",
       "      <td>3</td>\n",
       "      <td>0</td>\n",
       "      <td>1</td>\n",
       "      <td>0</td>\n",
       "      <td>Mojo crepes aka when it was \"blue sky\" back in...</td>\n",
       "      <td>2016-07-25 03:48:17</td>\n",
       "    </tr>\n",
       "    <tr>\n",
       "      <th>996</th>\n",
       "      <td>CaoFEIT1oAsOPrfIT0L7mQ</td>\n",
       "      <td>4-zeuXyClhI43r2FleGEdw</td>\n",
       "      <td>xGXzsc-hzam-VArK6eTvtw</td>\n",
       "      <td>5</td>\n",
       "      <td>0</td>\n",
       "      <td>0</td>\n",
       "      <td>0</td>\n",
       "      <td>Divine ambiance. Red walls. Cold ones. Love mu...</td>\n",
       "      <td>2018-02-11 03:29:53</td>\n",
       "    </tr>\n",
       "    <tr>\n",
       "      <th>997</th>\n",
       "      <td>_RDqlhTily1mSmltqJAp0A</td>\n",
       "      <td>LK3NnWGLcnxU2i8PCHFaTA</td>\n",
       "      <td>VkV9tfARXGzUjqmRdze_WA</td>\n",
       "      <td>5</td>\n",
       "      <td>4</td>\n",
       "      <td>0</td>\n",
       "      <td>1</td>\n",
       "      <td>Went here for a birthday celebration.  Birthda...</td>\n",
       "      <td>2010-03-12 18:41:22</td>\n",
       "    </tr>\n",
       "    <tr>\n",
       "      <th>998</th>\n",
       "      <td>EKbOCFXKiR_APXI2mXEsmw</td>\n",
       "      <td>mcPMdBzh8EJWATLvHp5H0A</td>\n",
       "      <td>_rt-Z934kfFzgG19nTrIcQ</td>\n",
       "      <td>5</td>\n",
       "      <td>0</td>\n",
       "      <td>0</td>\n",
       "      <td>0</td>\n",
       "      <td>Great drinks at the tequila bar! Cierra recomm...</td>\n",
       "      <td>2016-05-07 02:12:44</td>\n",
       "    </tr>\n",
       "    <tr>\n",
       "      <th>999</th>\n",
       "      <td>zagjXvZl-lsIOEwibvJnzQ</td>\n",
       "      <td>2Th9kCvo3yydQuHNgayDBw</td>\n",
       "      <td>eAPY_lYEo5FShEaeoXtQKA</td>\n",
       "      <td>5</td>\n",
       "      <td>1</td>\n",
       "      <td>0</td>\n",
       "      <td>0</td>\n",
       "      <td>We come here about once a week. Pizza is delic...</td>\n",
       "      <td>2016-08-25 15:40:15</td>\n",
       "    </tr>\n",
       "  </tbody>\n",
       "</table>\n",
       "<p>1000 rows × 9 columns</p>\n",
       "</div>"
      ],
      "text/plain": [
       "                  review_id                 user_id             business_id  \\\n",
       "0    lWC-xP3rd6obsecCYsGZRg  ak0TdVmGKo4pwqdJSTLwWw  buF9druCkbuXLX526sGELQ   \n",
       "1    8bFej1QE5LXp4O05qjGqXA  YoVfDbnISlW0f7abNQACIg  RA4V8pr014UyUbDvI-LW2A   \n",
       "2    NDhkzczKjLshODbqDoNLSg  eC5evKn1TWDyHCyQAwguUw  _sS2LBIGNT5NQb6PD1Vtjw   \n",
       "3    T5fAqjjFooT4V0OeZyuk1w  SFQ1jcnGguO0LYWnbbftAA  0AzLzHfOJgL7ROwhdww2ew   \n",
       "4    sjm_uUcQVxab_EeLCqsYLg  0kA0PAJ8QFMeveQWHFqz2A  8zehGz9jnxPqXtOc7KaJxA   \n",
       "..                      ...                     ...                     ...   \n",
       "995  hg4vo-f_0BDSGPzMj-LrdA  HN-2o_s91nULyyIBa7x2Vg  b4PgITSqSWoPhyJ-Mjko7Q   \n",
       "996  CaoFEIT1oAsOPrfIT0L7mQ  4-zeuXyClhI43r2FleGEdw  xGXzsc-hzam-VArK6eTvtw   \n",
       "997  _RDqlhTily1mSmltqJAp0A  LK3NnWGLcnxU2i8PCHFaTA  VkV9tfARXGzUjqmRdze_WA   \n",
       "998  EKbOCFXKiR_APXI2mXEsmw  mcPMdBzh8EJWATLvHp5H0A  _rt-Z934kfFzgG19nTrIcQ   \n",
       "999  zagjXvZl-lsIOEwibvJnzQ  2Th9kCvo3yydQuHNgayDBw  eAPY_lYEo5FShEaeoXtQKA   \n",
       "\n",
       "     stars  useful  funny  cool  \\\n",
       "0        4       3      1     1   \n",
       "1        4       1      0     0   \n",
       "2        5       0      0     0   \n",
       "3        2       1      1     1   \n",
       "4        4       0      0     0   \n",
       "..     ...     ...    ...   ...   \n",
       "995      3       0      1     0   \n",
       "996      5       0      0     0   \n",
       "997      5       4      0     1   \n",
       "998      5       0      0     0   \n",
       "999      5       1      0     0   \n",
       "\n",
       "                                                  text                date  \n",
       "0    Apparently Prides Osteria had a rough summer a... 2014-10-11 03:34:02  \n",
       "1    This store is pretty good. Not as great as Wal... 2015-07-03 20:38:25  \n",
       "2    I called WVM on the recommendation of a couple... 2013-05-28 20:38:06  \n",
       "3    I've stayed at many Marriott and Renaissance M... 2010-01-08 02:29:15  \n",
       "4    The food is always great here. The service fro... 2011-07-28 18:05:01  \n",
       "..                                                 ...                 ...  \n",
       "995  Mojo crepes aka when it was \"blue sky\" back in... 2016-07-25 03:48:17  \n",
       "996  Divine ambiance. Red walls. Cold ones. Love mu... 2018-02-11 03:29:53  \n",
       "997  Went here for a birthday celebration.  Birthda... 2010-03-12 18:41:22  \n",
       "998  Great drinks at the tequila bar! Cierra recomm... 2016-05-07 02:12:44  \n",
       "999  We come here about once a week. Pizza is delic... 2016-08-25 15:40:15  \n",
       "\n",
       "[1000 rows x 9 columns]"
      ]
     },
     "execution_count": 5,
     "metadata": {},
     "output_type": "execute_result"
    }
   ],
   "source": [
    "chunk"
   ]
  },
  {
   "cell_type": "code",
   "execution_count": null,
   "id": "1d700cdf",
   "metadata": {},
   "outputs": [],
   "source": []
  }
 ],
 "metadata": {
  "kernelspec": {
   "display_name": "Python 3",
   "language": "python",
   "name": "python3"
  },
  "language_info": {
   "codemirror_mode": {
    "name": "ipython",
    "version": 3
   },
   "file_extension": ".py",
   "mimetype": "text/x-python",
   "name": "python",
   "nbconvert_exporter": "python",
   "pygments_lexer": "ipython3",
   "version": "3.8.8"
  }
 },
 "nbformat": 4,
 "nbformat_minor": 5
}
