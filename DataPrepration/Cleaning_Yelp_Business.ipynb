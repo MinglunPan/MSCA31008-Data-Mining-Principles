{
 "cells": [
  {
   "cell_type": "code",
   "execution_count": 1,
   "metadata": {},
   "outputs": [],
   "source": [
    "import json\n",
    "import ast\n",
    "import pandas as pd\n",
    "pd.set_option(\"display.max_columns\", None)\n",
    "pd.set_option('display.max_colwidth', None)"
   ]
  },
  {
   "cell_type": "code",
   "execution_count": 2,
   "metadata": {
    "jupyter": {
     "source_hidden": true
    }
   },
   "outputs": [
    {
     "data": {
      "text/plain": [
       "'\\n\\ndef flatten_nested_json_df(df):\\n    \\n    print(f\"original shape: {df.shape}\")\\n    print(f\"original columns: {df.columns}\")\\n    \\n    \\n    # search for columns to work on\\n    \\n    d = (df.applymap(type) == dict).any()\\n    dict_columns = d[d].index.tolist()\\n    print(f\"dicts: {dict_columns}\")\\n    \\n    while len(dict_columns) > 0:\\n        new_columns = []\\n\\n        for col in dict_columns:\\n            print(f\"flattening: {col}\")\\n            # explode dictionaries horizontally, adding new columns\\n            horiz_exploded = pd.json_normalize(df[col]).add_prefix(f\\'{col}.\\')\\n            horiz_exploded.index = df.index\\n            df = pd.concat([df, horiz_exploded], axis=1).drop(columns=[col])\\n            new_columns.extend(horiz_exploded.columns) # inplace\\n        \\n        print(\\'checking new columns\\')\\n        d = (df.applymap(type) == dict).any()\\n        dict_columns = d[d].index.tolist()\\n        print(f\"dicts: {dict_columns}\")\\n\\n        \\n        \\n    print(f\"final shape: {df.shape}\")\\n    print(f\"final columns: {df.columns}\")\\n    return df\\n    \\n    \\ndf1 = flatten_nested_json_df(df_b)\\ndf1.head(15)\\n#df1.to_csv(\\'business_flat.csv\\')'"
      ]
     },
     "execution_count": 2,
     "metadata": {},
     "output_type": "execute_result"
    }
   ],
   "source": [
    "# This code was written in Spark environment\n",
    "# Flatten the original dataframe with this code\n",
    "'''\n",
    "\n",
    "def flatten_nested_json_df(df):\n",
    "    \n",
    "    print(f\"original shape: {df.shape}\")\n",
    "    print(f\"original columns: {df.columns}\")\n",
    "    \n",
    "    \n",
    "    # search for columns to work on\n",
    "    \n",
    "    d = (df.applymap(type) == dict).any()\n",
    "    dict_columns = d[d].index.tolist()\n",
    "    print(f\"dicts: {dict_columns}\")\n",
    "    \n",
    "    while len(dict_columns) > 0:\n",
    "        new_columns = []\n",
    "\n",
    "        for col in dict_columns:\n",
    "            print(f\"flattening: {col}\")\n",
    "            # explode dictionaries horizontally, adding new columns\n",
    "            horiz_exploded = pd.json_normalize(df[col]).add_prefix(f'{col}.')\n",
    "            horiz_exploded.index = df.index\n",
    "            df = pd.concat([df, horiz_exploded], axis=1).drop(columns=[col])\n",
    "            new_columns.extend(horiz_exploded.columns) # inplace\n",
    "        \n",
    "        print('checking new columns')\n",
    "        d = (df.applymap(type) == dict).any()\n",
    "        dict_columns = d[d].index.tolist()\n",
    "        print(f\"dicts: {dict_columns}\")\n",
    "\n",
    "        \n",
    "        \n",
    "    print(f\"final shape: {df.shape}\")\n",
    "    print(f\"final columns: {df.columns}\")\n",
    "    return df\n",
    "    \n",
    "    \n",
    "df1 = flatten_nested_json_df(df_b)\n",
    "df1.head(15)\n",
    "#df1.to_csv('business_flat.csv')'''"
   ]
  },
  {
   "cell_type": "code",
   "execution_count": 3,
   "metadata": {},
   "outputs": [
    {
     "name": "stderr",
     "output_type": "stream",
     "text": [
      "C:\\Users\\xu3jo\\anaconda3\\lib\\site-packages\\IPython\\core\\interactiveshell.py:3146: DtypeWarning: Columns (25) have mixed types.Specify dtype option on import or set low_memory=False.\n",
      "  has_raised = await self.run_ast_nodes(code_ast.body, cell_name,\n"
     ]
    }
   ],
   "source": [
    "# Loading the flattened data\n",
    "df_b = pd.read_csv('business_flat.csv', index_col=None)"
   ]
  },
  {
   "cell_type": "code",
   "execution_count": 4,
   "metadata": {},
   "outputs": [],
   "source": [
    "# Drop unused column\n",
    "df_b = df_b.drop('Unnamed: 0', axis = 1)"
   ]
  },
  {
   "cell_type": "code",
   "execution_count": 5,
   "metadata": {},
   "outputs": [
    {
     "data": {
      "text/html": [
       "<div>\n",
       "<style scoped>\n",
       "    .dataframe tbody tr th:only-of-type {\n",
       "        vertical-align: middle;\n",
       "    }\n",
       "\n",
       "    .dataframe tbody tr th {\n",
       "        vertical-align: top;\n",
       "    }\n",
       "\n",
       "    .dataframe thead th {\n",
       "        text-align: right;\n",
       "    }\n",
       "</style>\n",
       "<table border=\"1\" class=\"dataframe\">\n",
       "  <thead>\n",
       "    <tr style=\"text-align: right;\">\n",
       "      <th></th>\n",
       "      <th>business_id</th>\n",
       "      <th>name</th>\n",
       "      <th>address</th>\n",
       "      <th>city</th>\n",
       "      <th>state</th>\n",
       "      <th>postal_code</th>\n",
       "      <th>latitude</th>\n",
       "      <th>longitude</th>\n",
       "      <th>stars</th>\n",
       "      <th>review_count</th>\n",
       "      <th>is_open</th>\n",
       "      <th>categories</th>\n",
       "      <th>attributes.RestaurantsTableService</th>\n",
       "      <th>attributes.WiFi</th>\n",
       "      <th>attributes.BikeParking</th>\n",
       "      <th>attributes.BusinessParking</th>\n",
       "      <th>attributes.BusinessAcceptsCreditCards</th>\n",
       "      <th>attributes.RestaurantsReservations</th>\n",
       "      <th>attributes.WheelchairAccessible</th>\n",
       "      <th>attributes.Caters</th>\n",
       "      <th>attributes.OutdoorSeating</th>\n",
       "      <th>attributes.RestaurantsGoodForGroups</th>\n",
       "      <th>attributes.HappyHour</th>\n",
       "      <th>attributes.BusinessAcceptsBitcoin</th>\n",
       "      <th>attributes.RestaurantsPriceRange2</th>\n",
       "      <th>attributes.Ambience</th>\n",
       "      <th>attributes.HasTV</th>\n",
       "      <th>attributes.Alcohol</th>\n",
       "      <th>attributes.GoodForMeal</th>\n",
       "      <th>attributes.DogsAllowed</th>\n",
       "      <th>attributes.RestaurantsTakeOut</th>\n",
       "      <th>attributes.NoiseLevel</th>\n",
       "      <th>attributes.RestaurantsAttire</th>\n",
       "      <th>attributes.RestaurantsDelivery</th>\n",
       "      <th>attributes.GoodForKids</th>\n",
       "      <th>attributes.ByAppointmentOnly</th>\n",
       "      <th>attributes.AcceptsInsurance</th>\n",
       "      <th>attributes.HairSpecializesIn</th>\n",
       "      <th>attributes.GoodForDancing</th>\n",
       "      <th>attributes.BestNights</th>\n",
       "      <th>attributes.Music</th>\n",
       "      <th>attributes.BYOB</th>\n",
       "      <th>attributes.CoatCheck</th>\n",
       "      <th>attributes.Smoking</th>\n",
       "      <th>attributes.DriveThru</th>\n",
       "      <th>attributes.BYOBCorkage</th>\n",
       "      <th>attributes.Corkage</th>\n",
       "      <th>attributes.RestaurantsCounterService</th>\n",
       "      <th>attributes.AgesAllowed</th>\n",
       "      <th>attributes.DietaryRestrictions</th>\n",
       "      <th>attributes.Open24Hours</th>\n",
       "      <th>hours.Monday</th>\n",
       "      <th>hours.Tuesday</th>\n",
       "      <th>hours.Wednesday</th>\n",
       "      <th>hours.Thursday</th>\n",
       "      <th>hours.Friday</th>\n",
       "      <th>hours.Saturday</th>\n",
       "      <th>hours.Sunday</th>\n",
       "    </tr>\n",
       "  </thead>\n",
       "  <tbody>\n",
       "    <tr>\n",
       "      <th>0</th>\n",
       "      <td>6iYb2HFDywm3zjuRg0shjw</td>\n",
       "      <td>Oskar Blues Taproom</td>\n",
       "      <td>921 Pearl St</td>\n",
       "      <td>Boulder</td>\n",
       "      <td>CO</td>\n",
       "      <td>80302</td>\n",
       "      <td>40.017544</td>\n",
       "      <td>-105.283348</td>\n",
       "      <td>4.0</td>\n",
       "      <td>86</td>\n",
       "      <td>1</td>\n",
       "      <td>Gastropubs, Food, Beer Gardens, Restaurants, Bars, American (Traditional), Beer Bar, Nightlife, Breweries</td>\n",
       "      <td>True</td>\n",
       "      <td>u'free'</td>\n",
       "      <td>True</td>\n",
       "      <td>{'garage': False, 'street': True, 'validated': False, 'lot': False, 'valet': False}</td>\n",
       "      <td>True</td>\n",
       "      <td>False</td>\n",
       "      <td>True</td>\n",
       "      <td>True</td>\n",
       "      <td>True</td>\n",
       "      <td>True</td>\n",
       "      <td>True</td>\n",
       "      <td>False</td>\n",
       "      <td>2</td>\n",
       "      <td>{'touristy': False, 'hipster': False, 'romantic': False, 'divey': False, 'intimate': False, 'trendy': False, 'upscale': False, 'classy': False, 'casual': True}</td>\n",
       "      <td>True</td>\n",
       "      <td>'beer_and_wine'</td>\n",
       "      <td>{'dessert': False, 'latenight': False, 'lunch': False, 'dinner': False, 'brunch': False, 'breakfast': False}</td>\n",
       "      <td>False</td>\n",
       "      <td>True</td>\n",
       "      <td>u'average'</td>\n",
       "      <td>'casual'</td>\n",
       "      <td>None</td>\n",
       "      <td>NaN</td>\n",
       "      <td>NaN</td>\n",
       "      <td>NaN</td>\n",
       "      <td>NaN</td>\n",
       "      <td>NaN</td>\n",
       "      <td>NaN</td>\n",
       "      <td>NaN</td>\n",
       "      <td>NaN</td>\n",
       "      <td>NaN</td>\n",
       "      <td>NaN</td>\n",
       "      <td>NaN</td>\n",
       "      <td>NaN</td>\n",
       "      <td>NaN</td>\n",
       "      <td>NaN</td>\n",
       "      <td>NaN</td>\n",
       "      <td>NaN</td>\n",
       "      <td>NaN</td>\n",
       "      <td>11:0-23:0</td>\n",
       "      <td>11:0-23:0</td>\n",
       "      <td>11:0-23:0</td>\n",
       "      <td>11:0-23:0</td>\n",
       "      <td>11:0-23:0</td>\n",
       "      <td>11:0-23:0</td>\n",
       "      <td>11:0-23:0</td>\n",
       "    </tr>\n",
       "    <tr>\n",
       "      <th>1</th>\n",
       "      <td>tCbdrRPZA0oiIYSmHG3J0w</td>\n",
       "      <td>Flying Elephants at PDX</td>\n",
       "      <td>7000 NE Airport Way</td>\n",
       "      <td>Portland</td>\n",
       "      <td>OR</td>\n",
       "      <td>97218</td>\n",
       "      <td>45.588906</td>\n",
       "      <td>-122.593331</td>\n",
       "      <td>4.0</td>\n",
       "      <td>126</td>\n",
       "      <td>1</td>\n",
       "      <td>Salad, Soup, Sandwiches, Delis, Restaurants, Cafes, Vegetarian</td>\n",
       "      <td>NaN</td>\n",
       "      <td>u'free'</td>\n",
       "      <td>False</td>\n",
       "      <td>{'garage': True, 'street': False, 'validated': False, 'lot': False, 'valet': False}</td>\n",
       "      <td>True</td>\n",
       "      <td>False</td>\n",
       "      <td>NaN</td>\n",
       "      <td>True</td>\n",
       "      <td>False</td>\n",
       "      <td>False</td>\n",
       "      <td>NaN</td>\n",
       "      <td>NaN</td>\n",
       "      <td>2</td>\n",
       "      <td>{'romantic': False, 'intimate': False, 'touristy': False, 'hipster': False, 'divey': False, 'classy': False, 'trendy': False, 'upscale': False, 'casual': True}</td>\n",
       "      <td>False</td>\n",
       "      <td>u'beer_and_wine'</td>\n",
       "      <td>{'dessert': False, 'latenight': False, 'lunch': True, 'dinner': False, 'brunch': False, 'breakfast': True}</td>\n",
       "      <td>NaN</td>\n",
       "      <td>True</td>\n",
       "      <td>u'average'</td>\n",
       "      <td>u'casual'</td>\n",
       "      <td>False</td>\n",
       "      <td>True</td>\n",
       "      <td>False</td>\n",
       "      <td>NaN</td>\n",
       "      <td>NaN</td>\n",
       "      <td>NaN</td>\n",
       "      <td>NaN</td>\n",
       "      <td>NaN</td>\n",
       "      <td>NaN</td>\n",
       "      <td>NaN</td>\n",
       "      <td>NaN</td>\n",
       "      <td>NaN</td>\n",
       "      <td>NaN</td>\n",
       "      <td>NaN</td>\n",
       "      <td>NaN</td>\n",
       "      <td>NaN</td>\n",
       "      <td>NaN</td>\n",
       "      <td>NaN</td>\n",
       "      <td>5:0-18:0</td>\n",
       "      <td>5:0-17:0</td>\n",
       "      <td>5:0-18:0</td>\n",
       "      <td>5:0-18:0</td>\n",
       "      <td>5:0-18:0</td>\n",
       "      <td>5:0-18:0</td>\n",
       "      <td>5:0-18:0</td>\n",
       "    </tr>\n",
       "    <tr>\n",
       "      <th>2</th>\n",
       "      <td>bvN78flM8NLprQ1a1y5dRg</td>\n",
       "      <td>The Reclaimory</td>\n",
       "      <td>4720 Hawthorne Ave</td>\n",
       "      <td>Portland</td>\n",
       "      <td>OR</td>\n",
       "      <td>97214</td>\n",
       "      <td>45.511907</td>\n",
       "      <td>-122.613693</td>\n",
       "      <td>4.5</td>\n",
       "      <td>13</td>\n",
       "      <td>1</td>\n",
       "      <td>Antiques, Fashion, Used, Vintage &amp; Consignment, Shopping, Furniture Stores, Home &amp; Garden</td>\n",
       "      <td>NaN</td>\n",
       "      <td>NaN</td>\n",
       "      <td>False</td>\n",
       "      <td>{'garage': False, 'street': True, 'validated': False, 'lot': False, 'valet': False}</td>\n",
       "      <td>True</td>\n",
       "      <td>NaN</td>\n",
       "      <td>NaN</td>\n",
       "      <td>NaN</td>\n",
       "      <td>NaN</td>\n",
       "      <td>NaN</td>\n",
       "      <td>NaN</td>\n",
       "      <td>NaN</td>\n",
       "      <td>2</td>\n",
       "      <td>NaN</td>\n",
       "      <td>NaN</td>\n",
       "      <td>NaN</td>\n",
       "      <td>NaN</td>\n",
       "      <td>NaN</td>\n",
       "      <td>NaN</td>\n",
       "      <td>NaN</td>\n",
       "      <td>NaN</td>\n",
       "      <td>NaN</td>\n",
       "      <td>NaN</td>\n",
       "      <td>False</td>\n",
       "      <td>NaN</td>\n",
       "      <td>NaN</td>\n",
       "      <td>NaN</td>\n",
       "      <td>NaN</td>\n",
       "      <td>NaN</td>\n",
       "      <td>NaN</td>\n",
       "      <td>NaN</td>\n",
       "      <td>NaN</td>\n",
       "      <td>NaN</td>\n",
       "      <td>NaN</td>\n",
       "      <td>NaN</td>\n",
       "      <td>NaN</td>\n",
       "      <td>NaN</td>\n",
       "      <td>NaN</td>\n",
       "      <td>NaN</td>\n",
       "      <td>NaN</td>\n",
       "      <td>NaN</td>\n",
       "      <td>NaN</td>\n",
       "      <td>11:0-18:0</td>\n",
       "      <td>11:0-18:0</td>\n",
       "      <td>11:0-18:0</td>\n",
       "      <td>11:0-18:0</td>\n",
       "    </tr>\n",
       "    <tr>\n",
       "      <th>3</th>\n",
       "      <td>oaepsyvc0J17qwi8cfrOWg</td>\n",
       "      <td>Great Clips</td>\n",
       "      <td>2566 Enterprise Rd</td>\n",
       "      <td>Orange City</td>\n",
       "      <td>FL</td>\n",
       "      <td>32763</td>\n",
       "      <td>28.914482</td>\n",
       "      <td>-81.295979</td>\n",
       "      <td>3.0</td>\n",
       "      <td>8</td>\n",
       "      <td>1</td>\n",
       "      <td>Beauty &amp; Spas, Hair Salons</td>\n",
       "      <td>NaN</td>\n",
       "      <td>NaN</td>\n",
       "      <td>NaN</td>\n",
       "      <td>NaN</td>\n",
       "      <td>True</td>\n",
       "      <td>NaN</td>\n",
       "      <td>NaN</td>\n",
       "      <td>NaN</td>\n",
       "      <td>NaN</td>\n",
       "      <td>NaN</td>\n",
       "      <td>NaN</td>\n",
       "      <td>NaN</td>\n",
       "      <td>1</td>\n",
       "      <td>NaN</td>\n",
       "      <td>NaN</td>\n",
       "      <td>NaN</td>\n",
       "      <td>NaN</td>\n",
       "      <td>NaN</td>\n",
       "      <td>NaN</td>\n",
       "      <td>NaN</td>\n",
       "      <td>NaN</td>\n",
       "      <td>NaN</td>\n",
       "      <td>True</td>\n",
       "      <td>False</td>\n",
       "      <td>NaN</td>\n",
       "      <td>NaN</td>\n",
       "      <td>NaN</td>\n",
       "      <td>NaN</td>\n",
       "      <td>NaN</td>\n",
       "      <td>NaN</td>\n",
       "      <td>NaN</td>\n",
       "      <td>NaN</td>\n",
       "      <td>NaN</td>\n",
       "      <td>NaN</td>\n",
       "      <td>NaN</td>\n",
       "      <td>NaN</td>\n",
       "      <td>NaN</td>\n",
       "      <td>NaN</td>\n",
       "      <td>NaN</td>\n",
       "      <td>NaN</td>\n",
       "      <td>NaN</td>\n",
       "      <td>NaN</td>\n",
       "      <td>NaN</td>\n",
       "      <td>NaN</td>\n",
       "      <td>NaN</td>\n",
       "      <td>NaN</td>\n",
       "    </tr>\n",
       "    <tr>\n",
       "      <th>4</th>\n",
       "      <td>PE9uqAjdw0E4-8mjGl3wVA</td>\n",
       "      <td>Crossfit Terminus</td>\n",
       "      <td>1046 Memorial Dr SE</td>\n",
       "      <td>Atlanta</td>\n",
       "      <td>GA</td>\n",
       "      <td>30316</td>\n",
       "      <td>33.747027</td>\n",
       "      <td>-84.353424</td>\n",
       "      <td>4.0</td>\n",
       "      <td>14</td>\n",
       "      <td>1</td>\n",
       "      <td>Gyms, Active Life, Interval Training Gyms, Fitness &amp; Instruction</td>\n",
       "      <td>NaN</td>\n",
       "      <td>NaN</td>\n",
       "      <td>NaN</td>\n",
       "      <td>{'garage': False, 'street': False, 'validated': False, 'lot': False, 'valet': False}</td>\n",
       "      <td>True</td>\n",
       "      <td>NaN</td>\n",
       "      <td>NaN</td>\n",
       "      <td>NaN</td>\n",
       "      <td>NaN</td>\n",
       "      <td>NaN</td>\n",
       "      <td>NaN</td>\n",
       "      <td>NaN</td>\n",
       "      <td>NaN</td>\n",
       "      <td>NaN</td>\n",
       "      <td>NaN</td>\n",
       "      <td>NaN</td>\n",
       "      <td>NaN</td>\n",
       "      <td>NaN</td>\n",
       "      <td>NaN</td>\n",
       "      <td>NaN</td>\n",
       "      <td>NaN</td>\n",
       "      <td>NaN</td>\n",
       "      <td>False</td>\n",
       "      <td>NaN</td>\n",
       "      <td>NaN</td>\n",
       "      <td>NaN</td>\n",
       "      <td>NaN</td>\n",
       "      <td>NaN</td>\n",
       "      <td>NaN</td>\n",
       "      <td>NaN</td>\n",
       "      <td>NaN</td>\n",
       "      <td>NaN</td>\n",
       "      <td>NaN</td>\n",
       "      <td>NaN</td>\n",
       "      <td>NaN</td>\n",
       "      <td>NaN</td>\n",
       "      <td>NaN</td>\n",
       "      <td>NaN</td>\n",
       "      <td>NaN</td>\n",
       "      <td>16:0-19:0</td>\n",
       "      <td>16:0-19:0</td>\n",
       "      <td>16:0-19:0</td>\n",
       "      <td>16:0-19:0</td>\n",
       "      <td>16:0-19:0</td>\n",
       "      <td>9:0-11:0</td>\n",
       "      <td>NaN</td>\n",
       "    </tr>\n",
       "  </tbody>\n",
       "</table>\n",
       "</div>"
      ],
      "text/plain": [
       "              business_id                     name              address  \\\n",
       "0  6iYb2HFDywm3zjuRg0shjw      Oskar Blues Taproom         921 Pearl St   \n",
       "1  tCbdrRPZA0oiIYSmHG3J0w  Flying Elephants at PDX  7000 NE Airport Way   \n",
       "2  bvN78flM8NLprQ1a1y5dRg           The Reclaimory   4720 Hawthorne Ave   \n",
       "3  oaepsyvc0J17qwi8cfrOWg              Great Clips   2566 Enterprise Rd   \n",
       "4  PE9uqAjdw0E4-8mjGl3wVA        Crossfit Terminus  1046 Memorial Dr SE   \n",
       "\n",
       "          city state postal_code   latitude   longitude  stars  review_count  \\\n",
       "0      Boulder    CO       80302  40.017544 -105.283348    4.0            86   \n",
       "1     Portland    OR       97218  45.588906 -122.593331    4.0           126   \n",
       "2     Portland    OR       97214  45.511907 -122.613693    4.5            13   \n",
       "3  Orange City    FL       32763  28.914482  -81.295979    3.0             8   \n",
       "4      Atlanta    GA       30316  33.747027  -84.353424    4.0            14   \n",
       "\n",
       "   is_open  \\\n",
       "0        1   \n",
       "1        1   \n",
       "2        1   \n",
       "3        1   \n",
       "4        1   \n",
       "\n",
       "                                                                                                  categories  \\\n",
       "0  Gastropubs, Food, Beer Gardens, Restaurants, Bars, American (Traditional), Beer Bar, Nightlife, Breweries   \n",
       "1                                             Salad, Soup, Sandwiches, Delis, Restaurants, Cafes, Vegetarian   \n",
       "2                  Antiques, Fashion, Used, Vintage & Consignment, Shopping, Furniture Stores, Home & Garden   \n",
       "3                                                                                 Beauty & Spas, Hair Salons   \n",
       "4                                           Gyms, Active Life, Interval Training Gyms, Fitness & Instruction   \n",
       "\n",
       "  attributes.RestaurantsTableService attributes.WiFi attributes.BikeParking  \\\n",
       "0                               True         u'free'                   True   \n",
       "1                                NaN         u'free'                  False   \n",
       "2                                NaN             NaN                  False   \n",
       "3                                NaN             NaN                    NaN   \n",
       "4                                NaN             NaN                    NaN   \n",
       "\n",
       "                                                             attributes.BusinessParking  \\\n",
       "0   {'garage': False, 'street': True, 'validated': False, 'lot': False, 'valet': False}   \n",
       "1   {'garage': True, 'street': False, 'validated': False, 'lot': False, 'valet': False}   \n",
       "2   {'garage': False, 'street': True, 'validated': False, 'lot': False, 'valet': False}   \n",
       "3                                                                                   NaN   \n",
       "4  {'garage': False, 'street': False, 'validated': False, 'lot': False, 'valet': False}   \n",
       "\n",
       "  attributes.BusinessAcceptsCreditCards attributes.RestaurantsReservations  \\\n",
       "0                                  True                              False   \n",
       "1                                  True                              False   \n",
       "2                                  True                                NaN   \n",
       "3                                  True                                NaN   \n",
       "4                                  True                                NaN   \n",
       "\n",
       "  attributes.WheelchairAccessible attributes.Caters attributes.OutdoorSeating  \\\n",
       "0                            True              True                      True   \n",
       "1                             NaN              True                     False   \n",
       "2                             NaN               NaN                       NaN   \n",
       "3                             NaN               NaN                       NaN   \n",
       "4                             NaN               NaN                       NaN   \n",
       "\n",
       "  attributes.RestaurantsGoodForGroups attributes.HappyHour  \\\n",
       "0                                True                 True   \n",
       "1                               False                  NaN   \n",
       "2                                 NaN                  NaN   \n",
       "3                                 NaN                  NaN   \n",
       "4                                 NaN                  NaN   \n",
       "\n",
       "  attributes.BusinessAcceptsBitcoin attributes.RestaurantsPriceRange2  \\\n",
       "0                             False                                 2   \n",
       "1                               NaN                                 2   \n",
       "2                               NaN                                 2   \n",
       "3                               NaN                                 1   \n",
       "4                               NaN                               NaN   \n",
       "\n",
       "                                                                                                                                               attributes.Ambience  \\\n",
       "0  {'touristy': False, 'hipster': False, 'romantic': False, 'divey': False, 'intimate': False, 'trendy': False, 'upscale': False, 'classy': False, 'casual': True}   \n",
       "1  {'romantic': False, 'intimate': False, 'touristy': False, 'hipster': False, 'divey': False, 'classy': False, 'trendy': False, 'upscale': False, 'casual': True}   \n",
       "2                                                                                                                                                              NaN   \n",
       "3                                                                                                                                                              NaN   \n",
       "4                                                                                                                                                              NaN   \n",
       "\n",
       "  attributes.HasTV attributes.Alcohol  \\\n",
       "0             True    'beer_and_wine'   \n",
       "1            False   u'beer_and_wine'   \n",
       "2              NaN                NaN   \n",
       "3              NaN                NaN   \n",
       "4              NaN                NaN   \n",
       "\n",
       "                                                                                         attributes.GoodForMeal  \\\n",
       "0  {'dessert': False, 'latenight': False, 'lunch': False, 'dinner': False, 'brunch': False, 'breakfast': False}   \n",
       "1    {'dessert': False, 'latenight': False, 'lunch': True, 'dinner': False, 'brunch': False, 'breakfast': True}   \n",
       "2                                                                                                           NaN   \n",
       "3                                                                                                           NaN   \n",
       "4                                                                                                           NaN   \n",
       "\n",
       "  attributes.DogsAllowed attributes.RestaurantsTakeOut attributes.NoiseLevel  \\\n",
       "0                  False                          True            u'average'   \n",
       "1                    NaN                          True            u'average'   \n",
       "2                    NaN                           NaN                   NaN   \n",
       "3                    NaN                           NaN                   NaN   \n",
       "4                    NaN                           NaN                   NaN   \n",
       "\n",
       "  attributes.RestaurantsAttire attributes.RestaurantsDelivery  \\\n",
       "0                     'casual'                           None   \n",
       "1                    u'casual'                          False   \n",
       "2                          NaN                            NaN   \n",
       "3                          NaN                            NaN   \n",
       "4                          NaN                            NaN   \n",
       "\n",
       "  attributes.GoodForKids attributes.ByAppointmentOnly  \\\n",
       "0                    NaN                          NaN   \n",
       "1                   True                        False   \n",
       "2                    NaN                        False   \n",
       "3                   True                        False   \n",
       "4                  False                          NaN   \n",
       "\n",
       "  attributes.AcceptsInsurance attributes.HairSpecializesIn  \\\n",
       "0                         NaN                          NaN   \n",
       "1                         NaN                          NaN   \n",
       "2                         NaN                          NaN   \n",
       "3                         NaN                          NaN   \n",
       "4                         NaN                          NaN   \n",
       "\n",
       "  attributes.GoodForDancing attributes.BestNights attributes.Music  \\\n",
       "0                       NaN                   NaN              NaN   \n",
       "1                       NaN                   NaN              NaN   \n",
       "2                       NaN                   NaN              NaN   \n",
       "3                       NaN                   NaN              NaN   \n",
       "4                       NaN                   NaN              NaN   \n",
       "\n",
       "  attributes.BYOB attributes.CoatCheck attributes.Smoking  \\\n",
       "0             NaN                  NaN                NaN   \n",
       "1             NaN                  NaN                NaN   \n",
       "2             NaN                  NaN                NaN   \n",
       "3             NaN                  NaN                NaN   \n",
       "4             NaN                  NaN                NaN   \n",
       "\n",
       "  attributes.DriveThru attributes.BYOBCorkage attributes.Corkage  \\\n",
       "0                  NaN                    NaN                NaN   \n",
       "1                  NaN                    NaN                NaN   \n",
       "2                  NaN                    NaN                NaN   \n",
       "3                  NaN                    NaN                NaN   \n",
       "4                  NaN                    NaN                NaN   \n",
       "\n",
       "  attributes.RestaurantsCounterService attributes.AgesAllowed  \\\n",
       "0                                  NaN                    NaN   \n",
       "1                                  NaN                    NaN   \n",
       "2                                  NaN                    NaN   \n",
       "3                                  NaN                    NaN   \n",
       "4                                  NaN                    NaN   \n",
       "\n",
       "  attributes.DietaryRestrictions attributes.Open24Hours hours.Monday  \\\n",
       "0                            NaN                    NaN    11:0-23:0   \n",
       "1                            NaN                    NaN     5:0-18:0   \n",
       "2                            NaN                    NaN          NaN   \n",
       "3                            NaN                    NaN          NaN   \n",
       "4                            NaN                    NaN    16:0-19:0   \n",
       "\n",
       "  hours.Tuesday hours.Wednesday hours.Thursday hours.Friday hours.Saturday  \\\n",
       "0     11:0-23:0       11:0-23:0      11:0-23:0    11:0-23:0      11:0-23:0   \n",
       "1      5:0-17:0        5:0-18:0       5:0-18:0     5:0-18:0       5:0-18:0   \n",
       "2           NaN             NaN      11:0-18:0    11:0-18:0      11:0-18:0   \n",
       "3           NaN             NaN            NaN          NaN            NaN   \n",
       "4     16:0-19:0       16:0-19:0      16:0-19:0    16:0-19:0       9:0-11:0   \n",
       "\n",
       "  hours.Sunday  \n",
       "0    11:0-23:0  \n",
       "1     5:0-18:0  \n",
       "2    11:0-18:0  \n",
       "3          NaN  \n",
       "4          NaN  "
      ]
     },
     "execution_count": 5,
     "metadata": {},
     "output_type": "execute_result"
    }
   ],
   "source": [
    "df_b.head()"
   ]
  },
  {
   "cell_type": "code",
   "execution_count": 6,
   "metadata": {},
   "outputs": [
    {
     "data": {
      "text/plain": [
       "0    6iYb2HFDywm3zjuRg0shjw\n",
       "1    tCbdrRPZA0oiIYSmHG3J0w\n",
       "2    bvN78flM8NLprQ1a1y5dRg\n",
       "3    oaepsyvc0J17qwi8cfrOWg\n",
       "4    PE9uqAjdw0E4-8mjGl3wVA\n",
       "Name: business_id, dtype: object"
      ]
     },
     "execution_count": 6,
     "metadata": {},
     "output_type": "execute_result"
    }
   ],
   "source": [
    "# Getting just business ids\n",
    "business_id = df_b.iloc[:,0]\n",
    "business_id.head()"
   ]
  },
  {
   "cell_type": "code",
   "execution_count": 7,
   "metadata": {},
   "outputs": [],
   "source": [
    "# Fill NaN with False\n",
    "df_a = df_b.iloc[:,12:51].fillna(False)"
   ]
  },
  {
   "cell_type": "markdown",
   "metadata": {},
   "source": [
    "### Business Data"
   ]
  },
  {
   "cell_type": "code",
   "execution_count": 8,
   "metadata": {},
   "outputs": [
    {
     "data": {
      "text/plain": [
       "(160585, 12)"
      ]
     },
     "execution_count": 8,
     "metadata": {},
     "output_type": "execute_result"
    }
   ],
   "source": [
    "# Getting business data columns\n",
    "df_businessdata = df_b.iloc[:,0:12]\n",
    "df_businessdata.shape"
   ]
  },
  {
   "cell_type": "code",
   "execution_count": 9,
   "metadata": {},
   "outputs": [
    {
     "data": {
      "text/html": [
       "<div>\n",
       "<style scoped>\n",
       "    .dataframe tbody tr th:only-of-type {\n",
       "        vertical-align: middle;\n",
       "    }\n",
       "\n",
       "    .dataframe tbody tr th {\n",
       "        vertical-align: top;\n",
       "    }\n",
       "\n",
       "    .dataframe thead th {\n",
       "        text-align: right;\n",
       "    }\n",
       "</style>\n",
       "<table border=\"1\" class=\"dataframe\">\n",
       "  <thead>\n",
       "    <tr style=\"text-align: right;\">\n",
       "      <th></th>\n",
       "      <th>latitude</th>\n",
       "      <th>longitude</th>\n",
       "      <th>stars</th>\n",
       "      <th>review_count</th>\n",
       "      <th>is_open</th>\n",
       "    </tr>\n",
       "  </thead>\n",
       "  <tbody>\n",
       "    <tr>\n",
       "      <th>count</th>\n",
       "      <td>160585.000000</td>\n",
       "      <td>160585.000000</td>\n",
       "      <td>160585.000000</td>\n",
       "      <td>160585.000000</td>\n",
       "      <td>160585.000000</td>\n",
       "    </tr>\n",
       "    <tr>\n",
       "      <th>mean</th>\n",
       "      <td>38.759794</td>\n",
       "      <td>-94.266212</td>\n",
       "      <td>3.656954</td>\n",
       "      <td>51.964548</td>\n",
       "      <td>0.767494</td>\n",
       "    </tr>\n",
       "    <tr>\n",
       "      <th>std</th>\n",
       "      <td>7.138042</td>\n",
       "      <td>19.975446</td>\n",
       "      <td>0.943604</td>\n",
       "      <td>130.030448</td>\n",
       "      <td>0.422431</td>\n",
       "    </tr>\n",
       "    <tr>\n",
       "      <th>min</th>\n",
       "      <td>27.998972</td>\n",
       "      <td>-123.393928</td>\n",
       "      <td>1.000000</td>\n",
       "      <td>5.000000</td>\n",
       "      <td>0.000000</td>\n",
       "    </tr>\n",
       "    <tr>\n",
       "      <th>25%</th>\n",
       "      <td>30.355886</td>\n",
       "      <td>-122.589583</td>\n",
       "      <td>3.000000</td>\n",
       "      <td>8.000000</td>\n",
       "      <td>1.000000</td>\n",
       "    </tr>\n",
       "    <tr>\n",
       "      <th>50%</th>\n",
       "      <td>42.177366</td>\n",
       "      <td>-84.383281</td>\n",
       "      <td>4.000000</td>\n",
       "      <td>17.000000</td>\n",
       "      <td>1.000000</td>\n",
       "    </tr>\n",
       "    <tr>\n",
       "      <th>75%</th>\n",
       "      <td>45.458531</td>\n",
       "      <td>-81.288501</td>\n",
       "      <td>4.500000</td>\n",
       "      <td>44.000000</td>\n",
       "      <td>1.000000</td>\n",
       "    </tr>\n",
       "    <tr>\n",
       "      <th>max</th>\n",
       "      <td>49.490000</td>\n",
       "      <td>71.113271</td>\n",
       "      <td>5.000000</td>\n",
       "      <td>9185.000000</td>\n",
       "      <td>1.000000</td>\n",
       "    </tr>\n",
       "  </tbody>\n",
       "</table>\n",
       "</div>"
      ],
      "text/plain": [
       "            latitude      longitude          stars   review_count  \\\n",
       "count  160585.000000  160585.000000  160585.000000  160585.000000   \n",
       "mean       38.759794     -94.266212       3.656954      51.964548   \n",
       "std         7.138042      19.975446       0.943604     130.030448   \n",
       "min        27.998972    -123.393928       1.000000       5.000000   \n",
       "25%        30.355886    -122.589583       3.000000       8.000000   \n",
       "50%        42.177366     -84.383281       4.000000      17.000000   \n",
       "75%        45.458531     -81.288501       4.500000      44.000000   \n",
       "max        49.490000      71.113271       5.000000    9185.000000   \n",
       "\n",
       "             is_open  \n",
       "count  160585.000000  \n",
       "mean        0.767494  \n",
       "std         0.422431  \n",
       "min         0.000000  \n",
       "25%         1.000000  \n",
       "50%         1.000000  \n",
       "75%         1.000000  \n",
       "max         1.000000  "
      ]
     },
     "execution_count": 9,
     "metadata": {},
     "output_type": "execute_result"
    }
   ],
   "source": [
    "df_businessdata.describe() # No missing value here"
   ]
  },
  {
   "cell_type": "code",
   "execution_count": 10,
   "metadata": {},
   "outputs": [
    {
     "data": {
      "text/plain": [
       "business_id        0\n",
       "name               0\n",
       "address         6726\n",
       "city               0\n",
       "state              0\n",
       "postal_code      110\n",
       "latitude           0\n",
       "longitude          0\n",
       "stars              0\n",
       "review_count       0\n",
       "is_open            0\n",
       "categories       115\n",
       "dtype: int64"
      ]
     },
     "execution_count": 10,
     "metadata": {},
     "output_type": "execute_result"
    }
   ],
   "source": [
    "# Checking nulls\n",
    "df_businessdata.isnull().sum()"
   ]
  },
  {
   "cell_type": "code",
   "execution_count": 11,
   "metadata": {},
   "outputs": [],
   "source": [
    "# Writing to csv\n",
    "\n",
    "df_businessdata.to_csv('df_business_basicdata.csv')"
   ]
  },
  {
   "cell_type": "markdown",
   "metadata": {},
   "source": [
    "### Working on Ambience"
   ]
  },
  {
   "cell_type": "code",
   "execution_count": 12,
   "metadata": {},
   "outputs": [
    {
     "name": "stdout",
     "output_type": "stream",
     "text": [
      "hipster, casual\n"
     ]
    }
   ],
   "source": [
    "# Trying code that returns labels with true\n",
    "#df_b['attributes.Ambience'].head(50)\n",
    "# There are places with 2 or more 'Ambience'\n",
    "a = {'touristy': False, 'hipster': True, 'romantic': False, 'divey': False, 'intimate': False, 'trendy': False, 'upscale': False, 'classy': False, 'casual': True}\n",
    "new_value = str()\n",
    "for key in a.keys():\n",
    "    if a[key]:\n",
    "        new_value = new_value + str(key) + ', '\n",
    "new_value = new_value[:-2]\n",
    "print(new_value)"
   ]
  },
  {
   "cell_type": "code",
   "execution_count": 13,
   "metadata": {
    "jupyter": {
     "source_hidden": true
    }
   },
   "outputs": [],
   "source": [
    "# Function for if row have > 5 attributes\n",
    "def row_stuff(row):\n",
    "    if row and len(row)> 5:\n",
    "        row = ast.literal_eval(row)\n",
    "    else:\n",
    "        row = False"
   ]
  },
  {
   "cell_type": "code",
   "execution_count": 14,
   "metadata": {},
   "outputs": [
    {
     "data": {
      "text/plain": [
       "{'casual',\n",
       " 'classy',\n",
       " 'divey',\n",
       " 'hipster',\n",
       " 'intimate',\n",
       " 'romantic',\n",
       " 'touristy',\n",
       " 'trendy',\n",
       " 'upscale'}"
      ]
     },
     "execution_count": 14,
     "metadata": {},
     "output_type": "execute_result"
    }
   ],
   "source": [
    "# Ambience labels but all labels in one column, found amdience set\n",
    "# run the print to find out!\n",
    "#counter = 0\n",
    "ambience_set = set()\n",
    "ambience_dict = dict()\n",
    "for b_id, row in zip(business_id, df_a['attributes.Ambience']):\n",
    "    if row and len(row)> 5:\n",
    "        new_value = list()\n",
    "        row_dict = ast.literal_eval(row)\n",
    "        for key in row_dict.keys():\n",
    "            if row_dict[key]:\n",
    "                new_value.append((key))\n",
    "                ambience_set.add(str(key))\n",
    "        if len(new_value) == 0:\n",
    "                continue\n",
    "    else:\n",
    "        continue\n",
    "#    counter += 1\n",
    "    ambience_dict[b_id] = new_value\n",
    "    #ambience_dict[row[0]] = new_value\n",
    "\n",
    "\n",
    "ambience_set"
   ]
  },
  {
   "cell_type": "code",
   "execution_count": 15,
   "metadata": {},
   "outputs": [],
   "source": [
    "# Dict to DataFrame\n",
    "u = pd.DataFrame.from_dict(ambience_dict, orient='index')\n",
    "df_ambience = pd.get_dummies(u, prefix='', prefix_sep='').max(level=0, axis=1).astype(bool)"
   ]
  },
  {
   "cell_type": "code",
   "execution_count": 16,
   "metadata": {},
   "outputs": [],
   "source": [
    "# Write to csv\n",
    "df_ambience.to_csv('df_business_ambience.csv')"
   ]
  },
  {
   "cell_type": "markdown",
   "metadata": {},
   "source": [
    "### Working on BusinessParking"
   ]
  },
  {
   "cell_type": "code",
   "execution_count": 17,
   "metadata": {},
   "outputs": [
    {
     "data": {
      "text/plain": [
       "{'garage', 'lot', 'street', 'valet', 'validated'}"
      ]
     },
     "execution_count": 17,
     "metadata": {},
     "output_type": "execute_result"
    }
   ],
   "source": [
    "# Cleaning businessparking to get unique valus\n",
    "\n",
    "#counter = 0\n",
    "BusinessParking_set = set()\n",
    "BusinessParking_dict = dict()\n",
    "for b_id, row in zip(business_id, df_a['attributes.BusinessParking']):\n",
    "    if row and len(row)> 5:\n",
    "        new_value = list()\n",
    "        row_dict = ast.literal_eval(row)\n",
    "        for key in row_dict.keys():\n",
    "            if row_dict[key]:\n",
    "                new_value.append((key))\n",
    "                BusinessParking_set.add(str(key))\n",
    "        if len(new_value) == 0:\n",
    "                continue\n",
    "    else:\n",
    "        continue\n",
    "#    counter += 1\n",
    "    BusinessParking_dict[b_id] = new_value\n",
    "\n",
    "BusinessParking_set"
   ]
  },
  {
   "cell_type": "code",
   "execution_count": 18,
   "metadata": {},
   "outputs": [],
   "source": [
    "# Dict to DataFrame\n",
    "u = pd.DataFrame.from_dict(BusinessParking_dict, orient='index')\n",
    "df_businessparking = pd.get_dummies(u, prefix='', prefix_sep='').max(level=0, axis=1).astype(bool)\n",
    "df_businessparking.to_csv('df_business_businessparking.csv')"
   ]
  },
  {
   "cell_type": "markdown",
   "metadata": {},
   "source": [
    "### Working on GoodForMeal"
   ]
  },
  {
   "cell_type": "code",
   "execution_count": 19,
   "metadata": {},
   "outputs": [
    {
     "data": {
      "text/plain": [
       "{'breakfast', 'brunch', 'dessert', 'dinner', 'latenight', 'lunch'}"
      ]
     },
     "execution_count": 19,
     "metadata": {},
     "output_type": "execute_result"
    }
   ],
   "source": [
    "# Cleaning goodformeal in similar fashion\n",
    "#counter = 0\n",
    "GoodForMeal_set = set()\n",
    "GoodForMeal_dict = dict()\n",
    "for b_id, row in zip(business_id, df_a['attributes.GoodForMeal']):\n",
    "    if row and len(row)> 5:\n",
    "        new_value = list()\n",
    "        row_dict = ast.literal_eval(row)\n",
    "        for key in row_dict.keys():\n",
    "            if row_dict[key]:\n",
    "                new_value.append((key))\n",
    "                GoodForMeal_set.add(str(key))\n",
    "        if len(new_value) == 0:\n",
    "                continue\n",
    "    else:\n",
    "        continue\n",
    "#    counter += 1\n",
    "    GoodForMeal_dict[b_id] = new_value\n",
    "\n",
    "GoodForMeal_set"
   ]
  },
  {
   "cell_type": "code",
   "execution_count": 20,
   "metadata": {},
   "outputs": [],
   "source": [
    "# Dict to DataFrame\n",
    "u = pd.DataFrame.from_dict(GoodForMeal_dict, orient='index')\n",
    "df_GoodForMeal = pd.get_dummies(u, prefix='', prefix_sep='').max(level=0, axis=1).astype(bool)\n",
    "df_GoodForMeal.to_csv('df_business_goodformeal.csv')"
   ]
  },
  {
   "cell_type": "markdown",
   "metadata": {},
   "source": [
    "### Working on HairSpecializesIn"
   ]
  },
  {
   "cell_type": "code",
   "execution_count": 21,
   "metadata": {},
   "outputs": [
    {
     "data": {
      "text/plain": [
       "{'africanamerican',\n",
       " 'asian',\n",
       " 'coloring',\n",
       " 'curly',\n",
       " 'extensions',\n",
       " 'kids',\n",
       " 'perms',\n",
       " 'straightperms'}"
      ]
     },
     "execution_count": 21,
     "metadata": {},
     "output_type": "execute_result"
    }
   ],
   "source": [
    "# Cleaning hairspecializesin in similar fashion\n",
    "\n",
    "#counter = 0\n",
    "HairSpecializesIn_set = set()\n",
    "HairSpecializesIn_dict = dict()\n",
    "for b_id, row in zip(business_id, df_a['attributes.HairSpecializesIn']):\n",
    "    if row and len(row)> 5:\n",
    "        new_value = list()\n",
    "        row_dict = ast.literal_eval(row)\n",
    "        for key in row_dict.keys():\n",
    "            if row_dict[key]:\n",
    "                new_value.append((key))\n",
    "                HairSpecializesIn_set.add(str(key))\n",
    "        if len(new_value) == 0:\n",
    "                continue\n",
    "    else:\n",
    "        continue\n",
    "#    counter += 1\n",
    "    HairSpecializesIn_dict[b_id] = new_value\n",
    "\n",
    "HairSpecializesIn_set"
   ]
  },
  {
   "cell_type": "code",
   "execution_count": 22,
   "metadata": {},
   "outputs": [],
   "source": [
    "# Dict to DataFrame\n",
    "u = pd.DataFrame.from_dict(HairSpecializesIn_dict, orient='index')\n",
    "df_HairSpecializesIn = pd.get_dummies(u, prefix='', prefix_sep='').max(level=0, axis=1).astype(bool)\n",
    "df_HairSpecializesIn.to_csv('df_business_hairspecializesin.csv')"
   ]
  },
  {
   "cell_type": "markdown",
   "metadata": {},
   "source": [
    "### Working on Music"
   ]
  },
  {
   "cell_type": "code",
   "execution_count": 23,
   "metadata": {},
   "outputs": [
    {
     "data": {
      "text/plain": [
       "{'background_music', 'dj', 'jukebox', 'karaoke', 'live', 'video'}"
      ]
     },
     "execution_count": 23,
     "metadata": {},
     "output_type": "execute_result"
    }
   ],
   "source": [
    "# Cleaning music in similar fashion\n",
    "\n",
    "#counter = 0\n",
    "Music_set = set()\n",
    "Music_dict = dict()\n",
    "for b_id, row in zip(business_id, df_a['attributes.Music']):\n",
    "    if row and len(row)> 5:\n",
    "        new_value = list()\n",
    "        row_dict = ast.literal_eval(row)\n",
    "        for key in row_dict.keys():\n",
    "            if row_dict[key]:\n",
    "                new_value.append((key))\n",
    "                Music_set.add(str(key))\n",
    "        if len(new_value) == 0:\n",
    "                continue\n",
    "    else:\n",
    "        continue\n",
    "#    counter += 1\n",
    "    Music_dict[b_id] = new_value\n",
    "\n",
    "Music_set"
   ]
  },
  {
   "cell_type": "code",
   "execution_count": 24,
   "metadata": {},
   "outputs": [],
   "source": [
    "# Dict to DataFrame\n",
    "u = pd.DataFrame.from_dict(Music_dict, orient='index')\n",
    "df_Music = pd.get_dummies(u, prefix='', prefix_sep='').max(level=0, axis=1).astype(bool)\n",
    "df_Music.to_csv('df_business_music.csv')"
   ]
  },
  {
   "cell_type": "markdown",
   "metadata": {},
   "source": [
    "### Working on BestNights"
   ]
  },
  {
   "cell_type": "code",
   "execution_count": 25,
   "metadata": {},
   "outputs": [
    {
     "data": {
      "text/plain": [
       "{'friday', 'monday', 'saturday', 'sunday', 'thursday', 'tuesday', 'wednesday'}"
      ]
     },
     "execution_count": 25,
     "metadata": {},
     "output_type": "execute_result"
    }
   ],
   "source": [
    "# Cleaning bestnights in similar fashion\n",
    "\n",
    "#counter = 0\n",
    "BestNights_set = set()\n",
    "BestNights_dict = dict()\n",
    "for b_id, row in zip(business_id, df_a['attributes.BestNights']):\n",
    "    if row and len(row)> 5:\n",
    "        new_value = list()\n",
    "        row_dict = ast.literal_eval(row)\n",
    "        for key in row_dict.keys():\n",
    "            if row_dict[key]:\n",
    "                new_value.append((key))\n",
    "                BestNights_set.add(str(key))\n",
    "        if len(new_value) == 0:\n",
    "                continue\n",
    "    else:\n",
    "        continue\n",
    "#    counter += 1\n",
    "    BestNights_dict[b_id] = new_value\n",
    "\n",
    "BestNights_set"
   ]
  },
  {
   "cell_type": "code",
   "execution_count": 26,
   "metadata": {},
   "outputs": [],
   "source": [
    "# Dict to DataFrame\n",
    "u = pd.DataFrame.from_dict(BestNights_dict, orient='index')\n",
    "df_BestNights = pd.get_dummies(u, prefix='', prefix_sep='').max(level=0, axis=1).astype(bool)\n",
    "df_BestNights.to_csv('df_business_bestnights.csv')"
   ]
  },
  {
   "cell_type": "markdown",
   "metadata": {},
   "source": [
    "### Working on DietaryRestrictions"
   ]
  },
  {
   "cell_type": "code",
   "execution_count": 27,
   "metadata": {},
   "outputs": [
    {
     "data": {
      "text/plain": [
       "{'dairy-free', 'gluten-free', 'vegan', 'vegetarian'}"
      ]
     },
     "execution_count": 27,
     "metadata": {},
     "output_type": "execute_result"
    }
   ],
   "source": [
    "# Cleaning dietaryrestrictions in similar fashion\n",
    "\n",
    "#counter = 0\n",
    "DietaryRestrictions_set = set()\n",
    "DietaryRestrictions_dict = dict()\n",
    "for b_id, row in zip(business_id, df_a['attributes.DietaryRestrictions']):\n",
    "    if row and len(row)> 5:\n",
    "        new_value = list()\n",
    "        row_dict = ast.literal_eval(row)\n",
    "        for key in row_dict.keys():\n",
    "            if row_dict[key]:\n",
    "                new_value.append((key))\n",
    "                DietaryRestrictions_set.add(str(key))\n",
    "        if len(new_value) == 0:\n",
    "                continue\n",
    "    else:\n",
    "        continue\n",
    "#        new_value = []\n",
    "#    counter += 1\n",
    "    DietaryRestrictions_dict[b_id] = new_value\n",
    "\n",
    "DietaryRestrictions_set"
   ]
  },
  {
   "cell_type": "code",
   "execution_count": 28,
   "metadata": {},
   "outputs": [],
   "source": [
    "# Dict to DataFrame\n",
    "u = pd.DataFrame.from_dict(DietaryRestrictions_dict, orient='index')\n",
    "df_DietaryRestrictions = pd.get_dummies(u, prefix='', prefix_sep='').max(level=0, axis=1).astype(bool)\n",
    "df_DietaryRestrictions.to_csv('df_business_dietaryrestrictions.csv')"
   ]
  },
  {
   "cell_type": "code",
   "execution_count": 29,
   "metadata": {},
   "outputs": [
    {
     "data": {
      "text/html": [
       "<div>\n",
       "<style scoped>\n",
       "    .dataframe tbody tr th:only-of-type {\n",
       "        vertical-align: middle;\n",
       "    }\n",
       "\n",
       "    .dataframe tbody tr th {\n",
       "        vertical-align: top;\n",
       "    }\n",
       "\n",
       "    .dataframe thead th {\n",
       "        text-align: right;\n",
       "    }\n",
       "</style>\n",
       "<table border=\"1\" class=\"dataframe\">\n",
       "  <thead>\n",
       "    <tr style=\"text-align: right;\">\n",
       "      <th></th>\n",
       "      <th>dairy-free</th>\n",
       "      <th>gluten-free</th>\n",
       "      <th>vegan</th>\n",
       "      <th>vegetarian</th>\n",
       "    </tr>\n",
       "  </thead>\n",
       "  <tbody>\n",
       "    <tr>\n",
       "      <th>UZFV5Mff58U5MwjE2YGwUg</th>\n",
       "      <td>False</td>\n",
       "      <td>False</td>\n",
       "      <td>True</td>\n",
       "      <td>False</td>\n",
       "    </tr>\n",
       "    <tr>\n",
       "      <th>FYCnuEa2_iXXchsh2PqUyw</th>\n",
       "      <td>False</td>\n",
       "      <td>True</td>\n",
       "      <td>True</td>\n",
       "      <td>True</td>\n",
       "    </tr>\n",
       "    <tr>\n",
       "      <th>Nd7X0L2fKnPdqseYZP48Zg</th>\n",
       "      <td>False</td>\n",
       "      <td>True</td>\n",
       "      <td>True</td>\n",
       "      <td>False</td>\n",
       "    </tr>\n",
       "    <tr>\n",
       "      <th>XG0NEOFrYyXWObPi7AfHyA</th>\n",
       "      <td>True</td>\n",
       "      <td>True</td>\n",
       "      <td>False</td>\n",
       "      <td>False</td>\n",
       "    </tr>\n",
       "    <tr>\n",
       "      <th>dJp3n8pZqGULoPTo4AFRZQ</th>\n",
       "      <td>False</td>\n",
       "      <td>False</td>\n",
       "      <td>True</td>\n",
       "      <td>False</td>\n",
       "    </tr>\n",
       "  </tbody>\n",
       "</table>\n",
       "</div>"
      ],
      "text/plain": [
       "                        dairy-free  gluten-free  vegan  vegetarian\n",
       "UZFV5Mff58U5MwjE2YGwUg       False        False   True       False\n",
       "FYCnuEa2_iXXchsh2PqUyw       False         True   True        True\n",
       "Nd7X0L2fKnPdqseYZP48Zg       False         True   True       False\n",
       "XG0NEOFrYyXWObPi7AfHyA        True         True  False       False\n",
       "dJp3n8pZqGULoPTo4AFRZQ       False        False   True       False"
      ]
     },
     "execution_count": 29,
     "metadata": {},
     "output_type": "execute_result"
    }
   ],
   "source": [
    "df_DietaryRestrictions.head()"
   ]
  },
  {
   "cell_type": "markdown",
   "metadata": {},
   "source": [
    "### Working on the rest"
   ]
  },
  {
   "cell_type": "code",
   "execution_count": 30,
   "metadata": {},
   "outputs": [],
   "source": [
    "# Drop separate tables\n",
    "df_a = df_a.drop(['attributes.BusinessParking', 'attributes.Ambience', 'attributes.GoodForMeal', 'attributes.HairSpecializesIn', 'attributes.BestNights', 'attributes.Music', 'attributes.DietaryRestrictions'], axis = 1)"
   ]
  },
  {
   "cell_type": "code",
   "execution_count": 31,
   "metadata": {},
   "outputs": [
    {
     "data": {
      "text/html": [
       "<div>\n",
       "<style scoped>\n",
       "    .dataframe tbody tr th:only-of-type {\n",
       "        vertical-align: middle;\n",
       "    }\n",
       "\n",
       "    .dataframe tbody tr th {\n",
       "        vertical-align: top;\n",
       "    }\n",
       "\n",
       "    .dataframe thead th {\n",
       "        text-align: right;\n",
       "    }\n",
       "</style>\n",
       "<table border=\"1\" class=\"dataframe\">\n",
       "  <thead>\n",
       "    <tr style=\"text-align: right;\">\n",
       "      <th></th>\n",
       "      <th>attributes.RestaurantsTableService</th>\n",
       "      <th>attributes.WiFi</th>\n",
       "      <th>attributes.BikeParking</th>\n",
       "      <th>attributes.BusinessAcceptsCreditCards</th>\n",
       "      <th>attributes.RestaurantsReservations</th>\n",
       "      <th>attributes.WheelchairAccessible</th>\n",
       "      <th>attributes.Caters</th>\n",
       "      <th>attributes.OutdoorSeating</th>\n",
       "      <th>attributes.RestaurantsGoodForGroups</th>\n",
       "      <th>attributes.HappyHour</th>\n",
       "      <th>attributes.BusinessAcceptsBitcoin</th>\n",
       "      <th>attributes.RestaurantsPriceRange2</th>\n",
       "      <th>attributes.HasTV</th>\n",
       "      <th>attributes.Alcohol</th>\n",
       "      <th>attributes.DogsAllowed</th>\n",
       "      <th>attributes.RestaurantsTakeOut</th>\n",
       "      <th>attributes.NoiseLevel</th>\n",
       "      <th>attributes.RestaurantsAttire</th>\n",
       "      <th>attributes.RestaurantsDelivery</th>\n",
       "      <th>attributes.GoodForKids</th>\n",
       "      <th>attributes.ByAppointmentOnly</th>\n",
       "      <th>attributes.AcceptsInsurance</th>\n",
       "      <th>attributes.GoodForDancing</th>\n",
       "      <th>attributes.BYOB</th>\n",
       "      <th>attributes.CoatCheck</th>\n",
       "      <th>attributes.Smoking</th>\n",
       "      <th>attributes.DriveThru</th>\n",
       "      <th>attributes.BYOBCorkage</th>\n",
       "      <th>attributes.Corkage</th>\n",
       "      <th>attributes.RestaurantsCounterService</th>\n",
       "      <th>attributes.AgesAllowed</th>\n",
       "      <th>attributes.Open24Hours</th>\n",
       "    </tr>\n",
       "  </thead>\n",
       "  <tbody>\n",
       "    <tr>\n",
       "      <th>0</th>\n",
       "      <td>True</td>\n",
       "      <td>u'free'</td>\n",
       "      <td>True</td>\n",
       "      <td>True</td>\n",
       "      <td>False</td>\n",
       "      <td>True</td>\n",
       "      <td>True</td>\n",
       "      <td>True</td>\n",
       "      <td>True</td>\n",
       "      <td>True</td>\n",
       "      <td>False</td>\n",
       "      <td>2</td>\n",
       "      <td>True</td>\n",
       "      <td>'beer_and_wine'</td>\n",
       "      <td>False</td>\n",
       "      <td>True</td>\n",
       "      <td>u'average'</td>\n",
       "      <td>'casual'</td>\n",
       "      <td>None</td>\n",
       "      <td>False</td>\n",
       "      <td>False</td>\n",
       "      <td>False</td>\n",
       "      <td>False</td>\n",
       "      <td>False</td>\n",
       "      <td>False</td>\n",
       "      <td>False</td>\n",
       "      <td>False</td>\n",
       "      <td>False</td>\n",
       "      <td>False</td>\n",
       "      <td>False</td>\n",
       "      <td>False</td>\n",
       "      <td>False</td>\n",
       "    </tr>\n",
       "    <tr>\n",
       "      <th>1</th>\n",
       "      <td>False</td>\n",
       "      <td>u'free'</td>\n",
       "      <td>False</td>\n",
       "      <td>True</td>\n",
       "      <td>False</td>\n",
       "      <td>False</td>\n",
       "      <td>True</td>\n",
       "      <td>False</td>\n",
       "      <td>False</td>\n",
       "      <td>False</td>\n",
       "      <td>False</td>\n",
       "      <td>2</td>\n",
       "      <td>False</td>\n",
       "      <td>u'beer_and_wine'</td>\n",
       "      <td>False</td>\n",
       "      <td>True</td>\n",
       "      <td>u'average'</td>\n",
       "      <td>u'casual'</td>\n",
       "      <td>False</td>\n",
       "      <td>True</td>\n",
       "      <td>False</td>\n",
       "      <td>False</td>\n",
       "      <td>False</td>\n",
       "      <td>False</td>\n",
       "      <td>False</td>\n",
       "      <td>False</td>\n",
       "      <td>False</td>\n",
       "      <td>False</td>\n",
       "      <td>False</td>\n",
       "      <td>False</td>\n",
       "      <td>False</td>\n",
       "      <td>False</td>\n",
       "    </tr>\n",
       "    <tr>\n",
       "      <th>2</th>\n",
       "      <td>False</td>\n",
       "      <td>False</td>\n",
       "      <td>False</td>\n",
       "      <td>True</td>\n",
       "      <td>False</td>\n",
       "      <td>False</td>\n",
       "      <td>False</td>\n",
       "      <td>False</td>\n",
       "      <td>False</td>\n",
       "      <td>False</td>\n",
       "      <td>False</td>\n",
       "      <td>2</td>\n",
       "      <td>False</td>\n",
       "      <td>False</td>\n",
       "      <td>False</td>\n",
       "      <td>False</td>\n",
       "      <td>False</td>\n",
       "      <td>False</td>\n",
       "      <td>False</td>\n",
       "      <td>False</td>\n",
       "      <td>False</td>\n",
       "      <td>False</td>\n",
       "      <td>False</td>\n",
       "      <td>False</td>\n",
       "      <td>False</td>\n",
       "      <td>False</td>\n",
       "      <td>False</td>\n",
       "      <td>False</td>\n",
       "      <td>False</td>\n",
       "      <td>False</td>\n",
       "      <td>False</td>\n",
       "      <td>False</td>\n",
       "    </tr>\n",
       "    <tr>\n",
       "      <th>3</th>\n",
       "      <td>False</td>\n",
       "      <td>False</td>\n",
       "      <td>False</td>\n",
       "      <td>True</td>\n",
       "      <td>False</td>\n",
       "      <td>False</td>\n",
       "      <td>False</td>\n",
       "      <td>False</td>\n",
       "      <td>False</td>\n",
       "      <td>False</td>\n",
       "      <td>False</td>\n",
       "      <td>1</td>\n",
       "      <td>False</td>\n",
       "      <td>False</td>\n",
       "      <td>False</td>\n",
       "      <td>False</td>\n",
       "      <td>False</td>\n",
       "      <td>False</td>\n",
       "      <td>False</td>\n",
       "      <td>True</td>\n",
       "      <td>False</td>\n",
       "      <td>False</td>\n",
       "      <td>False</td>\n",
       "      <td>False</td>\n",
       "      <td>False</td>\n",
       "      <td>False</td>\n",
       "      <td>False</td>\n",
       "      <td>False</td>\n",
       "      <td>False</td>\n",
       "      <td>False</td>\n",
       "      <td>False</td>\n",
       "      <td>False</td>\n",
       "    </tr>\n",
       "    <tr>\n",
       "      <th>4</th>\n",
       "      <td>False</td>\n",
       "      <td>False</td>\n",
       "      <td>False</td>\n",
       "      <td>True</td>\n",
       "      <td>False</td>\n",
       "      <td>False</td>\n",
       "      <td>False</td>\n",
       "      <td>False</td>\n",
       "      <td>False</td>\n",
       "      <td>False</td>\n",
       "      <td>False</td>\n",
       "      <td>False</td>\n",
       "      <td>False</td>\n",
       "      <td>False</td>\n",
       "      <td>False</td>\n",
       "      <td>False</td>\n",
       "      <td>False</td>\n",
       "      <td>False</td>\n",
       "      <td>False</td>\n",
       "      <td>False</td>\n",
       "      <td>False</td>\n",
       "      <td>False</td>\n",
       "      <td>False</td>\n",
       "      <td>False</td>\n",
       "      <td>False</td>\n",
       "      <td>False</td>\n",
       "      <td>False</td>\n",
       "      <td>False</td>\n",
       "      <td>False</td>\n",
       "      <td>False</td>\n",
       "      <td>False</td>\n",
       "      <td>False</td>\n",
       "    </tr>\n",
       "  </tbody>\n",
       "</table>\n",
       "</div>"
      ],
      "text/plain": [
       "  attributes.RestaurantsTableService attributes.WiFi attributes.BikeParking  \\\n",
       "0                               True         u'free'                   True   \n",
       "1                              False         u'free'                  False   \n",
       "2                              False           False                  False   \n",
       "3                              False           False                  False   \n",
       "4                              False           False                  False   \n",
       "\n",
       "  attributes.BusinessAcceptsCreditCards attributes.RestaurantsReservations  \\\n",
       "0                                  True                              False   \n",
       "1                                  True                              False   \n",
       "2                                  True                              False   \n",
       "3                                  True                              False   \n",
       "4                                  True                              False   \n",
       "\n",
       "  attributes.WheelchairAccessible attributes.Caters attributes.OutdoorSeating  \\\n",
       "0                            True              True                      True   \n",
       "1                           False              True                     False   \n",
       "2                           False             False                     False   \n",
       "3                           False             False                     False   \n",
       "4                           False             False                     False   \n",
       "\n",
       "  attributes.RestaurantsGoodForGroups attributes.HappyHour  \\\n",
       "0                                True                 True   \n",
       "1                               False                False   \n",
       "2                               False                False   \n",
       "3                               False                False   \n",
       "4                               False                False   \n",
       "\n",
       "  attributes.BusinessAcceptsBitcoin attributes.RestaurantsPriceRange2  \\\n",
       "0                             False                                 2   \n",
       "1                             False                                 2   \n",
       "2                             False                                 2   \n",
       "3                             False                                 1   \n",
       "4                             False                             False   \n",
       "\n",
       "  attributes.HasTV attributes.Alcohol attributes.DogsAllowed  \\\n",
       "0             True    'beer_and_wine'                  False   \n",
       "1            False   u'beer_and_wine'                  False   \n",
       "2            False              False                  False   \n",
       "3            False              False                  False   \n",
       "4            False              False                  False   \n",
       "\n",
       "  attributes.RestaurantsTakeOut attributes.NoiseLevel  \\\n",
       "0                          True            u'average'   \n",
       "1                          True            u'average'   \n",
       "2                         False                 False   \n",
       "3                         False                 False   \n",
       "4                         False                 False   \n",
       "\n",
       "  attributes.RestaurantsAttire attributes.RestaurantsDelivery  \\\n",
       "0                     'casual'                           None   \n",
       "1                    u'casual'                          False   \n",
       "2                        False                          False   \n",
       "3                        False                          False   \n",
       "4                        False                          False   \n",
       "\n",
       "  attributes.GoodForKids attributes.ByAppointmentOnly  \\\n",
       "0                  False                        False   \n",
       "1                   True                        False   \n",
       "2                  False                        False   \n",
       "3                   True                        False   \n",
       "4                  False                        False   \n",
       "\n",
       "  attributes.AcceptsInsurance attributes.GoodForDancing attributes.BYOB  \\\n",
       "0                       False                     False           False   \n",
       "1                       False                     False           False   \n",
       "2                       False                     False           False   \n",
       "3                       False                     False           False   \n",
       "4                       False                     False           False   \n",
       "\n",
       "  attributes.CoatCheck attributes.Smoking attributes.DriveThru  \\\n",
       "0                False              False                False   \n",
       "1                False              False                False   \n",
       "2                False              False                False   \n",
       "3                False              False                False   \n",
       "4                False              False                False   \n",
       "\n",
       "  attributes.BYOBCorkage attributes.Corkage  \\\n",
       "0                  False              False   \n",
       "1                  False              False   \n",
       "2                  False              False   \n",
       "3                  False              False   \n",
       "4                  False              False   \n",
       "\n",
       "   attributes.RestaurantsCounterService attributes.AgesAllowed  \\\n",
       "0                                 False                  False   \n",
       "1                                 False                  False   \n",
       "2                                 False                  False   \n",
       "3                                 False                  False   \n",
       "4                                 False                  False   \n",
       "\n",
       "   attributes.Open24Hours  \n",
       "0                   False  \n",
       "1                   False  \n",
       "2                   False  \n",
       "3                   False  \n",
       "4                   False  "
      ]
     },
     "execution_count": 31,
     "metadata": {},
     "output_type": "execute_result"
    }
   ],
   "source": [
    "df_a.head()"
   ]
  },
  {
   "cell_type": "code",
   "execution_count": 32,
   "metadata": {},
   "outputs": [],
   "source": [
    "# Function for stripping strings\n",
    "\n",
    "def strip_stuff(x):\n",
    "    if x:\n",
    "        x = str(x).strip('u').strip(\"'\")\n",
    "        if x == \"None\":\n",
    "            return False\n",
    "        else: \n",
    "            return x\n",
    "    return False"
   ]
  },
  {
   "cell_type": "code",
   "execution_count": 33,
   "metadata": {},
   "outputs": [
    {
     "data": {
      "text/plain": [
       "False    142918\n",
       "True       9004\n",
       "False      6414\n",
       "True       2239\n",
       "None         10\n",
       "Name: attributes.RestaurantsTableService, dtype: int64"
      ]
     },
     "execution_count": 33,
     "metadata": {},
     "output_type": "execute_result"
    }
   ],
   "source": [
    "# RestaurantsTableService value counts\n",
    "df_a['attributes.RestaurantsTableService'].value_counts()"
   ]
  },
  {
   "cell_type": "code",
   "execution_count": 34,
   "metadata": {},
   "outputs": [
    {
     "data": {
      "text/plain": [
       "array(['True', False, 'False', 'None', True], dtype=object)"
      ]
     },
     "execution_count": 34,
     "metadata": {},
     "output_type": "execute_result"
    }
   ],
   "source": [
    "# RestaurantTableService unique values\n",
    "df_a['attributes.RestaurantsTableService'].unique()"
   ]
  },
  {
   "cell_type": "code",
   "execution_count": 35,
   "metadata": {},
   "outputs": [
    {
     "data": {
      "text/plain": [
       "False    149342\n",
       "True      11243\n",
       "Name: attributes.RestaurantsTableService, dtype: int64"
      ]
     },
     "execution_count": 35,
     "metadata": {},
     "output_type": "execute_result"
    }
   ],
   "source": [
    "# Standardizing True/False from strings/booleans\n",
    "df_a['attributes.RestaurantsTableService'] = df_a['attributes.RestaurantsTableService'].apply(lambda x: True if x == 'True' or x == True else False)\n",
    "df_a['attributes.RestaurantsTableService'].value_counts()"
   ]
  },
  {
   "cell_type": "code",
   "execution_count": 36,
   "metadata": {},
   "outputs": [
    {
     "data": {
      "text/plain": [
       "False      101568\n",
       "u'free'     29051\n",
       "u'no'       16127\n",
       "'free'       7699\n",
       "'no'         5410\n",
       "u'paid'       551\n",
       "'paid'        128\n",
       "None           51\n",
       "Name: attributes.WiFi, dtype: int64"
      ]
     },
     "execution_count": 36,
     "metadata": {},
     "output_type": "execute_result"
    }
   ],
   "source": [
    "# WiFi value counts\n",
    "df_a['attributes.WiFi'].value_counts()"
   ]
  },
  {
   "cell_type": "code",
   "execution_count": 37,
   "metadata": {},
   "outputs": [
    {
     "data": {
      "text/plain": [
       "False    101619\n",
       "free      36750\n",
       "no        21537\n",
       "paid        679\n",
       "Name: attributes.WiFi, dtype: int64"
      ]
     },
     "execution_count": 37,
     "metadata": {},
     "output_type": "execute_result"
    }
   ],
   "source": [
    "# Stripping WiFi values to standardize\n",
    "df_a['attributes.WiFi'] = df_a['attributes.WiFi'].apply(strip_stuff)\n",
    "df_a['attributes.WiFi'].value_counts()"
   ]
  },
  {
   "cell_type": "code",
   "execution_count": 38,
   "metadata": {},
   "outputs": [
    {
     "data": {
      "text/plain": [
       "False    84105\n",
       "True     61365\n",
       "False    15057\n",
       "None        58\n",
       "Name: attributes.BikeParking, dtype: int64"
      ]
     },
     "execution_count": 38,
     "metadata": {},
     "output_type": "execute_result"
    }
   ],
   "source": [
    "# BikeParking value counts\n",
    "df_a['attributes.BikeParking'].value_counts()"
   ]
  },
  {
   "cell_type": "code",
   "execution_count": 39,
   "metadata": {},
   "outputs": [
    {
     "data": {
      "text/plain": [
       "False    99220\n",
       "True     61365\n",
       "Name: attributes.BikeParking, dtype: int64"
      ]
     },
     "execution_count": 39,
     "metadata": {},
     "output_type": "execute_result"
    }
   ],
   "source": [
    "# Standardizing BikeParking for True/False\n",
    "df_a['attributes.BikeParking'] = df_a['attributes.BikeParking'].apply(lambda x: True if x == 'True' or x == True else False)\n",
    "df_a['attributes.BikeParking'].value_counts()"
   ]
  },
  {
   "cell_type": "code",
   "execution_count": 40,
   "metadata": {},
   "outputs": [
    {
     "data": {
      "text/plain": [
       "True     113019\n",
       "False     40408\n",
       "False      7105\n",
       "None         53\n",
       "Name: attributes.BusinessAcceptsCreditCards, dtype: int64"
      ]
     },
     "execution_count": 40,
     "metadata": {},
     "output_type": "execute_result"
    }
   ],
   "source": [
    "# BusinessAcceptsCreditCards value counts\n",
    "df_a['attributes.BusinessAcceptsCreditCards'].value_counts()"
   ]
  },
  {
   "cell_type": "code",
   "execution_count": 41,
   "metadata": {},
   "outputs": [
    {
     "data": {
      "text/plain": [
       "True     113019\n",
       "False     47566\n",
       "Name: attributes.BusinessAcceptsCreditCards, dtype: int64"
      ]
     },
     "execution_count": 41,
     "metadata": {},
     "output_type": "execute_result"
    }
   ],
   "source": [
    "# Standardizing BusinessAcceptsCreditCards for True/False\n",
    "df_a['attributes.BusinessAcceptsCreditCards'] = df_a['attributes.BusinessAcceptsCreditCards'].apply(lambda x: True if x == 'True' or x == True else False)\n",
    "df_a['attributes.BusinessAcceptsCreditCards'].value_counts()"
   ]
  },
  {
   "cell_type": "code",
   "execution_count": 42,
   "metadata": {},
   "outputs": [
    {
     "data": {
      "text/plain": [
       "False    114978\n",
       "False     30081\n",
       "True      15315\n",
       "None        211\n",
       "Name: attributes.RestaurantsReservations, dtype: int64"
      ]
     },
     "execution_count": 42,
     "metadata": {},
     "output_type": "execute_result"
    }
   ],
   "source": [
    "# RestaurantsReservations value counts\n",
    "df_a['attributes.RestaurantsReservations'].value_counts()"
   ]
  },
  {
   "cell_type": "code",
   "execution_count": null,
   "metadata": {},
   "outputs": [],
   "source": [
    "# Standardizing RestaurantsReservations for True/False\n",
    "df_a['attributes.RestaurantsReservations'] = df_a['attributes.RestaurantsReservations'].apply(lambda x: True if x == 'True' or x == True else False)\n",
    "df_a['attributes.RestaurantsReservations'].value_counts()"
   ]
  },
  {
   "cell_type": "code",
   "execution_count": 44,
   "metadata": {},
   "outputs": [
    {
     "data": {
      "text/plain": [
       "False    131215\n",
       "True      26329\n",
       "False      3016\n",
       "None         25\n",
       "Name: attributes.WheelchairAccessible, dtype: int64"
      ]
     },
     "execution_count": 44,
     "metadata": {},
     "output_type": "execute_result"
    }
   ],
   "source": [
    "# WheelchairAccessible value counts\n",
    "df_a['attributes.WheelchairAccessible'].value_counts()"
   ]
  },
  {
   "cell_type": "code",
   "execution_count": 45,
   "metadata": {},
   "outputs": [
    {
     "data": {
      "text/plain": [
       "False    134256\n",
       "True      26329\n",
       "Name: attributes.WheelchairAccessible, dtype: int64"
      ]
     },
     "execution_count": 45,
     "metadata": {},
     "output_type": "execute_result"
    }
   ],
   "source": [
    "# Standardizing for True/False\n",
    "df_a['attributes.WheelchairAccessible'] = df_a['attributes.WheelchairAccessible'].apply(lambda x: True if x == 'True' or x == True else False)\n",
    "df_a['attributes.WheelchairAccessible'].value_counts()"
   ]
  },
  {
   "cell_type": "code",
   "execution_count": 46,
   "metadata": {},
   "outputs": [
    {
     "data": {
      "text/plain": [
       "False    120445\n",
       "True      21044\n",
       "False     19047\n",
       "None         49\n",
       "Name: attributes.Caters, dtype: int64"
      ]
     },
     "execution_count": 46,
     "metadata": {},
     "output_type": "execute_result"
    }
   ],
   "source": [
    "# Caters value counts\n",
    "df_a['attributes.Caters'].value_counts()"
   ]
  },
  {
   "cell_type": "code",
   "execution_count": 47,
   "metadata": {},
   "outputs": [
    {
     "data": {
      "text/plain": [
       "False    139541\n",
       "True      21044\n",
       "Name: attributes.Caters, dtype: int64"
      ]
     },
     "execution_count": 47,
     "metadata": {},
     "output_type": "execute_result"
    }
   ],
   "source": [
    "# Standardizing for True/False\n",
    "df_a['attributes.Caters'] = df_a['attributes.Caters'].apply(lambda x: True if x == 'True' or x == True else False)\n",
    "df_a['attributes.Caters'].value_counts()"
   ]
  },
  {
   "cell_type": "code",
   "execution_count": 48,
   "metadata": {},
   "outputs": [
    {
     "data": {
      "text/plain": [
       "False    110457\n",
       "False     24050\n",
       "True      23657\n",
       "None       2421\n",
       "Name: attributes.OutdoorSeating, dtype: int64"
      ]
     },
     "execution_count": 48,
     "metadata": {},
     "output_type": "execute_result"
    }
   ],
   "source": [
    "# OutdoorSeating value counts\n",
    "df_a['attributes.OutdoorSeating'].value_counts()"
   ]
  },
  {
   "cell_type": "code",
   "execution_count": 49,
   "metadata": {},
   "outputs": [
    {
     "data": {
      "text/plain": [
       "False    136928\n",
       "True      23657\n",
       "Name: attributes.OutdoorSeating, dtype: int64"
      ]
     },
     "execution_count": 49,
     "metadata": {},
     "output_type": "execute_result"
    }
   ],
   "source": [
    "# Standardizing for True/False\n",
    "df_a['attributes.OutdoorSeating'] = df_a['attributes.OutdoorSeating'].apply(lambda x: True if x == 'True' or x == True else False)\n",
    "df_a['attributes.OutdoorSeating'].value_counts()"
   ]
  },
  {
   "cell_type": "code",
   "execution_count": 50,
   "metadata": {},
   "outputs": [
    {
     "data": {
      "text/plain": [
       "False    118013\n",
       "True      22684\n",
       "True      15872\n",
       "False      4005\n",
       "None         11\n",
       "Name: attributes.RestaurantsGoodForGroups, dtype: int64"
      ]
     },
     "execution_count": 50,
     "metadata": {},
     "output_type": "execute_result"
    }
   ],
   "source": [
    "# RestaurantsGoodForGroups value counts\n",
    "df_a['attributes.RestaurantsGoodForGroups'].value_counts()"
   ]
  },
  {
   "cell_type": "code",
   "execution_count": 51,
   "metadata": {},
   "outputs": [
    {
     "data": {
      "text/plain": [
       "False    122029\n",
       "True      38556\n",
       "Name: attributes.RestaurantsGoodForGroups, dtype: int64"
      ]
     },
     "execution_count": 51,
     "metadata": {},
     "output_type": "execute_result"
    }
   ],
   "source": [
    "# Standardizing for True/False\n",
    "df_a['attributes.RestaurantsGoodForGroups'] = df_a['attributes.RestaurantsGoodForGroups'].apply(lambda x: True if x == 'True' or x == True else False)\n",
    "df_a['attributes.RestaurantsGoodForGroups'].value_counts()"
   ]
  },
  {
   "cell_type": "code",
   "execution_count": 52,
   "metadata": {},
   "outputs": [
    {
     "data": {
      "text/plain": [
       "False    150439\n",
       "True       8544\n",
       "True       1033\n",
       "False       568\n",
       "None          1\n",
       "Name: attributes.HappyHour, dtype: int64"
      ]
     },
     "execution_count": 52,
     "metadata": {},
     "output_type": "execute_result"
    }
   ],
   "source": [
    "# HappyHour value counts\n",
    "df_a['attributes.HappyHour'].value_counts()"
   ]
  },
  {
   "cell_type": "code",
   "execution_count": 53,
   "metadata": {},
   "outputs": [
    {
     "data": {
      "text/plain": [
       "False    151008\n",
       "True       9577\n",
       "Name: attributes.HappyHour, dtype: int64"
      ]
     },
     "execution_count": 53,
     "metadata": {},
     "output_type": "execute_result"
    }
   ],
   "source": [
    "# Standardizing for True/False\n",
    "df_a['attributes.HappyHour'] = df_a['attributes.HappyHour'].apply(lambda x: True if x == 'True' or x == True else False)\n",
    "df_a['attributes.HappyHour'].value_counts()"
   ]
  },
  {
   "cell_type": "code",
   "execution_count": 54,
   "metadata": {},
   "outputs": [
    {
     "data": {
      "text/plain": [
       "False    158340\n",
       "False      1744\n",
       "True        446\n",
       "True         54\n",
       "None          1\n",
       "Name: attributes.BusinessAcceptsBitcoin, dtype: int64"
      ]
     },
     "execution_count": 54,
     "metadata": {},
     "output_type": "execute_result"
    }
   ],
   "source": [
    "# BusinessAcceptsBitcoin value counts\n",
    "df_a['attributes.BusinessAcceptsBitcoin'].value_counts()"
   ]
  },
  {
   "cell_type": "code",
   "execution_count": 55,
   "metadata": {},
   "outputs": [
    {
     "data": {
      "text/plain": [
       "False    160085\n",
       "True        500\n",
       "Name: attributes.BusinessAcceptsBitcoin, dtype: int64"
      ]
     },
     "execution_count": 55,
     "metadata": {},
     "output_type": "execute_result"
    }
   ],
   "source": [
    "# Standardizing for True/False\n",
    "df_a['attributes.BusinessAcceptsBitcoin'] = df_a['attributes.BusinessAcceptsBitcoin'].apply(lambda x: True if x == 'True' or x == True else False)\n",
    "df_a['attributes.BusinessAcceptsBitcoin'].value_counts()"
   ]
  },
  {
   "cell_type": "code",
   "execution_count": 56,
   "metadata": {},
   "outputs": [
    {
     "data": {
      "text/plain": [
       "False    68143\n",
       "2        46450\n",
       "1        27890\n",
       "3         7330\n",
       "2.0       5300\n",
       "1.0       3190\n",
       "4         1272\n",
       "3.0        840\n",
       "4.0        146\n",
       "None        24\n",
       "Name: attributes.RestaurantsPriceRange2, dtype: int64"
      ]
     },
     "execution_count": 56,
     "metadata": {},
     "output_type": "execute_result"
    }
   ],
   "source": [
    "# RestaurantsPriceRange2 value counts\n",
    "df_a['attributes.RestaurantsPriceRange2'].value_counts()"
   ]
  },
  {
   "cell_type": "code",
   "execution_count": 57,
   "metadata": {},
   "outputs": [
    {
     "data": {
      "text/plain": [
       "False    68167\n",
       "2        51750\n",
       "1        31080\n",
       "3         8170\n",
       "4         1418\n",
       "Name: attributes.RestaurantsPriceRange2, dtype: int64"
      ]
     },
     "execution_count": 57,
     "metadata": {},
     "output_type": "execute_result"
    }
   ],
   "source": [
    "# Standardizing for True/False and values\n",
    "df_a['attributes.RestaurantsPriceRange2'] = df_a['attributes.RestaurantsPriceRange2'].apply(lambda x: False if x == False or x == 'None' else int(x))\n",
    "df_a['attributes.RestaurantsPriceRange2'].value_counts()"
   ]
  },
  {
   "cell_type": "code",
   "execution_count": 58,
   "metadata": {},
   "outputs": [
    {
     "data": {
      "text/plain": [
       "False    121431\n",
       "True      18694\n",
       "True      12091\n",
       "False      8354\n",
       "None         15\n",
       "Name: attributes.HasTV, dtype: int64"
      ]
     },
     "execution_count": 58,
     "metadata": {},
     "output_type": "execute_result"
    }
   ],
   "source": [
    "# HasTV value counts\n",
    "df_a['attributes.HasTV'].value_counts()"
   ]
  },
  {
   "cell_type": "code",
   "execution_count": 59,
   "metadata": {},
   "outputs": [
    {
     "data": {
      "text/plain": [
       "False    129800\n",
       "True      30785\n",
       "Name: attributes.HasTV, dtype: int64"
      ]
     },
     "execution_count": 59,
     "metadata": {},
     "output_type": "execute_result"
    }
   ],
   "source": [
    "# Standardizing for True/False\n",
    "df_a['attributes.HasTV'] = df_a['attributes.HasTV'].apply(lambda x: True if x == 'True' or x == True else False)\n",
    "df_a['attributes.HasTV'].value_counts()"
   ]
  },
  {
   "cell_type": "code",
   "execution_count": 60,
   "metadata": {},
   "outputs": [
    {
     "data": {
      "text/plain": [
       "False               116142\n",
       "u'none'              15069\n",
       "u'full_bar'          12719\n",
       "u'beer_and_wine'      6331\n",
       "'none'                4682\n",
       "'full_bar'            3643\n",
       "'beer_and_wine'       1974\n",
       "None                    25\n",
       "Name: attributes.Alcohol, dtype: int64"
      ]
     },
     "execution_count": 60,
     "metadata": {},
     "output_type": "execute_result"
    }
   ],
   "source": [
    "# Alcohol valu ecounts\n",
    "df_a['attributes.Alcohol'].value_counts()"
   ]
  },
  {
   "cell_type": "code",
   "execution_count": 61,
   "metadata": {},
   "outputs": [
    {
     "data": {
      "text/plain": [
       "False            135918\n",
       "full_bar          16362\n",
       "beer_and_wine      8305\n",
       "Name: attributes.Alcohol, dtype: int64"
      ]
     },
     "execution_count": 61,
     "metadata": {},
     "output_type": "execute_result"
    }
   ],
   "source": [
    "# Stripping values and standardizing\n",
    "df_a['attributes.Alcohol'] = df_a['attributes.Alcohol'].apply(lambda x: \"full_bar\" if x == \"u'full_bar'\" or x == \"'full_bar'\" else('beer_and_wine' if x == \"u'beer_and_wine'\" or x == \"'beer_and_wine'\" else False))\n",
    "df_a['attributes.Alcohol'].value_counts()"
   ]
  },
  {
   "cell_type": "code",
   "execution_count": 62,
   "metadata": {},
   "outputs": [
    {
     "data": {
      "text/plain": [
       "False    143546\n",
       "False     10868\n",
       "True       5522\n",
       "True        629\n",
       "None         20\n",
       "Name: attributes.DogsAllowed, dtype: int64"
      ]
     },
     "execution_count": 62,
     "metadata": {},
     "output_type": "execute_result"
    }
   ],
   "source": [
    "# DogsAllowed value counts\n",
    "df_a['attributes.DogsAllowed'].value_counts()"
   ]
  },
  {
   "cell_type": "code",
   "execution_count": 63,
   "metadata": {},
   "outputs": [
    {
     "data": {
      "text/plain": [
       "False    154434\n",
       "True       6151\n",
       "Name: attributes.DogsAllowed, dtype: int64"
      ]
     },
     "execution_count": 63,
     "metadata": {},
     "output_type": "execute_result"
    }
   ],
   "source": [
    "# Standardizing for True/False\n",
    "df_a['attributes.DogsAllowed'] = df_a['attributes.DogsAllowed'].apply(lambda x: True if x == 'True' or x == True else False)\n",
    "df_a['attributes.DogsAllowed'].value_counts()"
   ]
  },
  {
   "cell_type": "code",
   "execution_count": 64,
   "metadata": {},
   "outputs": [
    {
     "data": {
      "text/plain": [
       "False    102173\n",
       "True      51706\n",
       "False      4941\n",
       "None       1765\n",
       "Name: attributes.RestaurantsTakeOut, dtype: int64"
      ]
     },
     "execution_count": 64,
     "metadata": {},
     "output_type": "execute_result"
    }
   ],
   "source": [
    "# RestaurantsTakeOut value counts\n",
    "df_a['attributes.RestaurantsTakeOut'].value_counts()"
   ]
  },
  {
   "cell_type": "code",
   "execution_count": 65,
   "metadata": {},
   "outputs": [
    {
     "data": {
      "text/plain": [
       "False    108879\n",
       "True      51706\n",
       "Name: attributes.RestaurantsTakeOut, dtype: int64"
      ]
     },
     "execution_count": 65,
     "metadata": {},
     "output_type": "execute_result"
    }
   ],
   "source": [
    "# Standardizing for True/False\n",
    "df_a['attributes.RestaurantsTakeOut'] = df_a['attributes.RestaurantsTakeOut'].apply(lambda x: True if x == 'True' or x == True else False)\n",
    "df_a['attributes.RestaurantsTakeOut'].value_counts()"
   ]
  },
  {
   "cell_type": "code",
   "execution_count": 66,
   "metadata": {},
   "outputs": [
    {
     "data": {
      "text/plain": [
       "False           121392\n",
       "u'average'       22936\n",
       "u'quiet'          6952\n",
       "'average'         3993\n",
       "u'loud'           2722\n",
       "u'very_loud'      1218\n",
       "'quiet'            877\n",
       "'loud'             377\n",
       "'very_loud'         99\n",
       "None                19\n",
       "Name: attributes.NoiseLevel, dtype: int64"
      ]
     },
     "execution_count": 66,
     "metadata": {},
     "output_type": "execute_result"
    }
   ],
   "source": [
    "# NoiseLevel value counts\n",
    "df_a['attributes.NoiseLevel'].value_counts()"
   ]
  },
  {
   "cell_type": "code",
   "execution_count": 67,
   "metadata": {},
   "outputs": [
    {
     "data": {
      "text/plain": [
       "False        121411\n",
       "average       26929\n",
       "quiet          7829\n",
       "loud           3099\n",
       "very_loud      1317\n",
       "Name: attributes.NoiseLevel, dtype: int64"
      ]
     },
     "execution_count": 67,
     "metadata": {},
     "output_type": "execute_result"
    }
   ],
   "source": [
    "# stripping values and Standardizing for True/False and other values\n",
    "df_a['attributes.NoiseLevel'] = df_a['attributes.NoiseLevel'].apply(strip_stuff)\n",
    "df_a['attributes.NoiseLevel'].value_counts()"
   ]
  },
  {
   "cell_type": "code",
   "execution_count": 68,
   "metadata": {},
   "outputs": [
    {
     "data": {
      "text/plain": [
       "False        119862\n",
       "u'casual'     23185\n",
       "'casual'      16633\n",
       "u'dressy'       484\n",
       "'dressy'        343\n",
       "u'formal'        39\n",
       "'formal'         24\n",
       "None             15\n",
       "Name: attributes.RestaurantsAttire, dtype: int64"
      ]
     },
     "execution_count": 68,
     "metadata": {},
     "output_type": "execute_result"
    }
   ],
   "source": [
    "# RestaurantsAttire value counts\n",
    "df_a['attributes.RestaurantsAttire'].value_counts()"
   ]
  },
  {
   "cell_type": "code",
   "execution_count": 69,
   "metadata": {},
   "outputs": [
    {
     "data": {
      "text/plain": [
       "False     119877\n",
       "casual     39818\n",
       "dressy       827\n",
       "formal        63\n",
       "Name: attributes.RestaurantsAttire, dtype: int64"
      ]
     },
     "execution_count": 69,
     "metadata": {},
     "output_type": "execute_result"
    }
   ],
   "source": [
    "# stripping values and Standardizing for True/False and other values\n",
    "df_a['attributes.RestaurantsAttire'] = df_a['attributes.RestaurantsAttire'].apply(strip_stuff)\n",
    "df_a['attributes.RestaurantsAttire'].value_counts()"
   ]
  },
  {
   "cell_type": "code",
   "execution_count": 70,
   "metadata": {},
   "outputs": [
    {
     "data": {
      "text/plain": [
       "False    106100\n",
       "True      29418\n",
       "False     21775\n",
       "None       3292\n",
       "Name: attributes.RestaurantsDelivery, dtype: int64"
      ]
     },
     "execution_count": 70,
     "metadata": {},
     "output_type": "execute_result"
    }
   ],
   "source": [
    "# RestaurantsDelivery value counts\n",
    "df_a['attributes.RestaurantsDelivery'].value_counts()"
   ]
  },
  {
   "cell_type": "code",
   "execution_count": 71,
   "metadata": {},
   "outputs": [
    {
     "data": {
      "text/plain": [
       "False    131167\n",
       "True      29418\n",
       "Name: attributes.RestaurantsDelivery, dtype: int64"
      ]
     },
     "execution_count": 71,
     "metadata": {},
     "output_type": "execute_result"
    }
   ],
   "source": [
    "# Standardizing for True/False\n",
    "df_a['attributes.RestaurantsDelivery'] = df_a['attributes.RestaurantsDelivery'].apply(lambda x: True if x == 'True' or x == True else False)\n",
    "df_a['attributes.RestaurantsDelivery'].value_counts()"
   ]
  },
  {
   "cell_type": "code",
   "execution_count": 72,
   "metadata": {},
   "outputs": [
    {
     "data": {
      "text/plain": [
       "False    103735\n",
       "True      45745\n",
       "False     11079\n",
       "None         26\n",
       "Name: attributes.GoodForKids, dtype: int64"
      ]
     },
     "execution_count": 72,
     "metadata": {},
     "output_type": "execute_result"
    }
   ],
   "source": [
    "# GoodForKids value counts\n",
    "df_a['attributes.GoodForKids'].value_counts()"
   ]
  },
  {
   "cell_type": "code",
   "execution_count": 73,
   "metadata": {},
   "outputs": [
    {
     "data": {
      "text/plain": [
       "False    114840\n",
       "True      45745\n",
       "Name: attributes.GoodForKids, dtype: int64"
      ]
     },
     "execution_count": 73,
     "metadata": {},
     "output_type": "execute_result"
    }
   ],
   "source": [
    "# Standardizing for True/False\n",
    "df_a['attributes.GoodForKids'] = df_a['attributes.GoodForKids'].apply(lambda x: True if x == 'True' or x == True else False)\n",
    "df_a['attributes.GoodForKids'].value_counts()"
   ]
  },
  {
   "cell_type": "code",
   "execution_count": 74,
   "metadata": {},
   "outputs": [
    {
     "data": {
      "text/plain": [
       "False    110837\n",
       "False     28250\n",
       "True      21445\n",
       "None         53\n",
       "Name: attributes.ByAppointmentOnly, dtype: int64"
      ]
     },
     "execution_count": 74,
     "metadata": {},
     "output_type": "execute_result"
    }
   ],
   "source": [
    "# ByAppointmentOnly value counts\n",
    "df_a['attributes.ByAppointmentOnly'].value_counts()"
   ]
  },
  {
   "cell_type": "code",
   "execution_count": 75,
   "metadata": {},
   "outputs": [
    {
     "data": {
      "text/plain": [
       "False    139140\n",
       "True      21445\n",
       "Name: attributes.ByAppointmentOnly, dtype: int64"
      ]
     },
     "execution_count": 75,
     "metadata": {},
     "output_type": "execute_result"
    }
   ],
   "source": [
    "# Standardizing for True/False \n",
    "df_a['attributes.ByAppointmentOnly'] = df_a['attributes.ByAppointmentOnly'].apply(lambda x: True if x == 'True' or x == True else False)\n",
    "df_a['attributes.ByAppointmentOnly'].value_counts()"
   ]
  },
  {
   "cell_type": "code",
   "execution_count": 76,
   "metadata": {},
   "outputs": [
    {
     "data": {
      "text/plain": [
       "False    153863\n",
       "True       3854\n",
       "False      1808\n",
       "True       1049\n",
       "None         11\n",
       "Name: attributes.AcceptsInsurance, dtype: int64"
      ]
     },
     "execution_count": 76,
     "metadata": {},
     "output_type": "execute_result"
    }
   ],
   "source": [
    "# AcceptsInsurance value counts\n",
    "df_a['attributes.AcceptsInsurance'].value_counts()"
   ]
  },
  {
   "cell_type": "code",
   "execution_count": 77,
   "metadata": {},
   "outputs": [
    {
     "data": {
      "text/plain": [
       "False    155682\n",
       "True       4903\n",
       "Name: attributes.AcceptsInsurance, dtype: int64"
      ]
     },
     "execution_count": 77,
     "metadata": {},
     "output_type": "execute_result"
    }
   ],
   "source": [
    "# Standardizing for True/False\n",
    "df_a['attributes.AcceptsInsurance'] = df_a['attributes.AcceptsInsurance'].apply(lambda x: True if x == 'True' or x == True else False)\n",
    "df_a['attributes.AcceptsInsurance'].value_counts()"
   ]
  },
  {
   "cell_type": "code",
   "execution_count": 78,
   "metadata": {},
   "outputs": [
    {
     "data": {
      "text/plain": [
       "False    158203\n",
       "False      1610\n",
       "True        470\n",
       "True        298\n",
       "None          4\n",
       "Name: attributes.GoodForDancing, dtype: int64"
      ]
     },
     "execution_count": 78,
     "metadata": {},
     "output_type": "execute_result"
    }
   ],
   "source": [
    "# GoodForDancing value counts\n",
    "df_a['attributes.GoodForDancing'].value_counts()"
   ]
  },
  {
   "cell_type": "code",
   "execution_count": 79,
   "metadata": {},
   "outputs": [
    {
     "data": {
      "text/plain": [
       "False    159817\n",
       "True        768\n",
       "Name: attributes.GoodForDancing, dtype: int64"
      ]
     },
     "execution_count": 79,
     "metadata": {},
     "output_type": "execute_result"
    }
   ],
   "source": [
    "# Standardizing for True/False\n",
    "df_a['attributes.GoodForDancing'] = df_a['attributes.GoodForDancing'].apply(lambda x: True if x == 'True' or x == True else False)\n",
    "df_a['attributes.GoodForDancing'].value_counts()"
   ]
  },
  {
   "cell_type": "code",
   "execution_count": 80,
   "metadata": {},
   "outputs": [
    {
     "data": {
      "text/plain": [
       "False    158605\n",
       "False      1521\n",
       "True        226\n",
       "True        221\n",
       "None         12\n",
       "Name: attributes.BYOB, dtype: int64"
      ]
     },
     "execution_count": 80,
     "metadata": {},
     "output_type": "execute_result"
    }
   ],
   "source": [
    "# BYOB value counts\n",
    "df_a['attributes.BYOB'].value_counts()"
   ]
  },
  {
   "cell_type": "code",
   "execution_count": 81,
   "metadata": {},
   "outputs": [
    {
     "data": {
      "text/plain": [
       "False    160138\n",
       "True        447\n",
       "Name: attributes.BYOB, dtype: int64"
      ]
     },
     "execution_count": 81,
     "metadata": {},
     "output_type": "execute_result"
    }
   ],
   "source": [
    "# Standardizing for True/False\n",
    "df_a['attributes.BYOB'] = df_a['attributes.BYOB'].apply(lambda x: True if x == 'True' or x == True else False)\n",
    "df_a['attributes.BYOB'].value_counts()"
   ]
  },
  {
   "cell_type": "code",
   "execution_count": 82,
   "metadata": {},
   "outputs": [
    {
     "data": {
      "text/plain": [
       "False    159139\n",
       "False       977\n",
       "True        369\n",
       "True         98\n",
       "None          2\n",
       "Name: attributes.CoatCheck, dtype: int64"
      ]
     },
     "execution_count": 82,
     "metadata": {},
     "output_type": "execute_result"
    }
   ],
   "source": [
    "# CoatCheck value counts\n",
    "df_a['attributes.CoatCheck'].value_counts()"
   ]
  },
  {
   "cell_type": "code",
   "execution_count": 83,
   "metadata": {},
   "outputs": [
    {
     "data": {
      "text/plain": [
       "False    160118\n",
       "True        467\n",
       "Name: attributes.CoatCheck, dtype: int64"
      ]
     },
     "execution_count": 83,
     "metadata": {},
     "output_type": "execute_result"
    }
   ],
   "source": [
    "# Standardizing for True/False\n",
    "df_a['attributes.CoatCheck'] = df_a['attributes.CoatCheck'].apply(lambda x: True if x == 'True' or x == True else False)\n",
    "df_a['attributes.CoatCheck'].value_counts()"
   ]
  },
  {
   "cell_type": "code",
   "execution_count": 84,
   "metadata": {},
   "outputs": [
    {
     "data": {
      "text/plain": [
       "False         156166\n",
       "u'no'           2515\n",
       "u'outdoor'      1644\n",
       "u'yes'           196\n",
       "'no'              44\n",
       "'outdoor'          9\n",
       "'yes'              6\n",
       "None               5\n",
       "Name: attributes.Smoking, dtype: int64"
      ]
     },
     "execution_count": 84,
     "metadata": {},
     "output_type": "execute_result"
    }
   ],
   "source": [
    "# Smoking value counts\n",
    "df_a['attributes.Smoking'].value_counts()"
   ]
  },
  {
   "cell_type": "code",
   "execution_count": 85,
   "metadata": {},
   "outputs": [
    {
     "data": {
      "text/plain": [
       "False      158730\n",
       "outdoor      1653\n",
       "yes           202\n",
       "Name: attributes.Smoking, dtype: int64"
      ]
     },
     "execution_count": 85,
     "metadata": {},
     "output_type": "execute_result"
    }
   ],
   "source": [
    "# stripping values and standardizing\n",
    "df_a['attributes.Smoking'] = df_a['attributes.Smoking'].apply(strip_stuff).apply(lambda x: False if x == 'no' else x)\n",
    "df_a['attributes.Smoking'].value_counts()"
   ]
  },
  {
   "cell_type": "code",
   "execution_count": 86,
   "metadata": {},
   "outputs": [
    {
     "data": {
      "text/plain": [
       "False    154547\n",
       "True       3063\n",
       "False      2477\n",
       "None        498\n",
       "Name: attributes.DriveThru, dtype: int64"
      ]
     },
     "execution_count": 86,
     "metadata": {},
     "output_type": "execute_result"
    }
   ],
   "source": [
    "# DriveThru value counts\n",
    "df_a['attributes.DriveThru'].value_counts()"
   ]
  },
  {
   "cell_type": "code",
   "execution_count": 87,
   "metadata": {},
   "outputs": [
    {
     "data": {
      "text/plain": [
       "False    157522\n",
       "True       3063\n",
       "Name: attributes.DriveThru, dtype: int64"
      ]
     },
     "execution_count": 87,
     "metadata": {},
     "output_type": "execute_result"
    }
   ],
   "source": [
    "# Standardizing for True/False\n",
    "df_a['attributes.DriveThru'] = df_a['attributes.DriveThru'].apply(lambda x: True if x == 'True' or x == True else False)\n",
    "df_a['attributes.DriveThru'].value_counts()"
   ]
  },
  {
   "cell_type": "code",
   "execution_count": 88,
   "metadata": {},
   "outputs": [
    {
     "data": {
      "text/plain": [
       "False             156918\n",
       "'no'                2162\n",
       "'yes_free'          1187\n",
       "'yes_corkage'        300\n",
       "None                  12\n",
       "u'yes_corkage'         3\n",
       "u'yes_free'            2\n",
       "u'no'                  1\n",
       "Name: attributes.BYOBCorkage, dtype: int64"
      ]
     },
     "execution_count": 88,
     "metadata": {},
     "output_type": "execute_result"
    }
   ],
   "source": [
    "# BYOBCorkage value counts\n",
    "df_a['attributes.BYOBCorkage'].value_counts()"
   ]
  },
  {
   "cell_type": "code",
   "execution_count": 89,
   "metadata": {},
   "outputs": [
    {
     "data": {
      "text/plain": [
       "False          159093\n",
       "yes_free         1189\n",
       "yes_corkage       303\n",
       "Name: attributes.BYOBCorkage, dtype: int64"
      ]
     },
     "execution_count": 89,
     "metadata": {},
     "output_type": "execute_result"
    }
   ],
   "source": [
    "# Stripping and Standardizing\n",
    "df_a['attributes.BYOBCorkage'] = df_a['attributes.BYOBCorkage'].apply(strip_stuff).apply(lambda x: False if x == 'no' else x)\n",
    "df_a['attributes.BYOBCorkage'].value_counts()"
   ]
  },
  {
   "cell_type": "code",
   "execution_count": 90,
   "metadata": {},
   "outputs": [
    {
     "data": {
      "text/plain": [
       "False    157175\n",
       "False      2161\n",
       "True        991\n",
       "True        244\n",
       "None         14\n",
       "Name: attributes.Corkage, dtype: int64"
      ]
     },
     "execution_count": 90,
     "metadata": {},
     "output_type": "execute_result"
    }
   ],
   "source": [
    "# Corkage value counts\n",
    "df_a['attributes.Corkage'].value_counts()"
   ]
  },
  {
   "cell_type": "code",
   "execution_count": 91,
   "metadata": {},
   "outputs": [
    {
     "data": {
      "text/plain": [
       "False    159350\n",
       "True       1235\n",
       "Name: attributes.Corkage, dtype: int64"
      ]
     },
     "execution_count": 91,
     "metadata": {},
     "output_type": "execute_result"
    }
   ],
   "source": [
    "# Standardizing for True/False\n",
    "df_a['attributes.Corkage'] = df_a['attributes.Corkage'].apply(lambda x: True if x == 'True' or x == True else False)\n",
    "df_a['attributes.Corkage'].value_counts()"
   ]
  },
  {
   "cell_type": "code",
   "execution_count": 92,
   "metadata": {},
   "outputs": [
    {
     "data": {
      "text/plain": [
       "False    160556\n",
       "True         29\n",
       "Name: attributes.RestaurantsCounterService, dtype: int64"
      ]
     },
     "execution_count": 92,
     "metadata": {},
     "output_type": "execute_result"
    }
   ],
   "source": [
    "# RestaurantsCounterService value counts\n",
    "df_a['attributes.RestaurantsCounterService'].value_counts()"
   ]
  },
  {
   "cell_type": "code",
   "execution_count": 93,
   "metadata": {},
   "outputs": [
    {
     "data": {
      "text/plain": [
       "False    160556\n",
       "True         29\n",
       "Name: attributes.RestaurantsCounterService, dtype: int64"
      ]
     },
     "execution_count": 93,
     "metadata": {},
     "output_type": "execute_result"
    }
   ],
   "source": [
    "# Standardizing for True/False\n",
    "df_a['attributes.RestaurantsCounterService'] = df_a['attributes.RestaurantsCounterService'].apply(lambda x: True if x == 'True' or x == True else False)\n",
    "df_a['attributes.RestaurantsCounterService'].value_counts()"
   ]
  },
  {
   "cell_type": "code",
   "execution_count": 94,
   "metadata": {},
   "outputs": [
    {
     "data": {
      "text/plain": [
       "False         160488\n",
       "u'21plus'         64\n",
       "u'18plus'         12\n",
       "u'allages'        10\n",
       "u'19plus'         10\n",
       "None               1\n",
       "Name: attributes.AgesAllowed, dtype: int64"
      ]
     },
     "execution_count": 94,
     "metadata": {},
     "output_type": "execute_result"
    }
   ],
   "source": [
    "# AgesAllowed value counts\n",
    "df_a['attributes.AgesAllowed'].value_counts()"
   ]
  },
  {
   "cell_type": "code",
   "execution_count": 95,
   "metadata": {},
   "outputs": [
    {
     "data": {
      "text/plain": [
       "False      160489\n",
       "21plus         64\n",
       "18plus         12\n",
       "allages        10\n",
       "19plus         10\n",
       "Name: attributes.AgesAllowed, dtype: int64"
      ]
     },
     "execution_count": 95,
     "metadata": {},
     "output_type": "execute_result"
    }
   ],
   "source": [
    "# Stripping and standardizing\n",
    "df_a['attributes.AgesAllowed'] = df_a['attributes.AgesAllowed'].apply(strip_stuff)\n",
    "df_a['attributes.AgesAllowed'].value_counts()"
   ]
  },
  {
   "cell_type": "code",
   "execution_count": 96,
   "metadata": {},
   "outputs": [
    {
     "data": {
      "text/plain": [
       "False    160580\n",
       "True          5\n",
       "Name: attributes.Open24Hours, dtype: int64"
      ]
     },
     "execution_count": 96,
     "metadata": {},
     "output_type": "execute_result"
    }
   ],
   "source": [
    "# Open24Hours value counts\n",
    "df_a['attributes.Open24Hours'].value_counts()"
   ]
  },
  {
   "cell_type": "code",
   "execution_count": 97,
   "metadata": {},
   "outputs": [
    {
     "data": {
      "text/plain": [
       "False    160580\n",
       "True          5\n",
       "Name: attributes.Open24Hours, dtype: int64"
      ]
     },
     "execution_count": 97,
     "metadata": {},
     "output_type": "execute_result"
    }
   ],
   "source": [
    "# Standardizing for True/False\n",
    "df_a['attributes.Open24Hours'] = df_a['attributes.Open24Hours'].apply(strip_stuff)\n",
    "df_a['attributes.Open24Hours'].value_counts()"
   ]
  },
  {
   "cell_type": "code",
   "execution_count": 98,
   "metadata": {},
   "outputs": [],
   "source": [
    "# Setting up dataframe\n",
    "df_a['business_id'] = business_id"
   ]
  },
  {
   "cell_type": "code",
   "execution_count": 99,
   "metadata": {},
   "outputs": [
    {
     "data": {
      "text/html": [
       "<div>\n",
       "<style scoped>\n",
       "    .dataframe tbody tr th:only-of-type {\n",
       "        vertical-align: middle;\n",
       "    }\n",
       "\n",
       "    .dataframe tbody tr th {\n",
       "        vertical-align: top;\n",
       "    }\n",
       "\n",
       "    .dataframe thead th {\n",
       "        text-align: right;\n",
       "    }\n",
       "</style>\n",
       "<table border=\"1\" class=\"dataframe\">\n",
       "  <thead>\n",
       "    <tr style=\"text-align: right;\">\n",
       "      <th></th>\n",
       "      <th>business_id</th>\n",
       "      <th>attributes.RestaurantsTableService</th>\n",
       "      <th>attributes.WiFi</th>\n",
       "      <th>attributes.BikeParking</th>\n",
       "      <th>attributes.BusinessAcceptsCreditCards</th>\n",
       "      <th>attributes.RestaurantsReservations</th>\n",
       "      <th>attributes.WheelchairAccessible</th>\n",
       "      <th>attributes.Caters</th>\n",
       "      <th>attributes.OutdoorSeating</th>\n",
       "      <th>attributes.RestaurantsGoodForGroups</th>\n",
       "      <th>attributes.HappyHour</th>\n",
       "      <th>attributes.BusinessAcceptsBitcoin</th>\n",
       "      <th>attributes.RestaurantsPriceRange2</th>\n",
       "      <th>attributes.HasTV</th>\n",
       "      <th>attributes.Alcohol</th>\n",
       "      <th>attributes.DogsAllowed</th>\n",
       "      <th>attributes.RestaurantsTakeOut</th>\n",
       "      <th>attributes.NoiseLevel</th>\n",
       "      <th>attributes.RestaurantsAttire</th>\n",
       "      <th>attributes.RestaurantsDelivery</th>\n",
       "      <th>attributes.GoodForKids</th>\n",
       "      <th>attributes.ByAppointmentOnly</th>\n",
       "      <th>attributes.AcceptsInsurance</th>\n",
       "      <th>attributes.GoodForDancing</th>\n",
       "      <th>attributes.BYOB</th>\n",
       "      <th>attributes.CoatCheck</th>\n",
       "      <th>attributes.Smoking</th>\n",
       "      <th>attributes.DriveThru</th>\n",
       "      <th>attributes.BYOBCorkage</th>\n",
       "      <th>attributes.Corkage</th>\n",
       "      <th>attributes.RestaurantsCounterService</th>\n",
       "      <th>attributes.AgesAllowed</th>\n",
       "      <th>attributes.Open24Hours</th>\n",
       "    </tr>\n",
       "  </thead>\n",
       "  <tbody>\n",
       "    <tr>\n",
       "      <th>0</th>\n",
       "      <td>6iYb2HFDywm3zjuRg0shjw</td>\n",
       "      <td>True</td>\n",
       "      <td>free</td>\n",
       "      <td>True</td>\n",
       "      <td>True</td>\n",
       "      <td>False</td>\n",
       "      <td>True</td>\n",
       "      <td>True</td>\n",
       "      <td>True</td>\n",
       "      <td>True</td>\n",
       "      <td>True</td>\n",
       "      <td>False</td>\n",
       "      <td>2</td>\n",
       "      <td>True</td>\n",
       "      <td>beer_and_wine</td>\n",
       "      <td>False</td>\n",
       "      <td>True</td>\n",
       "      <td>average</td>\n",
       "      <td>casual</td>\n",
       "      <td>False</td>\n",
       "      <td>False</td>\n",
       "      <td>False</td>\n",
       "      <td>False</td>\n",
       "      <td>False</td>\n",
       "      <td>False</td>\n",
       "      <td>False</td>\n",
       "      <td>False</td>\n",
       "      <td>False</td>\n",
       "      <td>False</td>\n",
       "      <td>False</td>\n",
       "      <td>False</td>\n",
       "      <td>False</td>\n",
       "      <td>False</td>\n",
       "    </tr>\n",
       "    <tr>\n",
       "      <th>1</th>\n",
       "      <td>tCbdrRPZA0oiIYSmHG3J0w</td>\n",
       "      <td>False</td>\n",
       "      <td>free</td>\n",
       "      <td>False</td>\n",
       "      <td>True</td>\n",
       "      <td>False</td>\n",
       "      <td>False</td>\n",
       "      <td>True</td>\n",
       "      <td>False</td>\n",
       "      <td>False</td>\n",
       "      <td>False</td>\n",
       "      <td>False</td>\n",
       "      <td>2</td>\n",
       "      <td>False</td>\n",
       "      <td>beer_and_wine</td>\n",
       "      <td>False</td>\n",
       "      <td>True</td>\n",
       "      <td>average</td>\n",
       "      <td>casual</td>\n",
       "      <td>False</td>\n",
       "      <td>True</td>\n",
       "      <td>False</td>\n",
       "      <td>False</td>\n",
       "      <td>False</td>\n",
       "      <td>False</td>\n",
       "      <td>False</td>\n",
       "      <td>False</td>\n",
       "      <td>False</td>\n",
       "      <td>False</td>\n",
       "      <td>False</td>\n",
       "      <td>False</td>\n",
       "      <td>False</td>\n",
       "      <td>False</td>\n",
       "    </tr>\n",
       "    <tr>\n",
       "      <th>2</th>\n",
       "      <td>bvN78flM8NLprQ1a1y5dRg</td>\n",
       "      <td>False</td>\n",
       "      <td>False</td>\n",
       "      <td>False</td>\n",
       "      <td>True</td>\n",
       "      <td>False</td>\n",
       "      <td>False</td>\n",
       "      <td>False</td>\n",
       "      <td>False</td>\n",
       "      <td>False</td>\n",
       "      <td>False</td>\n",
       "      <td>False</td>\n",
       "      <td>2</td>\n",
       "      <td>False</td>\n",
       "      <td>False</td>\n",
       "      <td>False</td>\n",
       "      <td>False</td>\n",
       "      <td>False</td>\n",
       "      <td>False</td>\n",
       "      <td>False</td>\n",
       "      <td>False</td>\n",
       "      <td>False</td>\n",
       "      <td>False</td>\n",
       "      <td>False</td>\n",
       "      <td>False</td>\n",
       "      <td>False</td>\n",
       "      <td>False</td>\n",
       "      <td>False</td>\n",
       "      <td>False</td>\n",
       "      <td>False</td>\n",
       "      <td>False</td>\n",
       "      <td>False</td>\n",
       "      <td>False</td>\n",
       "    </tr>\n",
       "    <tr>\n",
       "      <th>3</th>\n",
       "      <td>oaepsyvc0J17qwi8cfrOWg</td>\n",
       "      <td>False</td>\n",
       "      <td>False</td>\n",
       "      <td>False</td>\n",
       "      <td>True</td>\n",
       "      <td>False</td>\n",
       "      <td>False</td>\n",
       "      <td>False</td>\n",
       "      <td>False</td>\n",
       "      <td>False</td>\n",
       "      <td>False</td>\n",
       "      <td>False</td>\n",
       "      <td>1</td>\n",
       "      <td>False</td>\n",
       "      <td>False</td>\n",
       "      <td>False</td>\n",
       "      <td>False</td>\n",
       "      <td>False</td>\n",
       "      <td>False</td>\n",
       "      <td>False</td>\n",
       "      <td>True</td>\n",
       "      <td>False</td>\n",
       "      <td>False</td>\n",
       "      <td>False</td>\n",
       "      <td>False</td>\n",
       "      <td>False</td>\n",
       "      <td>False</td>\n",
       "      <td>False</td>\n",
       "      <td>False</td>\n",
       "      <td>False</td>\n",
       "      <td>False</td>\n",
       "      <td>False</td>\n",
       "      <td>False</td>\n",
       "    </tr>\n",
       "    <tr>\n",
       "      <th>4</th>\n",
       "      <td>PE9uqAjdw0E4-8mjGl3wVA</td>\n",
       "      <td>False</td>\n",
       "      <td>False</td>\n",
       "      <td>False</td>\n",
       "      <td>True</td>\n",
       "      <td>False</td>\n",
       "      <td>False</td>\n",
       "      <td>False</td>\n",
       "      <td>False</td>\n",
       "      <td>False</td>\n",
       "      <td>False</td>\n",
       "      <td>False</td>\n",
       "      <td>False</td>\n",
       "      <td>False</td>\n",
       "      <td>False</td>\n",
       "      <td>False</td>\n",
       "      <td>False</td>\n",
       "      <td>False</td>\n",
       "      <td>False</td>\n",
       "      <td>False</td>\n",
       "      <td>False</td>\n",
       "      <td>False</td>\n",
       "      <td>False</td>\n",
       "      <td>False</td>\n",
       "      <td>False</td>\n",
       "      <td>False</td>\n",
       "      <td>False</td>\n",
       "      <td>False</td>\n",
       "      <td>False</td>\n",
       "      <td>False</td>\n",
       "      <td>False</td>\n",
       "      <td>False</td>\n",
       "      <td>False</td>\n",
       "    </tr>\n",
       "  </tbody>\n",
       "</table>\n",
       "</div>"
      ],
      "text/plain": [
       "              business_id  attributes.RestaurantsTableService attributes.WiFi  \\\n",
       "0  6iYb2HFDywm3zjuRg0shjw                                True            free   \n",
       "1  tCbdrRPZA0oiIYSmHG3J0w                               False            free   \n",
       "2  bvN78flM8NLprQ1a1y5dRg                               False           False   \n",
       "3  oaepsyvc0J17qwi8cfrOWg                               False           False   \n",
       "4  PE9uqAjdw0E4-8mjGl3wVA                               False           False   \n",
       "\n",
       "   attributes.BikeParking  attributes.BusinessAcceptsCreditCards  \\\n",
       "0                    True                                   True   \n",
       "1                   False                                   True   \n",
       "2                   False                                   True   \n",
       "3                   False                                   True   \n",
       "4                   False                                   True   \n",
       "\n",
       "   attributes.RestaurantsReservations  attributes.WheelchairAccessible  \\\n",
       "0                               False                             True   \n",
       "1                               False                            False   \n",
       "2                               False                            False   \n",
       "3                               False                            False   \n",
       "4                               False                            False   \n",
       "\n",
       "   attributes.Caters  attributes.OutdoorSeating  \\\n",
       "0               True                       True   \n",
       "1               True                      False   \n",
       "2              False                      False   \n",
       "3              False                      False   \n",
       "4              False                      False   \n",
       "\n",
       "   attributes.RestaurantsGoodForGroups  attributes.HappyHour  \\\n",
       "0                                 True                  True   \n",
       "1                                False                 False   \n",
       "2                                False                 False   \n",
       "3                                False                 False   \n",
       "4                                False                 False   \n",
       "\n",
       "   attributes.BusinessAcceptsBitcoin attributes.RestaurantsPriceRange2  \\\n",
       "0                              False                                 2   \n",
       "1                              False                                 2   \n",
       "2                              False                                 2   \n",
       "3                              False                                 1   \n",
       "4                              False                             False   \n",
       "\n",
       "   attributes.HasTV attributes.Alcohol  attributes.DogsAllowed  \\\n",
       "0              True      beer_and_wine                   False   \n",
       "1             False      beer_and_wine                   False   \n",
       "2             False              False                   False   \n",
       "3             False              False                   False   \n",
       "4             False              False                   False   \n",
       "\n",
       "   attributes.RestaurantsTakeOut attributes.NoiseLevel  \\\n",
       "0                           True               average   \n",
       "1                           True               average   \n",
       "2                          False                 False   \n",
       "3                          False                 False   \n",
       "4                          False                 False   \n",
       "\n",
       "  attributes.RestaurantsAttire  attributes.RestaurantsDelivery  \\\n",
       "0                       casual                           False   \n",
       "1                       casual                           False   \n",
       "2                        False                           False   \n",
       "3                        False                           False   \n",
       "4                        False                           False   \n",
       "\n",
       "   attributes.GoodForKids  attributes.ByAppointmentOnly  \\\n",
       "0                   False                         False   \n",
       "1                    True                         False   \n",
       "2                   False                         False   \n",
       "3                    True                         False   \n",
       "4                   False                         False   \n",
       "\n",
       "   attributes.AcceptsInsurance  attributes.GoodForDancing  attributes.BYOB  \\\n",
       "0                        False                      False            False   \n",
       "1                        False                      False            False   \n",
       "2                        False                      False            False   \n",
       "3                        False                      False            False   \n",
       "4                        False                      False            False   \n",
       "\n",
       "   attributes.CoatCheck attributes.Smoking  attributes.DriveThru  \\\n",
       "0                 False              False                 False   \n",
       "1                 False              False                 False   \n",
       "2                 False              False                 False   \n",
       "3                 False              False                 False   \n",
       "4                 False              False                 False   \n",
       "\n",
       "  attributes.BYOBCorkage  attributes.Corkage  \\\n",
       "0                  False               False   \n",
       "1                  False               False   \n",
       "2                  False               False   \n",
       "3                  False               False   \n",
       "4                  False               False   \n",
       "\n",
       "   attributes.RestaurantsCounterService attributes.AgesAllowed  \\\n",
       "0                                 False                  False   \n",
       "1                                 False                  False   \n",
       "2                                 False                  False   \n",
       "3                                 False                  False   \n",
       "4                                 False                  False   \n",
       "\n",
       "  attributes.Open24Hours  \n",
       "0                  False  \n",
       "1                  False  \n",
       "2                  False  \n",
       "3                  False  \n",
       "4                  False  "
      ]
     },
     "execution_count": 99,
     "metadata": {},
     "output_type": "execute_result"
    }
   ],
   "source": [
    "# Adding cleaned columns to df\n",
    "cols = df_a.columns.tolist()\n",
    "cols = cols[-1:] + cols[:-1]\n",
    "df_a = df_a[cols]\n",
    "df_a.head()"
   ]
  },
  {
   "cell_type": "code",
   "execution_count": 100,
   "metadata": {},
   "outputs": [],
   "source": [
    "# Saving business attributes to csv\n",
    "df_a.to_csv('df_business_attrbutes.csv')"
   ]
  }
 ],
 "metadata": {
  "kernelspec": {
   "display_name": "Python 3",
   "language": "python",
   "name": "python3"
  },
  "language_info": {
   "codemirror_mode": {
    "name": "ipython",
    "version": 3
   },
   "file_extension": ".py",
   "mimetype": "text/x-python",
   "name": "python",
   "nbconvert_exporter": "python",
   "pygments_lexer": "ipython3",
   "version": "3.8.5"
  }
 },
 "nbformat": 4,
 "nbformat_minor": 4
}
