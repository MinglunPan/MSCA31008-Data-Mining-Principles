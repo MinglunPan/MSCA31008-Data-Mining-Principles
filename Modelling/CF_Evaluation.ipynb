{
 "cells": [
  {
   "cell_type": "code",
   "execution_count": 2,
   "id": "2d2b0b34",
   "metadata": {},
   "outputs": [],
   "source": [
    "import pandas as pd\n",
    "import sklearn.metrics"
   ]
  },
  {
   "cell_type": "code",
   "execution_count": 8,
   "id": "d800d1c7-fb12-43d0-928e-0a4d18402ec1",
   "metadata": {},
   "outputs": [],
   "source": [
    "data_reader = pd.read_csv(r'C:\\Users\\AdrianPan\\Downloads\\Yelp_Biz_User_Review.csv', usecols = ['user_id','business_id','stars_x','state'], chunksize = 10000)\n",
    "data_list = []\n",
    "for d in data_reader:\n",
    "    d = d.loc[d['state']=='OH']\n",
    "    data_list.append(d)"
   ]
  },
  {
   "cell_type": "code",
   "execution_count": 9,
   "id": "616df53a-2315-4e1c-84d6-a17c682109c5",
   "metadata": {},
   "outputs": [],
   "source": [
    "import numpy as np\n",
    "cf_result = np.load(r\"C:\\Users\\AdrianPan\\Downloads\\cf_result_oh.npy\")"
   ]
  },
  {
   "cell_type": "code",
   "execution_count": 12,
   "id": "1fb9fe7b-3019-4d65-9bf7-219ca7f11881",
   "metadata": {},
   "outputs": [],
   "source": [
    "import sys"
   ]
  },
  {
   "cell_type": "code",
   "execution_count": 16,
   "id": "92d1302e-dc1a-4dc5-87c7-dd82a14c8fb4",
   "metadata": {},
   "outputs": [
    {
     "data": {
      "text/plain": [
       "(89109, 5318)"
      ]
     },
     "execution_count": 16,
     "metadata": {},
     "output_type": "execute_result"
    }
   ],
   "source": [
    "cf_result.shape"
   ]
  },
  {
   "cell_type": "code",
   "execution_count": 17,
   "id": "5eca4be8-7bab-440a-8187-395a10d11f21",
   "metadata": {},
   "outputs": [],
   "source": [
    "data = pd.concat(data_list, axis = 0)\n",
    "del data_list\n",
    "data.drop('state', axis = 1,inplace = True)"
   ]
  },
  {
   "cell_type": "code",
   "execution_count": 66,
   "id": "05ca46ec-efa4-406b-8f93-91cdc5ec9e8d",
   "metadata": {},
   "outputs": [],
   "source": [
    "user_id = pd.read_csv(r\"C:\\Users\\AdrianPan\\Downloads\\usr_labels_OH.csv\").drop(\"Unnamed: 0\", axis = 1)['0'].to_dict()\n",
    "biz_id = pd.read_csv(r\"C:\\Users\\AdrianPan\\Downloads\\biz_labels_OH.csv\").drop(\"Unnamed: 0\", axis = 1)['0'].to_dict()\n",
    "inv_biz_id = {val:key for key,val in biz_id.items()}"
   ]
  },
  {
   "cell_type": "code",
   "execution_count": 50,
   "id": "c5c5b7ee-7cd4-435d-bdd7-46b4010e51db",
   "metadata": {},
   "outputs": [
    {
     "data": {
      "text/plain": [
       "(89109, 5318)"
      ]
     },
     "execution_count": 50,
     "metadata": {},
     "output_type": "execute_result"
    }
   ],
   "source": [
    "cf_result.shape"
   ]
  },
  {
   "cell_type": "code",
   "execution_count": 36,
   "id": "0374cf06-7f7c-439c-b6b1-0cdadfb93e41",
   "metadata": {},
   "outputs": [],
   "source": [
    "data = data.groupby(['user_id','business_id'])['stars_x'].mean()\n",
    "data = data.reset_index()"
   ]
  },
  {
   "cell_type": "code",
   "execution_count": 41,
   "id": "fb5e9149-fada-4752-9a30-13600f76d022",
   "metadata": {},
   "outputs": [],
   "source": [
    "data.set_index('user_id', inplace = True)"
   ]
  },
  {
   "cell_type": "code",
   "execution_count": 121,
   "id": "8275c331-0a3b-4bfb-983c-06a7f43664e8",
   "metadata": {},
   "outputs": [],
   "source": [
    "from tqdm.notebook import tqdm\n",
    "from sklearn.metrics import ndcg_score,average_precision_score"
   ]
  },
  {
   "cell_type": "code",
   "execution_count": null,
   "id": "bb8d2a21-dbc1-4b33-a2aa-4f526dd9b1c6",
   "metadata": {},
   "outputs": [],
   "source": [
    "RMSE = []\n"
   ]
  },
  {
   "cell_type": "code",
   "execution_count": 151,
   "id": "2442f1cc-ec2d-4f64-ba49-bf3e8bf80931",
   "metadata": {},
   "outputs": [
    {
     "data": {
      "text/plain": [
       "37410"
      ]
     },
     "execution_count": 151,
     "metadata": {},
     "output_type": "execute_result"
    }
   ],
   "source": [
    "len(RMSE)"
   ]
  },
  {
   "cell_type": "code",
   "execution_count": 143,
   "id": "24704ddb-ae35-4cdb-9c66-9ea3db5401d6",
   "metadata": {},
   "outputs": [
    {
     "data": {
      "text/plain": [
       "89108"
      ]
     },
     "execution_count": 143,
     "metadata": {},
     "output_type": "execute_result"
    }
   ],
   "source": [
    "len(data.index.unique())"
   ]
  },
  {
   "cell_type": "code",
   "execution_count": 153,
   "id": "6de607a5-22bb-4d63-8aa2-d2bff0011d67",
   "metadata": {},
   "outputs": [
    {
     "data": {
      "application/vnd.jupyter.widget-view+json": {
       "model_id": "1d9de62779e84f7b9c0e3d11ce32e90f",
       "version_major": 2,
       "version_minor": 0
      },
      "text/plain": [
       "  0%|          | 0/89109 [00:00<?, ?it/s]"
      ]
     },
     "metadata": {},
     "output_type": "display_data"
    },
    {
     "name": "stdout",
     "output_type": "stream",
     "text": [
      "45110 : \"None of [Index(['VjfIomGho3uyPRah9Clmlw'], dtype='object', name='user_id')] are in the [index]\"\n"
     ]
    }
   ],
   "source": [
    "key_error_list = []\n",
    "for key,usr_idx in tqdm(user_id.items()):\n",
    "    if key < 45110:\n",
    "        continue\n",
    "    try:\n",
    "        result = {}\n",
    "        curr_user_actual = data.loc[[usr_idx]].set_index('business_id')\n",
    "        curr_user_actual['stars_x'] = curr_user_actual['stars_x'].astype(int)\n",
    "        curr_user_actual['stars_predict'] = curr_user_actual.index.map(lambda x:curr_user_pred[inv_biz_id[x]])\n",
    "        if len(curr_user_actual) > 1:\n",
    "            result['NDCG'] = ndcg_score([curr_user_actual['stars_x'].values], [curr_user_actual['stars_predict'].values])\n",
    "        else:\n",
    "            result['NDCG'] = np.nan\n",
    "\n",
    "        curr_user_actual = (curr_user_actual-curr_user_actual.min())/(curr_user_actual.max()-curr_user_actual.min())\n",
    "        curr_user_pred = (curr_user_pred-curr_user_pred.min())/(curr_user_pred.max()-curr_user_pred.min())\n",
    "    \n",
    "    \n",
    "        result['SE'] = np.sum((curr_user_actual['stars_x']-curr_user_actual['stars_predict'])**2)\n",
    "        result['count'] = len(curr_user_actual)\n",
    "        RMSE.append(\n",
    "            result\n",
    "        )\n",
    "    except Exception as e:\n",
    "        key_error_list.append(key)\n",
    "        print(key,\":\",e)\n",
    "        \n",
    "        if len(key_error_list) > 5:\n",
    "            break\n",
    "        \n",
    "        continue"
   ]
  },
  {
   "cell_type": "code",
   "execution_count": 174,
   "id": "386c7774-4a79-42b2-a18c-a2c2656c62f6",
   "metadata": {},
   "outputs": [],
   "source": [
    "result = pd.DataFrame(RMSE)\n",
    "result = result[result['NDCG'].notnull()]"
   ]
  },
  {
   "cell_type": "code",
   "execution_count": 179,
   "id": "2c7b9d20-5850-477d-a391-7bfc82bcfa4d",
   "metadata": {},
   "outputs": [
    {
     "data": {
      "text/html": [
       "<div>\n",
       "<style scoped>\n",
       "    .dataframe tbody tr th:only-of-type {\n",
       "        vertical-align: middle;\n",
       "    }\n",
       "\n",
       "    .dataframe tbody tr th {\n",
       "        vertical-align: top;\n",
       "    }\n",
       "\n",
       "    .dataframe thead th {\n",
       "        text-align: right;\n",
       "    }\n",
       "</style>\n",
       "<table border=\"1\" class=\"dataframe\">\n",
       "  <thead>\n",
       "    <tr style=\"text-align: right;\">\n",
       "      <th></th>\n",
       "      <th>business_id</th>\n",
       "      <th>stars_x</th>\n",
       "    </tr>\n",
       "    <tr>\n",
       "      <th>user_id</th>\n",
       "      <th></th>\n",
       "      <th></th>\n",
       "    </tr>\n",
       "  </thead>\n",
       "  <tbody>\n",
       "    <tr>\n",
       "      <th>--1_pDM1pQ26cqhLx9agWQ</th>\n",
       "      <td>qa4SegtG2bWMBhJgWyU7Tw</td>\n",
       "      <td>5.0</td>\n",
       "    </tr>\n",
       "    <tr>\n",
       "      <th>--2PnhMMH7EYoY3wywOvgQ</th>\n",
       "      <td>32AcG_zpsPzMgo0aWj7zQA</td>\n",
       "      <td>4.0</td>\n",
       "    </tr>\n",
       "    <tr>\n",
       "      <th>--2PnhMMH7EYoY3wywOvgQ</th>\n",
       "      <td>8lS-sVYxXqVbhV8vjitzDg</td>\n",
       "      <td>4.0</td>\n",
       "    </tr>\n",
       "    <tr>\n",
       "      <th>--2PnhMMH7EYoY3wywOvgQ</th>\n",
       "      <td>AEzIqFtXrJITE4toGNtAuA</td>\n",
       "      <td>3.0</td>\n",
       "    </tr>\n",
       "    <tr>\n",
       "      <th>--2PnhMMH7EYoY3wywOvgQ</th>\n",
       "      <td>IHCD--427ou0ODW6JRoYpw</td>\n",
       "      <td>4.0</td>\n",
       "    </tr>\n",
       "    <tr>\n",
       "      <th>...</th>\n",
       "      <td>...</td>\n",
       "      <td>...</td>\n",
       "    </tr>\n",
       "    <tr>\n",
       "      <th>zzoLFpcO9IvQV_zIt7A1rA</th>\n",
       "      <td>9xXvZsc0f0UguKevFaUikA</td>\n",
       "      <td>1.0</td>\n",
       "    </tr>\n",
       "    <tr>\n",
       "      <th>zzoru1fhdVzDIUGd59y1Sg</th>\n",
       "      <td>Ht3Sew5RcND7Q_La0gbG1A</td>\n",
       "      <td>5.0</td>\n",
       "    </tr>\n",
       "    <tr>\n",
       "      <th>zzvQiBdoT9Vd72h4Eh0_Bg</th>\n",
       "      <td>AHMA7314bg975Gy1JxZDkg</td>\n",
       "      <td>5.0</td>\n",
       "    </tr>\n",
       "    <tr>\n",
       "      <th>zzw9xmZfg0Sm97NAfuPiaQ</th>\n",
       "      <td>mkMJVG0SFpNZnAeK2_1Tnw</td>\n",
       "      <td>1.0</td>\n",
       "    </tr>\n",
       "    <tr>\n",
       "      <th>zzxy37YsYaiPUw325BfuFg</th>\n",
       "      <td>fUd177p8Mu9C_CQ4aB5EiQ</td>\n",
       "      <td>1.0</td>\n",
       "    </tr>\n",
       "  </tbody>\n",
       "</table>\n",
       "<p>315545 rows × 2 columns</p>\n",
       "</div>"
      ],
      "text/plain": [
       "                                   business_id  stars_x\n",
       "user_id                                                \n",
       "--1_pDM1pQ26cqhLx9agWQ  qa4SegtG2bWMBhJgWyU7Tw      5.0\n",
       "--2PnhMMH7EYoY3wywOvgQ  32AcG_zpsPzMgo0aWj7zQA      4.0\n",
       "--2PnhMMH7EYoY3wywOvgQ  8lS-sVYxXqVbhV8vjitzDg      4.0\n",
       "--2PnhMMH7EYoY3wywOvgQ  AEzIqFtXrJITE4toGNtAuA      3.0\n",
       "--2PnhMMH7EYoY3wywOvgQ  IHCD--427ou0ODW6JRoYpw      4.0\n",
       "...                                        ...      ...\n",
       "zzoLFpcO9IvQV_zIt7A1rA  9xXvZsc0f0UguKevFaUikA      1.0\n",
       "zzoru1fhdVzDIUGd59y1Sg  Ht3Sew5RcND7Q_La0gbG1A      5.0\n",
       "zzvQiBdoT9Vd72h4Eh0_Bg  AHMA7314bg975Gy1JxZDkg      5.0\n",
       "zzw9xmZfg0Sm97NAfuPiaQ  mkMJVG0SFpNZnAeK2_1Tnw      1.0\n",
       "zzxy37YsYaiPUw325BfuFg  fUd177p8Mu9C_CQ4aB5EiQ      1.0\n",
       "\n",
       "[315545 rows x 2 columns]"
      ]
     },
     "execution_count": 179,
     "metadata": {},
     "output_type": "execute_result"
    }
   ],
   "source": [
    "data"
   ]
  },
  {
   "cell_type": "code",
   "execution_count": 175,
   "id": "4912add1-9ffd-48d8-8a30-01d5eeddb0dc",
   "metadata": {},
   "outputs": [
    {
     "data": {
      "text/plain": [
       "0.5646631503456211"
      ]
     },
     "execution_count": 175,
     "metadata": {},
     "output_type": "execute_result"
    }
   ],
   "source": [
    "np.sqrt(result['SE'].sum() / result['count'].sum())"
   ]
  },
  {
   "cell_type": "code",
   "execution_count": 177,
   "id": "fdd4207c-b3f2-4326-9644-85b1b2c3b31d",
   "metadata": {},
   "outputs": [
    {
     "data": {
      "text/plain": [
       "0.9222932937741084"
      ]
     },
     "execution_count": 177,
     "metadata": {},
     "output_type": "execute_result"
    }
   ],
   "source": [
    "np.dot(result['NDCG'], result['count'])/result['count'].sum()"
   ]
  },
  {
   "cell_type": "code",
   "execution_count": null,
   "id": "aad40bd6-c94f-4537-beb8-163fa20cd2ba",
   "metadata": {},
   "outputs": [],
   "source": []
  }
 ],
 "metadata": {
  "kernelspec": {
   "display_name": "Python 3 (ipykernel)",
   "language": "python",
   "name": "python3"
  },
  "language_info": {
   "codemirror_mode": {
    "name": "ipython",
    "version": 3
   },
   "file_extension": ".py",
   "mimetype": "text/x-python",
   "name": "python",
   "nbconvert_exporter": "python",
   "pygments_lexer": "ipython3",
   "version": "3.9.7"
  }
 },
 "nbformat": 4,
 "nbformat_minor": 5
}
