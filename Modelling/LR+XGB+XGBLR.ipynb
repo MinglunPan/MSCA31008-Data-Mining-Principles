{
 "cells": [
  {
   "cell_type": "code",
   "execution_count": 1,
   "metadata": {},
   "outputs": [],
   "source": [
    "import pandas as pd\n",
    "from tqdm.notebook import tqdm"
   ]
  },
  {
   "cell_type": "code",
   "execution_count": 2,
   "metadata": {},
   "outputs": [],
   "source": [
    "# Defining column list\n",
    "column_list = ['business_id','user_id','stars_x',\n",
    " 'u.review_count',\n",
    " 'u.useful',\n",
    " 'u.funny',\n",
    " 'u.cool',\n",
    " 'u.fans',\n",
    " 'u.average_stars',\n",
    " 'compliment_hot',\n",
    " 'compliment_more',\n",
    " 'compliment_profile',\n",
    " 'compliment_cute',\n",
    " 'compliment_list',\n",
    " 'compliment_note',\n",
    " 'compliment_plain',\n",
    " 'compliment_cool',\n",
    " 'compliment_funny',\n",
    " 'compliment_writer',\n",
    " 'compliment_photos',\n",
    " 'pre_covid_avg_stars',\n",
    " 'pre_covid_review_count',\n",
    " 'post_covid_avg_stars',\n",
    " 'post_covid_review_count',\n",
    " 'last_7_avg_stars',\n",
    " 'last_7_review_count',\n",
    " 'last_30_avg_stars',\n",
    " 'last_30_review_count',\n",
    " 'city',\n",
    " 'state',\n",
    " 'review_count',\n",
    " 'is_open',\n",
    " 'geo_hhi',\n",
    " 'geo_total_review',\n",
    " 'geo_avg_stars',\n",
    " 'geo_most_category',\n",
    " 'geo_within__2_km',\n",
    " 'geo_within__5_km',\n",
    " 'geo_within__10_km',\n",
    " 'Attribute_friday',\n",
    " 'Attribute_monday',\n",
    " 'Attribute_saturday',\n",
    " 'Attribute_sunday',\n",
    " 'Attribute_thursday',\n",
    " 'Attribute_tuesday',\n",
    " 'Attribute_wednesday',\n",
    " 'Attribute_restaurantstableservice',\n",
    " 'Attribute_wifi',\n",
    " 'Attribute_bikeparking',\n",
    " 'Attribute_businessacceptscreditcards',\n",
    " 'Attribute_restaurantsreservations',\n",
    " 'Attribute_wheelchairaccessible',\n",
    " 'Attribute_caters',\n",
    " 'Attribute_outdoorseating',\n",
    " 'Attribute_restaurantsgoodforgroups',\n",
    " 'Attribute_happyhour',\n",
    " 'Attribute_businessacceptsbitcoin',\n",
    " 'Attribute_restaurantspricerange2',\n",
    " 'Attribute_hastv',\n",
    " 'Attribute_alcohol',\n",
    " 'Attribute_dogsallowed',\n",
    " 'Attribute_restaurantstakeout',\n",
    " 'Attribute_noiselevel',\n",
    " 'Attribute_restaurantsattire',\n",
    " 'Attribute_restaurantsdelivery',\n",
    " 'Attribute_goodforkids',\n",
    " 'Attribute_byappointmentonly',\n",
    " 'Attribute_acceptsinsurance',\n",
    " 'Attribute_goodfordancing',\n",
    " 'Attribute_byob',\n",
    " 'Attribute_coatcheck',\n",
    " 'Attribute_smoking',\n",
    " 'Attribute_drivethru',\n",
    " 'Attribute_byobcorkage',\n",
    " 'Attribute_corkage',\n",
    " 'Attribute_restaurantscounterservice',\n",
    " 'Attribute_agesallowed',\n",
    " 'Attribute_open24hours',\n",
    " 'Specialty Food',\n",
    " 'Wine Bars',\n",
    " 'Mediterranean',\n",
    " 'Pubs',\n",
    " 'Barbeque',\n",
    " 'Gift Shops',\n",
    " 'Bars',\n",
    " 'Spanish',\n",
    " 'Chicken Wings',\n",
    " 'Lounges',\n",
    " 'Wine & Spirits',\n",
    " 'Pakistani',\n",
    " 'Hotels & Travel',\n",
    " 'Dim Sum',\n",
    " 'Thai',\n",
    " 'Candy Stores',\n",
    " 'Farmers Market',\n",
    " 'Beauty & Spas',\n",
    " 'Local Flavor',\n",
    " 'Music Venues',\n",
    " 'Breakfast & Brunch',\n",
    " 'Karaoke',\n",
    " 'Chinese',\n",
    " 'Cupcakes',\n",
    " 'International',\n",
    " 'Local Services',\n",
    " 'Vietnamese',\n",
    " 'Comfort Food',\n",
    " 'Cafes',\n",
    " 'Fruits & Veggies',\n",
    " 'Burgers',\n",
    " 'Florists',\n",
    " 'Cajun/Creole',\n",
    " 'Delis',\n",
    " 'Seafood',\n",
    " 'Party & Event Planning',\n",
    " 'Tapas/Small Plates',\n",
    " 'American (New)',\n",
    " 'Gastropubs',\n",
    " 'Latin American',\n",
    " 'Creperies',\n",
    " 'Organic Stores',\n",
    " 'Middle Eastern',\n",
    " 'Food Trucks',\n",
    " 'Breweries',\n",
    " 'Coffee Roasteries',\n",
    " 'Convenience Stores',\n",
    " 'Tex-Mex',\n",
    " 'Pizza',\n",
    " 'Wineries',\n",
    " 'Wraps',\n",
    " 'Flowers & Gifts',\n",
    " 'Cocktail Bars',\n",
    " 'Hot Pot',\n",
    " 'Fish & Chips',\n",
    " 'Fast Food',\n",
    " 'Ramen',\n",
    " 'Juice Bars & Smoothies',\n",
    " 'International Grocery',\n",
    " 'Salad',\n",
    " 'Hot Dogs',\n",
    " 'Korean',\n",
    " 'Halal',\n",
    " 'Do-It-Yourself Food',\n",
    " 'Automotive',\n",
    " 'Canadian (New)',\n",
    " 'Street Vendors',\n",
    " 'Event Planning & Services',\n",
    " 'Caterers',\n",
    " 'Italian',\n",
    " 'Bubble Tea',\n",
    " 'Drugstores',\n",
    " 'Fashion',\n",
    " 'Dive Bars',\n",
    " 'Sandwiches',\n",
    " 'Grocery',\n",
    " 'Indian',\n",
    " 'Ice Cream & Frozen Yogurt',\n",
    " 'Greek',\n",
    " 'Asian Fusion',\n",
    " 'Beer',\n",
    " 'Noodles',\n",
    " 'Shopping',\n",
    " 'Food Stands',\n",
    " 'Southern',\n",
    " 'Chicken Shop',\n",
    " 'Arts & Entertainment',\n",
    " 'Tea Rooms',\n",
    " 'Bakeries',\n",
    " 'Cheesesteaks',\n",
    " 'Soul Food',\n",
    " 'Beer Bar',\n",
    " 'Education',\n",
    " 'Gluten-Free',\n",
    " 'Caribbean',\n",
    " 'Ethnic Food',\n",
    " 'Sushi Bars',\n",
    " 'Flowers',\n",
    " 'Desserts',\n",
    " 'Health & Medical',\n",
    " 'Nightlife',\n",
    " 'Chocolatiers & Shops',\n",
    " 'Food Court',\n",
    " 'African',\n",
    " 'Department Stores',\n",
    " 'Cosmetics & Beauty Supply',\n",
    " 'American (Traditional)',\n",
    " 'Diners',\n",
    " 'French',\n",
    " 'Hawaiian',\n",
    " 'Cuban',\n",
    " 'Coffee & Tea',\n",
    " 'Hotels',\n",
    " 'Tapas Bars',\n",
    " 'Tacos',\n",
    " 'Vegan',\n",
    " 'Meat Shops',\n",
    " 'Dance Clubs',\n",
    " 'Gas Stations',\n",
    " 'Sports Bars',\n",
    " 'Custom Cakes',\n",
    " 'Vegetarian',\n",
    " 'Mexican',\n",
    " 'Irish',\n",
    " 'Health Markets',\n",
    " 'Waffles',\n",
    " 'Imported Food',\n",
    " 'Japanese',\n",
    " 'Steakhouses',\n",
    " 'Discount Store',\n",
    " 'Home & Garden',\n",
    " 'Soup',\n",
    " 'Brazilian',\n",
    " 'Venues & Event Spaces',\n",
    " 'Poke',\n",
    " 'Bagels',\n",
    " 'Donuts',\n",
    " 'Buffets',\n",
    " 'Electronics',\n",
    " 'Active Life',\n",
    " 'Food Delivery Services',\n",
    " 'Taiwanese',\n",
    " 'Seafood Markets',\n",
    " 'Pharmacy',\n",
    " 'Photography Stores & Services']"
   ]
  },
  {
   "cell_type": "code",
   "execution_count": 3,
   "metadata": {},
   "outputs": [],
   "source": [
    "# Reading in data using columns from column list\n",
    "data = pd.read_csv(r'C:\\Users\\AdrianPan\\Downloads\\Yelp_Biz_User_Review.csv', usecols = column_list)\n"
   ]
  },
  {
   "cell_type": "code",
   "execution_count": 60,
   "metadata": {},
   "outputs": [
    {
     "data": {
      "application/vnd.jupyter.widget-view+json": {
       "model_id": "f17632e879e74954a6a675ab1c59692a",
       "version_major": 2,
       "version_minor": 0
      },
      "text/plain": [
       "0it [00:00, ?it/s]"
      ]
     },
     "metadata": {},
     "output_type": "display_data"
    }
   ],
   "source": [
    "# Reading in data in chunks\n",
    "data_reader = pd.read_csv(r'C:\\Users\\AdrianPan\\Downloads\\Yelp_Biz_User_Review.csv', usecols = column_list, chunksize = 10000)\n",
    "data_list = []\n",
    "for d in tqdm(data_reader):\n",
    "    d = d.loc[d['state'] == 'OH']\n",
    "    data_list.append(d)"
   ]
  },
  {
   "cell_type": "code",
   "execution_count": 61,
   "metadata": {},
   "outputs": [],
   "source": [
    "# Concatenating data chunks\n",
    "data = pd.concat(data_list, axis = 0)"
   ]
  },
  {
   "cell_type": "code",
   "execution_count": 62,
   "metadata": {},
   "outputs": [],
   "source": [
    "# Define inverse logit function\n",
    "import xgboost\n",
    "def logit_inv(y):\n",
    "    return np.exp(y)/(1+np.exp(y))"
   ]
  },
  {
   "cell_type": "code",
   "execution_count": 63,
   "metadata": {},
   "outputs": [],
   "source": [
    "# Convert last 145 columns to int\n",
    "data[data.columns[-145:]] = data[data.columns[-145:]].fillna(False)\n",
    "for c in data.columns[-145:]:\n",
    "    data[c] = data[c].astype(int)"
   ]
  },
  {
   "cell_type": "code",
   "execution_count": 64,
   "metadata": {},
   "outputs": [],
   "source": [
    "# Convert last 145 columns to bool\n",
    "for c in data.columns[-145:]:\n",
    "    data[c] = data[c].astype(bool)"
   ]
  },
  {
   "cell_type": "code",
   "execution_count": 65,
   "metadata": {},
   "outputs": [],
   "source": [
    "# Define attribute columns\n",
    "attribute_columns = ['Attribute_friday',\n",
    "       'Attribute_monday', 'Attribute_saturday', 'Attribute_sunday',\n",
    "       'Attribute_thursday', 'Attribute_tuesday', 'Attribute_wednesday',\n",
    "       'Attribute_restaurantstableservice', 'Attribute_wifi',\n",
    "       'Attribute_bikeparking', 'Attribute_businessacceptscreditcards',\n",
    "       'Attribute_restaurantsreservations', 'Attribute_wheelchairaccessible',\n",
    "       'Attribute_caters', 'Attribute_outdoorseating',\n",
    "       'Attribute_restaurantsgoodforgroups', 'Attribute_happyhour',\n",
    "       'Attribute_businessacceptsbitcoin', 'Attribute_restaurantspricerange2',\n",
    "       'Attribute_hastv', 'Attribute_alcohol', 'Attribute_dogsallowed',\n",
    "       'Attribute_restaurantstakeout', 'Attribute_noiselevel',\n",
    "       'Attribute_restaurantsattire', 'Attribute_restaurantsdelivery',\n",
    "       'Attribute_goodforkids', 'Attribute_byappointmentonly',\n",
    "       'Attribute_acceptsinsurance', 'Attribute_goodfordancing',\n",
    "       'Attribute_byob', 'Attribute_coatcheck', 'Attribute_smoking',\n",
    "       'Attribute_drivethru', 'Attribute_byobcorkage', 'Attribute_corkage',\n",
    "       'Attribute_restaurantscounterservice', 'Attribute_agesallowed',\n",
    "       'Attribute_open24hours']"
   ]
  },
  {
   "cell_type": "code",
   "execution_count": 66,
   "metadata": {},
   "outputs": [],
   "source": [
    "# Fill missing values\n",
    "data[attribute_columns] = data[attribute_columns].fillna(False)"
   ]
  },
  {
   "cell_type": "code",
   "execution_count": 67,
   "metadata": {},
   "outputs": [
    {
     "data": {
      "application/vnd.jupyter.widget-view+json": {
       "model_id": "404b9e42e261413ca7617877898723d0",
       "version_major": 2,
       "version_minor": 0
      },
      "text/plain": [
       "  0%|          | 0/39 [00:00<?, ?it/s]"
      ]
     },
     "metadata": {},
     "output_type": "display_data"
    },
    {
     "name": "stdout",
     "output_type": "stream",
     "text": [
      "Attribute_wifi : 4 ['free' 'paid' 'no' 'False']\n",
      "Attribute_restaurantspricerange2 : 5 ['2' '4' '1' '3' 'False']\n",
      "Attribute_alcohol : 3 ['beer_and_wine' 'full_bar' 'False']\n",
      "Attribute_noiselevel : 5 ['average' 'quiet' 'False' 'loud' 'very_loud']\n",
      "Attribute_restaurantsattire : 4 ['casual' 'dressy' 'False' 'formal']\n",
      "Attribute_smoking : 3 ['False' 'outdoor' 'yes']\n",
      "Attribute_byobcorkage : 3 ['yes_free' 'False' 'yes_corkage']\n",
      "Attribute_open24hours : 1 [False]\n"
     ]
    }
   ],
   "source": [
    "# Loop through attribute columns\n",
    "for c in tqdm(attribute_columns):\n",
    "    unique_values = data[c].unique() # get unique values\n",
    "    if len(unique_values) == 2:\n",
    "        data[c] = data[c].astype(bool) # if 2 unique values, convert to boolen (True/False)\n",
    "    else:\n",
    "        print(c,\":\",len(unique_values),unique_values) # print attribute and number of unique values"
   ]
  },
  {
   "cell_type": "code",
   "execution_count": 68,
   "metadata": {},
   "outputs": [],
   "source": [
    "import numpy as np"
   ]
  },
  {
   "cell_type": "code",
   "execution_count": 69,
   "metadata": {},
   "outputs": [
    {
     "data": {
      "application/vnd.jupyter.widget-view+json": {
       "model_id": "e0ea89e2bcae4d8ba506a7031675f952",
       "version_major": 2,
       "version_minor": 0
      },
      "text/plain": [
       "  0%|          | 0/39 [00:00<?, ?it/s]"
      ]
     },
     "metadata": {},
     "output_type": "display_data"
    }
   ],
   "source": [
    "# Loop through attribute columns \n",
    "for c in tqdm(attribute_columns):\n",
    "    if data[c].dtype == 'O': # if object data type, set False values to nan\n",
    "        data.loc[data[c]==False,c] = np.nan"
   ]
  },
  {
   "cell_type": "code",
   "execution_count": 70,
   "metadata": {},
   "outputs": [
    {
     "data": {
      "text/plain": [
       "Index(['business_id', 'user_id', 'city', 'state', 'geo_most_category',\n",
       "       'Attribute_wifi', 'Attribute_restaurantspricerange2',\n",
       "       'Attribute_alcohol', 'Attribute_noiselevel',\n",
       "       'Attribute_restaurantsattire', 'Attribute_smoking',\n",
       "       'Attribute_byobcorkage'],\n",
       "      dtype='object')"
      ]
     },
     "execution_count": 70,
     "metadata": {},
     "output_type": "execute_result"
    }
   ],
   "source": [
    "# Object columns\n",
    "data.columns[data.dtypes == 'O']"
   ]
  },
  {
   "cell_type": "code",
   "execution_count": 71,
   "metadata": {},
   "outputs": [
    {
     "data": {
      "text/plain": [
       "business_id                       object\n",
       "user_id                           object\n",
       "stars_x                          float64\n",
       "u.review_count                     int64\n",
       "u.useful                           int64\n",
       "                                  ...   \n",
       "Food Delivery Services              bool\n",
       "Taiwanese                           bool\n",
       "Seafood Markets                     bool\n",
       "Pharmacy                            bool\n",
       "Photography Stores & Services       bool\n",
       "Length: 223, dtype: object"
      ]
     },
     "execution_count": 71,
     "metadata": {},
     "output_type": "execute_result"
    }
   ],
   "source": [
    "# Data types\n",
    "data.dtypes"
   ]
  },
  {
   "cell_type": "code",
   "execution_count": 72,
   "metadata": {},
   "outputs": [
    {
     "data": {
      "application/vnd.jupyter.widget-view+json": {
       "model_id": "4f33fd0e93014d14bc75cb0396919ff9",
       "version_major": 2,
       "version_minor": 0
      },
      "text/plain": [
       "  0%|          | 0/39 [00:00<?, ?it/s]"
      ]
     },
     "metadata": {},
     "output_type": "display_data"
    },
    {
     "name": "stdout",
     "output_type": "stream",
     "text": [
      "Attribute_wifi\n",
      "Attribute_restaurantspricerange2\n",
      "Attribute_alcohol\n",
      "Attribute_noiselevel\n",
      "Attribute_restaurantsattire\n",
      "Attribute_smoking\n",
      "Attribute_byobcorkage\n"
     ]
    }
   ],
   "source": [
    "# print object columns\n",
    "for c in tqdm(attribute_columns):\n",
    "    if data[c].dtype == 'O':\n",
    "        print(c)"
   ]
  },
  {
   "cell_type": "code",
   "execution_count": 73,
   "metadata": {},
   "outputs": [],
   "source": [
    "# Define attribute columns and get dummies (one-hot encoding)\n",
    "attr_columns = ['Attribute_wifi',\n",
    "'Attribute_restaurantspricerange2',\n",
    "'Attribute_alcohol',\n",
    "'Attribute_noiselevel',\n",
    "'Attribute_restaurantsattire',\n",
    "'Attribute_smoking',\n",
    "'Attribute_byobcorkage',\n",
    "'Attribute_agesallowed']\n",
    "data = pd.get_dummies(data, columns = attr_columns, drop_first = True)"
   ]
  },
  {
   "cell_type": "code",
   "execution_count": 74,
   "metadata": {},
   "outputs": [
    {
     "name": "stdout",
     "output_type": "stream",
     "text": [
      "business_id\n",
      "user_id\n",
      "city\n",
      "state\n",
      "geo_most_category\n"
     ]
    }
   ],
   "source": [
    "for c in data.columns:\n",
    "    if data[c].dtype == 'O':\n",
    "        print(c)\n",
    "\n",
    "# Get dummies for state columns and drop unnessary columns\n",
    "data = pd.get_dummies(data, columns = ['state'], drop_first = True)\n",
    "data.drop(['city','geo_most_category'], axis = 1, inplace = True)"
   ]
  },
  {
   "cell_type": "code",
   "execution_count": 75,
   "metadata": {},
   "outputs": [],
   "source": [
    "# Get business/user ids separately\n",
    "biz_usr_id = data[['business_id','user_id']]"
   ]
  },
  {
   "cell_type": "code",
   "execution_count": 76,
   "metadata": {},
   "outputs": [],
   "source": [
    "# Drop business/user ids from main data\n",
    "data.drop(['business_id','user_id'], axis = 1, inplace = True)"
   ]
  },
  {
   "cell_type": "code",
   "execution_count": 77,
   "metadata": {},
   "outputs": [],
   "source": [
    "# Convert stars to int\n",
    "data['stars_x'] = data['stars_x'].astype(int)"
   ]
  },
  {
   "cell_type": "code",
   "execution_count": 78,
   "metadata": {},
   "outputs": [],
   "source": [
    "drop_columns = []\n",
    "for c in data.columns:\n",
    "    if data[c].min() == data[c].max(): # if no range, add to list of columns to drop\n",
    "        drop_columns.append(c)\n",
    "        \n",
    "data.drop(drop_columns, axis = 1, inplace = True) # drop columns"
   ]
  },
  {
   "cell_type": "code",
   "execution_count": 79,
   "metadata": {},
   "outputs": [],
   "source": [
    "for c in data.columns:\n",
    "    if data[c].dtype == 'bool': #if boolean type, convert to 8-bit int\n",
    "        data[c] = data[c].astype(np.int8)"
   ]
  },
  {
   "cell_type": "code",
   "execution_count": 80,
   "metadata": {},
   "outputs": [],
   "source": [
    "# define Y column\n",
    "Y_column = 'stars_x'"
   ]
  },
  {
   "cell_type": "code",
   "execution_count": 81,
   "metadata": {},
   "outputs": [],
   "source": [
    "\n",
    "y = data[Y_column]\n",
    "y = (y-1)/4\n",
    "y = np.log((y+1e-8)/(1-y+1e-8))\n",
    "X = data.drop(Y_column, axis = 1)"
   ]
  },
  {
   "cell_type": "code",
   "execution_count": 82,
   "metadata": {},
   "outputs": [],
   "source": [
    "from sklearn.model_selection import train_test_split\n",
    "from sklearn.preprocessing import MinMaxScaler\n",
    "import statsmodels.api as sm"
   ]
  },
  {
   "cell_type": "code",
   "execution_count": 136,
   "metadata": {},
   "outputs": [],
   "source": [
    "train_X, test_X, train_y, test_y = train_test_split(X,y,train_size = 0.7,random_state = 42)"
   ]
  },
  {
   "cell_type": "code",
   "execution_count": 84,
   "metadata": {},
   "outputs": [],
   "source": [
    "train_X_OLS = train_X.fillna(0)\n",
    "test_X_OLS = test_X.fillna(0)\n",
    "\n",
    "mmscaler = MinMaxScaler().fit(train_X_OLS)\n",
    "train_X_OLS = mmscaler.transform(train_X_OLS)\n",
    "lr_model = sm.OLS(train_y, sm.add_constant(train_X_OLS)).fit_regularized(L1_wt = 0, alpha = 1)"
   ]
  },
  {
   "cell_type": "code",
   "execution_count": 85,
   "metadata": {},
   "outputs": [],
   "source": [
    "from sklearn.model_selection import GridSearchCV, RandomizedSearchCV\n",
    "import xgboost as xgb"
   ]
  },
  {
   "cell_type": "code",
   "execution_count": 86,
   "metadata": {},
   "outputs": [],
   "source": [
    "t_X, v_X, t_y, v_y = train_test_split(train_X,train_y,train_size = 0.7, random_state = 42)\n",
    "\n",
    "dtrain_overall_X = xgb.DMatrix(train_X)\n",
    "dtrain = xgb.DMatrix(t_X,  label = t_y)\n",
    "dval = xgb.DMatrix(v_X,  label = v_y)"
   ]
  },
  {
   "cell_type": "code",
   "execution_count": 206,
   "metadata": {},
   "outputs": [],
   "source": [
    "dtrain_overall_X = xgb.DMatrix(train_X)"
   ]
  },
  {
   "cell_type": "code",
   "execution_count": 88,
   "metadata": {
    "scrolled": true,
    "tags": []
   },
   "outputs": [
    {
     "name": "stdout",
     "output_type": "stream",
     "text": [
      "[0]\ttrain-rmse:12.71031\teval-rmse:12.74683\n",
      "[1]\ttrain-rmse:12.34359\teval-rmse:12.38243\n",
      "[2]\ttrain-rmse:11.86687\teval-rmse:11.90800\n",
      "[3]\ttrain-rmse:11.52253\teval-rmse:11.56771\n",
      "[4]\ttrain-rmse:11.29191\teval-rmse:11.33936\n",
      "[5]\ttrain-rmse:11.10102\teval-rmse:11.15027\n",
      "[6]\ttrain-rmse:10.84936\teval-rmse:10.90174\n",
      "[7]\ttrain-rmse:10.61017\teval-rmse:10.66474\n",
      "[8]\ttrain-rmse:10.49355\teval-rmse:10.55075\n",
      "[9]\ttrain-rmse:10.33286\teval-rmse:10.39332\n",
      "[10]\ttrain-rmse:10.20100\teval-rmse:10.26475\n",
      "[11]\ttrain-rmse:10.12791\teval-rmse:10.19386\n",
      "[12]\ttrain-rmse:10.08645\teval-rmse:10.15573\n",
      "[13]\ttrain-rmse:9.99105\teval-rmse:10.06283\n",
      "[14]\ttrain-rmse:9.91241\teval-rmse:9.98629\n",
      "[15]\ttrain-rmse:9.83138\teval-rmse:9.90689\n",
      "[16]\ttrain-rmse:9.76427\teval-rmse:9.84133\n",
      "[17]\ttrain-rmse:9.72050\teval-rmse:9.79983\n",
      "[18]\ttrain-rmse:9.69394\teval-rmse:9.77549\n",
      "[19]\ttrain-rmse:9.65106\teval-rmse:9.73421\n",
      "[20]\ttrain-rmse:9.61392\teval-rmse:9.69809\n",
      "[21]\ttrain-rmse:9.59038\teval-rmse:9.67694\n",
      "[22]\ttrain-rmse:9.57557\teval-rmse:9.66410\n",
      "[23]\ttrain-rmse:9.55132\teval-rmse:9.64092\n",
      "[24]\ttrain-rmse:9.53055\teval-rmse:9.62129\n",
      "[25]\ttrain-rmse:9.51729\teval-rmse:9.60913\n",
      "[26]\ttrain-rmse:9.50202\teval-rmse:9.59477\n",
      "[27]\ttrain-rmse:9.49760\teval-rmse:9.59281\n",
      "[28]\ttrain-rmse:9.48487\teval-rmse:9.58105\n",
      "[29]\ttrain-rmse:9.47340\teval-rmse:9.57119\n",
      "[30]\ttrain-rmse:9.46730\teval-rmse:9.56675\n",
      "[31]\ttrain-rmse:9.45772\teval-rmse:9.55861\n",
      "[32]\ttrain-rmse:9.45010\teval-rmse:9.55238\n",
      "[33]\ttrain-rmse:9.44457\teval-rmse:9.54866\n",
      "[34]\ttrain-rmse:9.43802\teval-rmse:9.54410\n",
      "[35]\ttrain-rmse:9.43170\teval-rmse:9.53977\n",
      "[36]\ttrain-rmse:9.42669\teval-rmse:9.53663\n",
      "[37]\ttrain-rmse:9.42188\teval-rmse:9.53375\n",
      "[38]\ttrain-rmse:9.41832\teval-rmse:9.53206\n",
      "[39]\ttrain-rmse:9.41439\teval-rmse:9.53059\n",
      "[40]\ttrain-rmse:9.41014\teval-rmse:9.52864\n",
      "[41]\ttrain-rmse:9.40650\teval-rmse:9.52676\n",
      "[42]\ttrain-rmse:9.40281\teval-rmse:9.52466\n",
      "[43]\ttrain-rmse:9.39918\teval-rmse:9.52305\n",
      "[44]\ttrain-rmse:9.39567\teval-rmse:9.52130\n",
      "[45]\ttrain-rmse:9.39335\teval-rmse:9.52039\n",
      "[46]\ttrain-rmse:9.39074\teval-rmse:9.51936\n",
      "[47]\ttrain-rmse:9.38685\teval-rmse:9.51759\n",
      "[48]\ttrain-rmse:9.38372\teval-rmse:9.51677\n",
      "[49]\ttrain-rmse:9.38118\teval-rmse:9.51654\n",
      "[50]\ttrain-rmse:9.37882\teval-rmse:9.51610\n",
      "[51]\ttrain-rmse:9.37591\teval-rmse:9.51551\n",
      "[52]\ttrain-rmse:9.37299\teval-rmse:9.51534\n",
      "[53]\ttrain-rmse:9.37096\teval-rmse:9.51452\n",
      "[54]\ttrain-rmse:9.36798\teval-rmse:9.51407\n",
      "[55]\ttrain-rmse:9.36544\teval-rmse:9.51361\n",
      "[56]\ttrain-rmse:9.36319\teval-rmse:9.51307\n",
      "[57]\ttrain-rmse:9.36074\teval-rmse:9.51306\n",
      "[58]\ttrain-rmse:9.35892\teval-rmse:9.51250\n",
      "[59]\ttrain-rmse:9.35751\teval-rmse:9.51237\n",
      "[60]\ttrain-rmse:9.35468\teval-rmse:9.51242\n",
      "[61]\ttrain-rmse:9.35215\teval-rmse:9.51197\n",
      "[62]\ttrain-rmse:9.34983\teval-rmse:9.51197\n",
      "[63]\ttrain-rmse:9.34790\teval-rmse:9.51174\n",
      "[64]\ttrain-rmse:9.34627\teval-rmse:9.51137\n",
      "[65]\ttrain-rmse:9.34446\teval-rmse:9.51127\n",
      "[66]\ttrain-rmse:9.34293\teval-rmse:9.51106\n",
      "[67]\ttrain-rmse:9.34129\teval-rmse:9.51100\n",
      "[68]\ttrain-rmse:9.34031\teval-rmse:9.51069\n",
      "[69]\ttrain-rmse:9.33852\teval-rmse:9.51041\n",
      "[70]\ttrain-rmse:9.33709\teval-rmse:9.50995\n",
      "[71]\ttrain-rmse:9.33536\teval-rmse:9.51004\n",
      "[72]\ttrain-rmse:9.33189\teval-rmse:9.50951\n",
      "[73]\ttrain-rmse:9.33038\teval-rmse:9.50980\n",
      "[74]\ttrain-rmse:9.32818\teval-rmse:9.50962\n",
      "[75]\ttrain-rmse:9.32637\teval-rmse:9.50959\n",
      "[76]\ttrain-rmse:9.32468\teval-rmse:9.50949\n",
      "[77]\ttrain-rmse:9.32324\teval-rmse:9.50977\n",
      "[78]\ttrain-rmse:9.32067\teval-rmse:9.50960\n",
      "[79]\ttrain-rmse:9.31933\teval-rmse:9.50958\n",
      "[80]\ttrain-rmse:9.31771\teval-rmse:9.50984\n",
      "[81]\ttrain-rmse:9.31570\teval-rmse:9.50946\n",
      "[82]\ttrain-rmse:9.31425\teval-rmse:9.50958\n",
      "[83]\ttrain-rmse:9.31293\teval-rmse:9.50935\n",
      "[84]\ttrain-rmse:9.31126\teval-rmse:9.50926\n",
      "[85]\ttrain-rmse:9.31075\teval-rmse:9.50928\n",
      "[86]\ttrain-rmse:9.30853\teval-rmse:9.50902\n",
      "[87]\ttrain-rmse:9.30688\teval-rmse:9.50882\n",
      "[88]\ttrain-rmse:9.30493\teval-rmse:9.50895\n",
      "[89]\ttrain-rmse:9.30317\teval-rmse:9.50871\n",
      "[90]\ttrain-rmse:9.30057\teval-rmse:9.50831\n",
      "[91]\ttrain-rmse:9.29924\teval-rmse:9.50804\n",
      "[92]\ttrain-rmse:9.29702\teval-rmse:9.50784\n",
      "[93]\ttrain-rmse:9.29492\teval-rmse:9.50761\n",
      "[94]\ttrain-rmse:9.29430\teval-rmse:9.50782\n",
      "[95]\ttrain-rmse:9.29257\teval-rmse:9.50736\n",
      "[96]\ttrain-rmse:9.29073\teval-rmse:9.50722\n",
      "[97]\ttrain-rmse:9.28940\teval-rmse:9.50745\n",
      "[98]\ttrain-rmse:9.28850\teval-rmse:9.50753\n",
      "[99]\ttrain-rmse:9.28669\teval-rmse:9.50783\n",
      "[100]\ttrain-rmse:9.28594\teval-rmse:9.50788\n",
      "[101]\ttrain-rmse:9.28388\teval-rmse:9.50795\n",
      "[102]\ttrain-rmse:9.28250\teval-rmse:9.50778\n",
      "[103]\ttrain-rmse:9.28079\teval-rmse:9.50771\n",
      "[104]\ttrain-rmse:9.27913\teval-rmse:9.50761\n",
      "[105]\ttrain-rmse:9.27871\teval-rmse:9.50765\n",
      "[106]\ttrain-rmse:9.27694\teval-rmse:9.50747\n",
      "[107]\ttrain-rmse:9.27544\teval-rmse:9.50730\n",
      "[108]\ttrain-rmse:9.27375\teval-rmse:9.50707\n",
      "[109]\ttrain-rmse:9.27259\teval-rmse:9.50712\n",
      "[110]\ttrain-rmse:9.27108\teval-rmse:9.50698\n",
      "[111]\ttrain-rmse:9.26948\teval-rmse:9.50707\n",
      "[112]\ttrain-rmse:9.26822\teval-rmse:9.50698\n",
      "[113]\ttrain-rmse:9.26736\teval-rmse:9.50721\n",
      "[114]\ttrain-rmse:9.26538\teval-rmse:9.50705\n",
      "[115]\ttrain-rmse:9.26388\teval-rmse:9.50700\n",
      "[116]\ttrain-rmse:9.26260\teval-rmse:9.50694\n",
      "[117]\ttrain-rmse:9.26188\teval-rmse:9.50707\n",
      "[118]\ttrain-rmse:9.26031\teval-rmse:9.50734\n",
      "[119]\ttrain-rmse:9.25895\teval-rmse:9.50727\n",
      "[120]\ttrain-rmse:9.25680\teval-rmse:9.50670\n",
      "[121]\ttrain-rmse:9.25550\teval-rmse:9.50666\n",
      "[122]\ttrain-rmse:9.25362\teval-rmse:9.50642\n",
      "[123]\ttrain-rmse:9.25244\teval-rmse:9.50627\n",
      "[124]\ttrain-rmse:9.25097\teval-rmse:9.50636\n",
      "[125]\ttrain-rmse:9.24952\teval-rmse:9.50660\n",
      "[126]\ttrain-rmse:9.24787\teval-rmse:9.50682\n",
      "[127]\ttrain-rmse:9.24676\teval-rmse:9.50693\n",
      "[128]\ttrain-rmse:9.24545\teval-rmse:9.50671\n",
      "[129]\ttrain-rmse:9.24395\teval-rmse:9.50684\n",
      "[130]\ttrain-rmse:9.24250\teval-rmse:9.50663\n",
      "[131]\ttrain-rmse:9.24117\teval-rmse:9.50677\n",
      "[132]\ttrain-rmse:9.24044\teval-rmse:9.50676\n",
      "[133]\ttrain-rmse:9.23978\teval-rmse:9.50672\n",
      "[134]\ttrain-rmse:9.23846\teval-rmse:9.50683\n",
      "[135]\ttrain-rmse:9.23674\teval-rmse:9.50691\n",
      "[136]\ttrain-rmse:9.23493\teval-rmse:9.50682\n",
      "[137]\ttrain-rmse:9.23402\teval-rmse:9.50687\n"
     ]
    },
    {
     "ename": "NameError",
     "evalue": "name 'dump' is not defined",
     "output_type": "error",
     "traceback": [
      "\u001b[1;31m---------------------------------------------------------------------------\u001b[0m",
      "\u001b[1;31mNameError\u001b[0m                                 Traceback (most recent call last)",
      "\u001b[1;32mC:\\Users\\ADRIAN~1\\AppData\\Local\\Temp/ipykernel_27804/3407450273.py\u001b[0m in \u001b[0;36m<module>\u001b[1;34m\u001b[0m\n\u001b[0;32m     12\u001b[0m xgb_model = xgb.train(gbm_param, dtrain = dtrain, evals=watchlist, evals_result = evaluation_results, verbose_eval = 1, \n\u001b[0;32m     13\u001b[0m                    num_boost_round = 10000, early_stopping_rounds = 15)\n\u001b[1;32m---> 14\u001b[1;33m \u001b[0mdump\u001b[0m\u001b[1;33m(\u001b[0m\u001b[0mxgb_model\u001b[0m\u001b[1;33m,\u001b[0m \u001b[1;34m'xgb.joblib'\u001b[0m\u001b[1;33m)\u001b[0m\u001b[1;33m\u001b[0m\u001b[1;33m\u001b[0m\u001b[0m\n\u001b[0m",
      "\u001b[1;31mNameError\u001b[0m: name 'dump' is not defined"
     ]
    }
   ],
   "source": [
    "gbm_param = {\n",
    "    'objective':'reg:squarederror',\n",
    "    \"eta\": 0.1,\n",
    "    \"colsample_bytree\": 0.7,\n",
    "    \"eval_metric\": [\"rmse\"],\n",
    "}\n",
    "watchlist = [(dtrain, 'train'), (dval, 'eval')]\n",
    "evaluation_results = {}\n",
    "# Instantiate the regressor: gbm\n",
    "# xgb_model = xgb.cv(gbm_param, dtrain = dtrain, evals=watchlist, evals_result = evaluation_results, verbose_eval = 50, \n",
    "#                    num_boost_round = 1000, early_stopping_rounds = 15)\n",
    "xgb_model = xgb.train(gbm_param, dtrain = dtrain, evals=watchlist, evals_result = evaluation_results, verbose_eval = 1, \n",
    "                   num_boost_round = 10000, early_stopping_rounds = 15)"
   ]
  },
  {
   "cell_type": "code",
   "execution_count": 111,
   "metadata": {},
   "outputs": [],
   "source": [
    "dtest = xgb.DMatrix(test_X)\n",
    "\n",
    "pred_y_xgb = xgb_model.predict(dtest)\n",
    "pred_y_lr = lr_model.predict(sm.add_constant(mmscaler.transform(test_X.fillna(0))))"
   ]
  },
  {
   "cell_type": "code",
   "execution_count": 137,
   "metadata": {},
   "outputs": [],
   "source": [
    "pred_y_xgb = logit_inv(pred_y_xgb)\n",
    "pred_y_lr = logit_inv(pred_y_lr)\n",
    "test_y_logit = logit_inv(test_y)"
   ]
  },
  {
   "cell_type": "code",
   "execution_count": 141,
   "metadata": {},
   "outputs": [],
   "source": [
    "test_label = biz_usr_id.loc[test_X.index]\n",
    "test_label['predict_xgb'] = pred_y_xgb\n",
    "test_label['predict_lr'] = pred_y_lr\n",
    "test_label['actual'] = test_y_logit\n",
    "test_label.set_index('user_id', inplace = True)"
   ]
  },
  {
   "cell_type": "code",
   "execution_count": 142,
   "metadata": {},
   "outputs": [
    {
     "data": {
      "text/plain": [
       "0.30689077438571327"
      ]
     },
     "execution_count": 142,
     "metadata": {},
     "output_type": "execute_result"
    }
   ],
   "source": [
    "np.sqrt(np.sum((test_label['predict_xgb']-test_label['actual'])**2)/len(test_label))"
   ]
  },
  {
   "cell_type": "code",
   "execution_count": 143,
   "metadata": {},
   "outputs": [
    {
     "data": {
      "text/plain": [
       "0.34893816037164294"
      ]
     },
     "execution_count": 143,
     "metadata": {},
     "output_type": "execute_result"
    }
   ],
   "source": [
    "np.sqrt(np.sum((test_label['predict_lr']-test_label['actual'])**2)/len(test_label))"
   ]
  },
  {
   "cell_type": "code",
   "execution_count": 152,
   "metadata": {},
   "outputs": [],
   "source": [
    "from sklearn.metrics import ndcg_score,average_precision_score"
   ]
  },
  {
   "cell_type": "code",
   "execution_count": 166,
   "metadata": {},
   "outputs": [
    {
     "data": {
      "application/vnd.jupyter.widget-view+json": {
       "model_id": "e84a4554f1054e62a51f7318897d9c61",
       "version_major": 2,
       "version_minor": 0
      },
      "text/plain": [
       "  0%|          | 0/42083 [00:00<?, ?it/s]"
      ]
     },
     "metadata": {},
     "output_type": "display_data"
    }
   ],
   "source": [
    "xgb_list = []\n",
    "lr_list = []\n",
    "for usr_id in tqdm(test_label.index.unique().tolist()):\n",
    "    \n",
    "    result_xgb = {}\n",
    "    result_lr = {}\n",
    "    \n",
    "    curr_user_actual = test_label.loc[[usr_id]].set_index('business_id')\n",
    "    actual = (curr_user_actual['actual']*4+1).astype(int)\n",
    "    if len(curr_user_actual) > 1:\n",
    "        result_xgb['NDCG'] = ndcg_score([actual.values], [curr_user_actual['predict_xgb'].values])\n",
    "        result_lr['NDCG'] = ndcg_score([actual.values], [curr_user_actual['predict_lr'].values])\n",
    "    else:\n",
    "        result_xgb['NDCG'] = result_lr['NDCG'] = np.nan\n",
    "            \n",
    "    actual = (actual-actual.min())/(actual.max()-actual.min())\n",
    "    pred_xgb = (curr_user_actual['predict_xgb'] - curr_user_actual['predict_xgb'].min())/(curr_user_actual['predict_xgb'].max()-curr_user_actual['predict_xgb'].min())\n",
    "    pred_lr = (curr_user_actual['predict_lr'] - curr_user_actual['predict_lr'].min())/(curr_user_actual['predict_lr'].max()-curr_user_actual['predict_lr'].min())\n",
    "    \n",
    "    result_xgb['SE'] = np.sum((pred_xgb-actual)**2)\n",
    "    result_lr['SE'] = np.sum((pred_lr-actual)**2)\n",
    "    result_xgb['count'] = result_lr['count'] = len(pred_lr)\n",
    "    \n",
    "    xgb_list.append(result_xgb)\n",
    "    lr_list.append(result_lr)\n"
   ]
  },
  {
   "cell_type": "code",
   "execution_count": 175,
   "metadata": {},
   "outputs": [],
   "source": [
    "result_xgb = pd.DataFrame(xgb_list)\n",
    "result_xgb = result_xgb[result_xgb['NDCG'].notnull()]"
   ]
  },
  {
   "cell_type": "code",
   "execution_count": 176,
   "metadata": {},
   "outputs": [
    {
     "data": {
      "text/plain": [
       "0.4470990748989602"
      ]
     },
     "execution_count": 176,
     "metadata": {},
     "output_type": "execute_result"
    }
   ],
   "source": [
    "np.sqrt(result_xgb['SE'].sum() / result_xgb['count'].sum())"
   ]
  },
  {
   "cell_type": "code",
   "execution_count": 177,
   "metadata": {},
   "outputs": [
    {
     "data": {
      "text/plain": [
       "0.9714347336665032"
      ]
     },
     "execution_count": 177,
     "metadata": {},
     "output_type": "execute_result"
    }
   ],
   "source": [
    "np.dot(result_xgb['NDCG'], result_xgb['count'])/result_xgb['count'].sum()"
   ]
  },
  {
   "cell_type": "code",
   "execution_count": 178,
   "metadata": {},
   "outputs": [],
   "source": [
    "result_lr = pd.DataFrame(lr_list)\n",
    "result_lr = result_lr[result_lr['NDCG'].notnull()]"
   ]
  },
  {
   "cell_type": "code",
   "execution_count": 179,
   "metadata": {},
   "outputs": [
    {
     "data": {
      "text/plain": [
       "0.46572820165811657"
      ]
     },
     "execution_count": 179,
     "metadata": {},
     "output_type": "execute_result"
    }
   ],
   "source": [
    "np.sqrt(result_lr['SE'].sum() / result_lr['count'].sum())"
   ]
  },
  {
   "cell_type": "code",
   "execution_count": 180,
   "metadata": {},
   "outputs": [
    {
     "data": {
      "text/plain": [
       "0.9591023878805295"
      ]
     },
     "execution_count": 180,
     "metadata": {},
     "output_type": "execute_result"
    }
   ],
   "source": [
    "np.dot(result_lr['NDCG'], result_lr['count'])/result_lr['count'].sum()"
   ]
  },
  {
   "cell_type": "code",
   "execution_count": 185,
   "metadata": {},
   "outputs": [],
   "source": [
    "ttt = xgb_model.predict(dtest, pred_leaf = True)"
   ]
  },
  {
   "cell_type": "code",
   "execution_count": 192,
   "metadata": {},
   "outputs": [
    {
     "data": {
      "text/plain": [
       "(98168, 229)"
      ]
     },
     "execution_count": 192,
     "metadata": {},
     "output_type": "execute_result"
    }
   ],
   "source": [
    "test_X.shape"
   ]
  },
  {
   "cell_type": "code",
   "execution_count": 203,
   "metadata": {},
   "outputs": [
    {
     "data": {
      "text/plain": [
       "8"
      ]
     },
     "execution_count": 208,
     "metadata": {},
     "output_type": "execute_result"
    }
   ],
   "source": []
  },
  {
   "cell_type": "markdown",
   "metadata": {},
   "source": [
    "xgboost+LR"
   ]
  },
  {
   "cell_type": "code",
   "execution_count": 268,
   "metadata": {},
   "outputs": [
    {
     "name": "stdout",
     "output_type": "stream",
     "text": [
      "[0]\ttrain-rmse:10.76732\teval-rmse:10.80672\n",
      "[1]\ttrain-rmse:10.20519\teval-rmse:10.24075\n",
      "[2]\ttrain-rmse:9.97392\teval-rmse:10.00978\n",
      "[3]\ttrain-rmse:9.86944\teval-rmse:9.90981\n",
      "[4]\ttrain-rmse:9.86017\teval-rmse:9.89814\n",
      "[5]\ttrain-rmse:9.82950\teval-rmse:9.87096\n",
      "[6]\ttrain-rmse:9.82402\teval-rmse:9.86609\n",
      "[7]\ttrain-rmse:9.76683\teval-rmse:9.80758\n",
      "[8]\ttrain-rmse:9.74614\teval-rmse:9.79071\n",
      "[9]\ttrain-rmse:9.72217\teval-rmse:9.76866\n",
      "[10]\ttrain-rmse:9.69636\teval-rmse:9.73820\n",
      "[11]\ttrain-rmse:9.67703\teval-rmse:9.71294\n",
      "[12]\ttrain-rmse:9.67373\teval-rmse:9.71000\n",
      "[13]\ttrain-rmse:9.66490\teval-rmse:9.70324\n",
      "[14]\ttrain-rmse:9.65552\teval-rmse:9.69653\n",
      "[15]\ttrain-rmse:9.65109\teval-rmse:9.69380\n",
      "[16]\ttrain-rmse:9.63965\teval-rmse:9.68164\n",
      "[17]\ttrain-rmse:9.63691\teval-rmse:9.68001\n",
      "[18]\ttrain-rmse:9.63244\teval-rmse:9.67617\n",
      "[19]\ttrain-rmse:9.62946\teval-rmse:9.67428\n"
     ]
    }
   ],
   "source": [
    "gbm_param = {\n",
    "    'objective':'reg:squarederror',\n",
    "    \"eta\": 1.2,\n",
    "    \"colsample_bytree\": 0.5,\n",
    "    \"eval_metric\": [\"rmse\"],\n",
    "    \"max_depth\":2\n",
    "}\n",
    "watchlist = [(dtrain, 'train'), (dval, 'eval')]\n",
    "evaluation_results = {}\n",
    "# Instantiate the regressor: gbm\n",
    "# xgb_model = xgb.cv(gbm_param, dtrain = dtrain, evals=watchlist, evals_result = evaluation_results, verbose_eval = 50, \n",
    "#                    num_boost_round = 1000, early_stopping_rounds = 15)\n",
    "xgb_model_feature = xgb.train(gbm_param, dtrain = dtrain, evals=watchlist, evals_result = evaluation_results, verbose_eval = 1, \n",
    "                   num_boost_round = 20, early_stopping_rounds = 15)"
   ]
  },
  {
   "cell_type": "code",
   "execution_count": 269,
   "metadata": {},
   "outputs": [],
   "source": [
    "train_feature_df = pd.DataFrame(xgb_model_feature.predict(dtrain_overall_X, pred_leaf = True))\n",
    "train_feature_df = pd.get_dummies(train_feature_df.astype(int).astype('str'), drop_first = True)"
   ]
  },
  {
   "cell_type": "code",
   "execution_count": 270,
   "metadata": {},
   "outputs": [],
   "source": [
    "test_feature_df = pd.DataFrame(xgb_model_feature.predict(dtest, pred_leaf = True))\n",
    "test_feature_df = pd.get_dummies(test_feature_df.astype(int).astype('str'), drop_first = True)"
   ]
  },
  {
   "cell_type": "code",
   "execution_count": 271,
   "metadata": {},
   "outputs": [
    {
     "data": {
      "text/plain": [
       "(229058, 61)"
      ]
     },
     "execution_count": 271,
     "metadata": {},
     "output_type": "execute_result"
    }
   ],
   "source": [
    "sm.add_constant(train_feature_df.astype(int)).shape"
   ]
  },
  {
   "cell_type": "code",
   "execution_count": 286,
   "metadata": {},
   "outputs": [
    {
     "name": "stderr",
     "output_type": "stream",
     "text": [
      "C:\\Users\\AdrianPan\\anaconda3\\lib\\site-packages\\statsmodels\\tsa\\tsatools.py:142: FutureWarning: In a future version of pandas all arguments of concat except for the argument 'objs' will be keyword-only\n",
      "  x = pd.concat(x[::order], 1)\n"
     ]
    }
   ],
   "source": [
    "lr_xgb_model = sm.OLS(train_y.reset_index(drop = True), sm.add_constant(train_feature_df.astype(int))).fit()"
   ]
  },
  {
   "cell_type": "code",
   "execution_count": 287,
   "metadata": {},
   "outputs": [],
   "source": [
    "lr_xgb_predict = lr_xgb_model.predict(sm.add_constant(test_feature_df))"
   ]
  },
  {
   "cell_type": "code",
   "execution_count": 288,
   "metadata": {},
   "outputs": [],
   "source": [
    "test_label['lr_xgb'] = logit_inv(lr_xgb_predict.values)"
   ]
  },
  {
   "cell_type": "code",
   "execution_count": 289,
   "metadata": {},
   "outputs": [
    {
     "data": {
      "text/html": [
       "<div>\n",
       "<style scoped>\n",
       "    .dataframe tbody tr th:only-of-type {\n",
       "        vertical-align: middle;\n",
       "    }\n",
       "\n",
       "    .dataframe tbody tr th {\n",
       "        vertical-align: top;\n",
       "    }\n",
       "\n",
       "    .dataframe thead th {\n",
       "        text-align: right;\n",
       "    }\n",
       "</style>\n",
       "<table border=\"1\" class=\"dataframe\">\n",
       "  <thead>\n",
       "    <tr style=\"text-align: right;\">\n",
       "      <th></th>\n",
       "      <th>predict_xgb</th>\n",
       "      <th>predict_lr</th>\n",
       "      <th>actual</th>\n",
       "      <th>lr_xgb</th>\n",
       "    </tr>\n",
       "  </thead>\n",
       "  <tbody>\n",
       "    <tr>\n",
       "      <th>count</th>\n",
       "      <td>98168.000000</td>\n",
       "      <td>98168.000000</td>\n",
       "      <td>9.816800e+04</td>\n",
       "      <td>9.816800e+04</td>\n",
       "    </tr>\n",
       "    <tr>\n",
       "      <th>mean</th>\n",
       "      <td>0.686290</td>\n",
       "      <td>0.728805</td>\n",
       "      <td>6.842530e-01</td>\n",
       "      <td>8.058942e-01</td>\n",
       "    </tr>\n",
       "    <tr>\n",
       "      <th>std</th>\n",
       "      <td>0.081462</td>\n",
       "      <td>0.003229</td>\n",
       "      <td>3.472663e-01</td>\n",
       "      <td>3.510376e-01</td>\n",
       "    </tr>\n",
       "    <tr>\n",
       "      <th>min</th>\n",
       "      <td>0.500000</td>\n",
       "      <td>0.669468</td>\n",
       "      <td>1.000000e-08</td>\n",
       "      <td>4.671190e-12</td>\n",
       "    </tr>\n",
       "    <tr>\n",
       "      <th>25%</th>\n",
       "      <td>0.698957</td>\n",
       "      <td>0.728432</td>\n",
       "      <td>5.000000e-01</td>\n",
       "      <td>8.550493e-01</td>\n",
       "    </tr>\n",
       "    <tr>\n",
       "      <th>50%</th>\n",
       "      <td>0.730609</td>\n",
       "      <td>0.729968</td>\n",
       "      <td>7.500000e-01</td>\n",
       "      <td>9.975327e-01</td>\n",
       "    </tr>\n",
       "    <tr>\n",
       "      <th>75%</th>\n",
       "      <td>0.731053</td>\n",
       "      <td>0.730564</td>\n",
       "      <td>1.000000e+00</td>\n",
       "      <td>9.999621e-01</td>\n",
       "    </tr>\n",
       "    <tr>\n",
       "      <th>max</th>\n",
       "      <td>0.731059</td>\n",
       "      <td>0.731011</td>\n",
       "      <td>1.000000e+00</td>\n",
       "      <td>1.000000e+00</td>\n",
       "    </tr>\n",
       "  </tbody>\n",
       "</table>\n",
       "</div>"
      ],
      "text/plain": [
       "        predict_xgb    predict_lr        actual        lr_xgb\n",
       "count  98168.000000  98168.000000  9.816800e+04  9.816800e+04\n",
       "mean       0.686290      0.728805  6.842530e-01  8.058942e-01\n",
       "std        0.081462      0.003229  3.472663e-01  3.510376e-01\n",
       "min        0.500000      0.669468  1.000000e-08  4.671190e-12\n",
       "25%        0.698957      0.728432  5.000000e-01  8.550493e-01\n",
       "50%        0.730609      0.729968  7.500000e-01  9.975327e-01\n",
       "75%        0.731053      0.730564  1.000000e+00  9.999621e-01\n",
       "max        0.731059      0.731011  1.000000e+00  1.000000e+00"
      ]
     },
     "execution_count": 289,
     "metadata": {},
     "output_type": "execute_result"
    }
   ],
   "source": [
    "test_label.describe()"
   ]
  },
  {
   "cell_type": "code",
   "execution_count": 290,
   "metadata": {},
   "outputs": [
    {
     "data": {
      "text/plain": [
       "9049096.230203485"
      ]
     },
     "execution_count": 290,
     "metadata": {},
     "output_type": "execute_result"
    }
   ],
   "source": [
    "np.sum((lr_xgb_predict - test_y.reset_index(drop = True))**2)"
   ]
  },
  {
   "cell_type": "code",
   "execution_count": 300,
   "metadata": {},
   "outputs": [
    {
     "data": {
      "application/vnd.jupyter.widget-view+json": {
       "model_id": "8fbd4ae115274fd1a6eb35fe8beab622",
       "version_major": 2,
       "version_minor": 0
      },
      "text/plain": [
       "  0%|          | 0/42083 [00:00<?, ?it/s]"
      ]
     },
     "metadata": {},
     "output_type": "display_data"
    }
   ],
   "source": [
    "lr_list = []\n",
    "for usr_id in tqdm(test_label.index.unique().tolist()):\n",
    "    \n",
    "    result_lr = {}\n",
    "    \n",
    "    curr_user_actual = test_label.loc[[usr_id],['actual','lr_xgb']]\n",
    "    actual = (curr_user_actual['actual']*4+1).astype(int)\n",
    "    if len(curr_user_actual) > 1:\n",
    "        result_lr['NDCG'] = ndcg_score([actual.values], [curr_user_actual['lr_xgb'].values])\n",
    "    else:\n",
    "        result_lr['NDCG'] = np.nan\n",
    "            \n",
    "    actual = (actual-actual.min())/(actual.max()-actual.min())\n",
    "    pred_lr = (curr_user_actual['lr_xgb'] - curr_user_actual['lr_xgb'].min())/(curr_user_actual['lr_xgb'].max()-curr_user_actual['lr_xgb'].min())\n",
    "    \n",
    "    result_lr['SE'] = np.sum((pred_lr-actual)**2)\n",
    "    result_lr['count'] = len(pred_lr)\n",
    "    \n",
    "    lr_list.append(result_lr)\n"
   ]
  },
  {
   "cell_type": "code",
   "execution_count": 301,
   "metadata": {},
   "outputs": [],
   "source": [
    "result_lr = pd.DataFrame(lr_list)\n",
    "result_lr = result_lr[result_lr['NDCG'].notnull()]"
   ]
  },
  {
   "cell_type": "code",
   "execution_count": 307,
   "metadata": {},
   "outputs": [
    {
     "data": {
      "text/plain": [
       "0.4493242803843658"
      ]
     },
     "execution_count": 307,
     "metadata": {},
     "output_type": "execute_result"
    }
   ],
   "source": [
    "np.sqrt(result_lr['SE'].sum() / result_lr['count'].sum())"
   ]
  },
  {
   "cell_type": "code",
   "execution_count": 309,
   "metadata": {},
   "outputs": [
    {
     "data": {
      "text/plain": [
       "0.9708423678122113"
      ]
     },
     "execution_count": 309,
     "metadata": {},
     "output_type": "execute_result"
    }
   ],
   "source": [
    "np.dot(result_lr['NDCG'], result_lr['count'])/result_lr['count'].sum()"
   ]
  },
  {
   "cell_type": "code",
   "execution_count": null,
   "metadata": {},
   "outputs": [],
   "source": []
  }
 ],
 "metadata": {
  "kernelspec": {
   "display_name": "Python 3",
   "language": "python",
   "name": "python3"
  },
  "language_info": {
   "codemirror_mode": {
    "name": "ipython",
    "version": 3
   },
   "file_extension": ".py",
   "mimetype": "text/x-python",
   "name": "python",
   "nbconvert_exporter": "python",
   "pygments_lexer": "ipython3",
   "version": "3.8.5"
  }
 },
 "nbformat": 4,
 "nbformat_minor": 5
}
