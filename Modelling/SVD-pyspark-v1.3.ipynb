{
 "cells": [
  {
   "cell_type": "code",
   "execution_count": 1,
   "metadata": {},
   "outputs": [
    {
     "name": "stdout",
     "output_type": "stream",
     "text": [
      "+-----------+--------------------+-----------+\n",
      "|   database|           tableName|isTemporary|\n",
      "+-----------+--------------------+-----------+\n",
      "|dmp_yelp_rs|           biz_table|      false|\n",
      "|dmp_yelp_rs|   business_ambience|      false|\n",
      "|dmp_yelp_rs| business_attributes|      false|\n",
      "|dmp_yelp_rs|  business_basicdata|      false|\n",
      "|dmp_yelp_rs| business_bestnights|      false|\n",
      "|dmp_yelp_rs|business_business...|      false|\n",
      "|dmp_yelp_rs|business_dietaryr...|      false|\n",
      "|dmp_yelp_rs|business_goodformeal|      false|\n",
      "|dmp_yelp_rs|business_hairspec...|      false|\n",
      "|dmp_yelp_rs|      business_music|      false|\n",
      "|dmp_yelp_rs|             checkin|      false|\n",
      "|dmp_yelp_rs|        geo_features|      false|\n",
      "|dmp_yelp_rs|              review|      false|\n",
      "|dmp_yelp_rs|                 tip|      false|\n",
      "|dmp_yelp_rs|         ts_features|      false|\n",
      "|dmp_yelp_rs|     ts_features_new|      false|\n",
      "|dmp_yelp_rs|               users|      false|\n",
      "+-----------+--------------------+-----------+\n",
      "\n"
     ]
    }
   ],
   "source": [
    "from pyspark.sql import SparkSession\n",
    "from pyspark.sql import HiveContext\n",
    "import pandas as pd\n",
    "\n",
    "# Use database and list tables\n",
    "spark = SparkSession.builder.appName('Crimes').getOrCreate()\n",
    "sc = spark.sparkContext\n",
    "hive_context = HiveContext(sc)\n",
    "hive_context.sql(\"use dmp_yelp_rs\")\n",
    "hive_context.sql(\"show tables\").show()"
   ]
  },
  {
   "cell_type": "code",
   "execution_count": 2,
   "metadata": {},
   "outputs": [],
   "source": [
    "import numpy as np"
   ]
  },
  {
   "cell_type": "code",
   "execution_count": 3,
   "metadata": {},
   "outputs": [],
   "source": [
    "from pyspark.mllib.linalg import Vectors\n",
    "from pyspark.mllib.linalg.distributed import RowMatrix,CoordinateMatrix,MatrixEntry\n",
    "from pyspark.sql.functions import col, create_map, lit\n",
    "from itertools import chain\n",
    "from pyspark.ml.feature import StringIndexer"
   ]
  },
  {
   "cell_type": "code",
   "execution_count": 4,
   "metadata": {},
   "outputs": [],
   "source": [
    "import time\n",
    "start = time.time()"
   ]
  },
  {
   "cell_type": "code",
   "execution_count": null,
   "metadata": {},
   "outputs": [],
   "source": [
    "'BC'\n",
    "'FL'\n",
    "'GA'\n",
    "'MA'\n",
    "'WA'\n",
    "'TX'\n",
    "'OR'\n",
    "'OH'"
   ]
  },
  {
   "cell_type": "code",
   "execution_count": 8,
   "metadata": {},
   "outputs": [],
   "source": [
    "# Query for joining review table and biz table and filtering for OH, grouping by ids\n",
    "state = 'OH'\n",
    "SQL = \"\"\"\n",
    "SELECT\n",
    "\n",
    "a.user_id,\n",
    "a.business_id,\n",
    "avg(a.stars) as stars \n",
    "\n",
    "FROM\n",
    "\n",
    "review a\n",
    "\n",
    "INNER JOIN biz_table b ON b.business_id = a.business_id AND state = '%s'\n",
    "\n",
    "GROUP BY a.user_id, a.business_id\n",
    "\"\"\"%state"
   ]
  },
  {
   "cell_type": "code",
   "execution_count": 9,
   "metadata": {},
   "outputs": [],
   "source": [
    "# Running query\n",
    "df = spark.sql(SQL)"
   ]
  },
  {
   "cell_type": "code",
   "execution_count": 10,
   "metadata": {},
   "outputs": [],
   "source": [
    "# Creating string indexer, fitting df\n",
    "biz_indexer = StringIndexer(inputCol=\"business_id\", outputCol=\"business_id_new\").fit(df)\n",
    "usr_indexer = StringIndexer(inputCol=\"user_id\", outputCol=\"user_id_new\").fit(df)"
   ]
  },
  {
   "cell_type": "code",
   "execution_count": 11,
   "metadata": {},
   "outputs": [],
   "source": [
    "# Transform using string indexers\n",
    "df = biz_indexer.transform(df)\n",
    "df = usr_indexer.transform(df)"
   ]
  },
  {
   "cell_type": "code",
   "execution_count": 12,
   "metadata": {},
   "outputs": [],
   "source": [
    "# df = df.select(['user_id_new','business_id_new','stars'])"
   ]
  },
  {
   "cell_type": "code",
   "execution_count": 13,
   "metadata": {},
   "outputs": [],
   "source": [
    "# Create coordinate matrix\n",
    "mat = CoordinateMatrix(df.rdd.map(lambda r: MatrixEntry(r.user_id_new, r.business_id_new, r.stars)))"
   ]
  },
  {
   "cell_type": "code",
   "execution_count": 14,
   "metadata": {},
   "outputs": [],
   "source": [
    "# Convert matrix to row matrix\n",
    "mat = mat.toRowMatrix()"
   ]
  },
  {
   "cell_type": "code",
   "execution_count": null,
   "metadata": {},
   "outputs": [],
   "source": [
    "# Computing SVD --> 200 dimensions\n",
    "svd = mat.computeSVD(200, computeU=True)\n",
    "U = svd.U\n",
    "s = svd.s\n",
    "V = svd.V\n",
    "end = time.time()"
   ]
  },
  {
   "cell_type": "code",
   "execution_count": null,
   "metadata": {},
   "outputs": [],
   "source": [
    "# Create dfs from U, s, V matrices \n",
    "U_df = U.rows.map(lambda x: (x, )).toDF().toPandas()\n",
    "U_df = pd.DataFrame([list(x.toArray()) for x in U_df['_1']])\n",
    "\n",
    "s_df = pd.DataFrame(s.toArray())\n",
    "V_df = pd.DataFrame(V.toArray())"
   ]
  },
  {
   "cell_type": "code",
   "execution_count": null,
   "metadata": {},
   "outputs": [],
   "source": [
    "# Saving to csv\n",
    "U_df.to_csv('U_%s.csv'%state)\n",
    "V_df.to_csv('V_%s.csv'%state)\n",
    "s_df.to_csv('_%ss.csv'%state)"
   ]
  },
  {
   "cell_type": "code",
   "execution_count": null,
   "metadata": {},
   "outputs": [],
   "source": [
    "# Saving labels to csv\n",
    "pd.DataFrame(usr_indexer.labels).to_csv('usr_labels%s.csv'%state)\n",
    "pd.DataFrame(biz_indexer.labels).to_csv('biz_labels%s.csv'%state)"
   ]
  }
 ],
 "metadata": {
  "kernelspec": {
   "display_name": "Python 3",
   "language": "python",
   "name": "python3"
  },
  "language_info": {
   "codemirror_mode": {
    "name": "ipython",
    "version": 3
   },
   "file_extension": ".py",
   "mimetype": "text/x-python",
   "name": "python",
   "nbconvert_exporter": "python",
   "pygments_lexer": "ipython3",
   "version": "3.8.5"
  }
 },
 "nbformat": 4,
 "nbformat_minor": 2
}
